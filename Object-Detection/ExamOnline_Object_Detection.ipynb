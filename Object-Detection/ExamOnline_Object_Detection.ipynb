{
  "nbformat": 4,
  "nbformat_minor": 0,
  "metadata": {
    "colab": {
      "name": "ExamOnline_Object_Detection.ipynb",
      "provenance": [],
      "collapsed_sections": [],
      "machine_shape": "hm"
    },
    "kernelspec": {
      "name": "python3",
      "display_name": "Python 3"
    },
    "language_info": {
      "name": "python"
    },
    "accelerator": "GPU"
  },
  "cells": [
    {
      "cell_type": "markdown",
      "metadata": {
        "id": "4Q03Id0KwOnh"
      },
      "source": [
        "# Object Detection using TFOD-2.0\n",
        "\n",
        "*Items*\n",
        "1. Book\n",
        "2. Phones\n",
        "\n",
        "\n",
        "Author: [Sayan Nath](https://github.com/sayannath) <br>\n",
        "Date Created: 2021/08/07 <br>\n",
        "Last Updated: 2021/08/07"
      ]
    },
    {
      "cell_type": "markdown",
      "metadata": {
        "id": "X4Qh-j6NxIWA"
      },
      "source": [
        "## Inital-Setup"
      ]
    },
    {
      "cell_type": "code",
      "metadata": {
        "id": "wL68tF7iwCES",
        "colab": {
          "base_uri": "https://localhost:8080/"
        },
        "outputId": "069ab7ef-9480-492e-fc4f-446cbe8e8930"
      },
      "source": [
        "!nvidia-smi "
      ],
      "execution_count": 1,
      "outputs": [
        {
          "output_type": "stream",
          "name": "stdout",
          "text": [
            "Thu Oct 14 08:20:14 2021       \n",
            "+-----------------------------------------------------------------------------+\n",
            "| NVIDIA-SMI 470.74       Driver Version: 460.32.03    CUDA Version: 11.2     |\n",
            "|-------------------------------+----------------------+----------------------+\n",
            "| GPU  Name        Persistence-M| Bus-Id        Disp.A | Volatile Uncorr. ECC |\n",
            "| Fan  Temp  Perf  Pwr:Usage/Cap|         Memory-Usage | GPU-Util  Compute M. |\n",
            "|                               |                      |               MIG M. |\n",
            "|===============================+======================+======================|\n",
            "|   0  Tesla K80           Off  | 00000000:00:04.0 Off |                    0 |\n",
            "| N/A   64C    P8    30W / 149W |      0MiB / 11441MiB |      0%      Default |\n",
            "|                               |                      |                  N/A |\n",
            "+-------------------------------+----------------------+----------------------+\n",
            "                                                                               \n",
            "+-----------------------------------------------------------------------------+\n",
            "| Processes:                                                                  |\n",
            "|  GPU   GI   CI        PID   Type   Process name                  GPU Memory |\n",
            "|        ID   ID                                                   Usage      |\n",
            "|=============================================================================|\n",
            "|  No running processes found                                                 |\n",
            "+-----------------------------------------------------------------------------+\n"
          ]
        }
      ]
    },
    {
      "cell_type": "markdown",
      "metadata": {
        "id": "YRX_kqTEk1nT"
      },
      "source": [
        "## Data Gathering"
      ]
    },
    {
      "cell_type": "code",
      "metadata": {
        "colab": {
          "base_uri": "https://localhost:8080/"
        },
        "id": "d_gTpXIS3R42",
        "outputId": "25be1720-0b64-4620-d4a9-ea112db9d3b4"
      },
      "source": [
        "!curl -L \"https://app.roboflow.com/ds/cUEPk1D6iB?key=1lihfCuPwV\" > roboflow.zip; unzip -q roboflow.zip; rm -rf roboflow.zip"
      ],
      "execution_count": 2,
      "outputs": [
        {
          "output_type": "stream",
          "name": "stdout",
          "text": [
            "  % Total    % Received % Xferd  Average Speed   Time    Time     Time  Current\n",
            "                                 Dload  Upload   Total   Spent    Left  Speed\n",
            "100   891  100   891    0     0   1700      0 --:--:-- --:--:-- --:--:--  1697\n",
            "100 30.5M  100 30.5M    0     0  35.2M      0 --:--:-- --:--:-- --:--:-- 35.2M\n"
          ]
        }
      ]
    },
    {
      "cell_type": "code",
      "metadata": {
        "colab": {
          "base_uri": "https://localhost:8080/"
        },
        "id": "SlyR4BBP7Bos",
        "outputId": "4431b316-8d93-41bb-8a8f-6fcb7d9239a3"
      },
      "source": [
        "import tensorflow as tf\n",
        "print(tf.__version__)"
      ],
      "execution_count": 3,
      "outputs": [
        {
          "output_type": "stream",
          "name": "stdout",
          "text": [
            "2.6.0\n"
          ]
        }
      ]
    },
    {
      "cell_type": "markdown",
      "metadata": {
        "id": "8NN2HreyxTK_"
      },
      "source": [
        "## Cloning the TFOD 2.0 Repository"
      ]
    },
    {
      "cell_type": "code",
      "metadata": {
        "id": "laSV8i4NxUHK",
        "colab": {
          "base_uri": "https://localhost:8080/"
        },
        "outputId": "190b0502-e1f0-4bc7-c15c-d6741a406724"
      },
      "source": [
        "!git clone https://github.com/tensorflow/models.git"
      ],
      "execution_count": 4,
      "outputs": [
        {
          "output_type": "stream",
          "name": "stdout",
          "text": [
            "Cloning into 'models'...\n",
            "remote: Enumerating objects: 64916, done.\u001b[K\n",
            "remote: Counting objects: 100% (442/442), done.\u001b[K\n",
            "remote: Compressing objects: 100% (276/276), done.\u001b[K\n",
            "remote: Total 64916 (delta 313), reused 288 (delta 166), pack-reused 64474\u001b[K\n",
            "Receiving objects: 100% (64916/64916), 575.24 MiB | 29.65 MiB/s, done.\n",
            "Resolving deltas: 100% (45443/45443), done.\n"
          ]
        }
      ]
    },
    {
      "cell_type": "code",
      "metadata": {
        "id": "XC76NgKGxVnX",
        "colab": {
          "base_uri": "https://localhost:8080/"
        },
        "outputId": "92c7857e-d913-4477-89cd-76c18c6e9da6"
      },
      "source": [
        "cd /content/models/research"
      ],
      "execution_count": 5,
      "outputs": [
        {
          "output_type": "stream",
          "name": "stdout",
          "text": [
            "/content/models/research\n"
          ]
        }
      ]
    },
    {
      "cell_type": "code",
      "metadata": {
        "id": "nzCkGLOsxVkh"
      },
      "source": [
        "!protoc object_detection/protos/*.proto --python_out=."
      ],
      "execution_count": 6,
      "outputs": []
    },
    {
      "cell_type": "code",
      "metadata": {
        "id": "ME9JCeTaxVh8",
        "colab": {
          "base_uri": "https://localhost:8080/"
        },
        "outputId": "fb7ebcba-80bd-4573-e2cd-0610b7f94d88"
      },
      "source": [
        "!git clone https://github.com/cocodataset/cocoapi.git"
      ],
      "execution_count": 7,
      "outputs": [
        {
          "output_type": "stream",
          "name": "stdout",
          "text": [
            "Cloning into 'cocoapi'...\n",
            "remote: Enumerating objects: 975, done.\u001b[K\n",
            "remote: Total 975 (delta 0), reused 0 (delta 0), pack-reused 975\u001b[K\n",
            "Receiving objects: 100% (975/975), 11.72 MiB | 20.99 MiB/s, done.\n",
            "Resolving deltas: 100% (576/576), done.\n"
          ]
        }
      ]
    },
    {
      "cell_type": "code",
      "metadata": {
        "id": "04HZK7ylxVe1",
        "colab": {
          "base_uri": "https://localhost:8080/"
        },
        "outputId": "f433a458-02cd-4a19-99e0-64a361cdcc10"
      },
      "source": [
        "cd cocoapi/PythonAPI"
      ],
      "execution_count": 8,
      "outputs": [
        {
          "output_type": "stream",
          "name": "stdout",
          "text": [
            "/content/models/research/cocoapi/PythonAPI\n"
          ]
        }
      ]
    },
    {
      "cell_type": "code",
      "metadata": {
        "id": "-tErVorbxVcU",
        "colab": {
          "base_uri": "https://localhost:8080/"
        },
        "outputId": "347bb48e-9b53-45e7-8d51-d9723e70d69c"
      },
      "source": [
        "!make"
      ],
      "execution_count": 9,
      "outputs": [
        {
          "output_type": "stream",
          "name": "stdout",
          "text": [
            "python setup.py build_ext --inplace\n",
            "running build_ext\n",
            "cythoning pycocotools/_mask.pyx to pycocotools/_mask.c\n",
            "/usr/local/lib/python3.7/dist-packages/Cython/Compiler/Main.py:369: FutureWarning: Cython directive 'language_level' not set, using 2 for now (Py2). This will change in a later release! File: /content/models/research/cocoapi/PythonAPI/pycocotools/_mask.pyx\n",
            "  tree = Parsing.p_module(s, pxd, full_module_name)\n",
            "building 'pycocotools._mask' extension\n",
            "creating build\n",
            "creating build/common\n",
            "creating build/temp.linux-x86_64-3.7\n",
            "creating build/temp.linux-x86_64-3.7/pycocotools\n",
            "x86_64-linux-gnu-gcc -pthread -Wno-unused-result -Wsign-compare -DNDEBUG -g -fwrapv -O2 -Wall -g -fdebug-prefix-map=/build/python3.7-Y7dWVB/python3.7-3.7.12=. -fstack-protector-strong -Wformat -Werror=format-security -g -fdebug-prefix-map=/build/python3.7-Y7dWVB/python3.7-3.7.12=. -fstack-protector-strong -Wformat -Werror=format-security -Wdate-time -D_FORTIFY_SOURCE=2 -fPIC -I/usr/local/lib/python3.7/dist-packages/numpy/core/include -I../common -I/usr/include/python3.7m -c ../common/maskApi.c -o build/temp.linux-x86_64-3.7/../common/maskApi.o -Wno-cpp -Wno-unused-function -std=c99\n",
            "\u001b[01m\u001b[K../common/maskApi.c:\u001b[m\u001b[K In function ‘\u001b[01m\u001b[KrleDecode\u001b[m\u001b[K’:\n",
            "\u001b[01m\u001b[K../common/maskApi.c:46:7:\u001b[m\u001b[K \u001b[01;35m\u001b[Kwarning: \u001b[m\u001b[Kthis ‘\u001b[01m\u001b[Kfor\u001b[m\u001b[K’ clause does not guard... [\u001b[01;35m\u001b[K-Wmisleading-indentation\u001b[m\u001b[K]\n",
            "       \u001b[01;35m\u001b[Kfor\u001b[m\u001b[K( k=0; k<R[i].cnts[j]; k++ ) *(M++)=v; v=!v; }}\n",
            "       \u001b[01;35m\u001b[K^~~\u001b[m\u001b[K\n",
            "\u001b[01m\u001b[K../common/maskApi.c:46:49:\u001b[m\u001b[K \u001b[01;36m\u001b[Knote: \u001b[m\u001b[K...this statement, but the latter is misleadingly indented as if it were guarded by the ‘\u001b[01m\u001b[Kfor\u001b[m\u001b[K’\n",
            "       for( k=0; k<R[i].cnts[j]; k++ ) *(M++)=v; \u001b[01;36m\u001b[Kv\u001b[m\u001b[K=!v; }}\n",
            "                                                 \u001b[01;36m\u001b[K^\u001b[m\u001b[K\n",
            "\u001b[01m\u001b[K../common/maskApi.c:\u001b[m\u001b[K In function ‘\u001b[01m\u001b[KrleFrPoly\u001b[m\u001b[K’:\n",
            "\u001b[01m\u001b[K../common/maskApi.c:166:3:\u001b[m\u001b[K \u001b[01;35m\u001b[Kwarning: \u001b[m\u001b[Kthis ‘\u001b[01m\u001b[Kfor\u001b[m\u001b[K’ clause does not guard... [\u001b[01;35m\u001b[K-Wmisleading-indentation\u001b[m\u001b[K]\n",
            "   \u001b[01;35m\u001b[Kfor\u001b[m\u001b[K(j=0; j<k; j++) x[j]=(int)(scale*xy[j*2+0]+.5); x[k]=x[0];\n",
            "   \u001b[01;35m\u001b[K^~~\u001b[m\u001b[K\n",
            "\u001b[01m\u001b[K../common/maskApi.c:166:54:\u001b[m\u001b[K \u001b[01;36m\u001b[Knote: \u001b[m\u001b[K...this statement, but the latter is misleadingly indented as if it were guarded by the ‘\u001b[01m\u001b[Kfor\u001b[m\u001b[K’\n",
            "   for(j=0; j<k; j++) x[j]=(int)(scale*xy[j*2+0]+.5); \u001b[01;36m\u001b[Kx\u001b[m\u001b[K[k]=x[0];\n",
            "                                                      \u001b[01;36m\u001b[K^\u001b[m\u001b[K\n",
            "\u001b[01m\u001b[K../common/maskApi.c:167:3:\u001b[m\u001b[K \u001b[01;35m\u001b[Kwarning: \u001b[m\u001b[Kthis ‘\u001b[01m\u001b[Kfor\u001b[m\u001b[K’ clause does not guard... [\u001b[01;35m\u001b[K-Wmisleading-indentation\u001b[m\u001b[K]\n",
            "   \u001b[01;35m\u001b[Kfor\u001b[m\u001b[K(j=0; j<k; j++) y[j]=(int)(scale*xy[j*2+1]+.5); y[k]=y[0];\n",
            "   \u001b[01;35m\u001b[K^~~\u001b[m\u001b[K\n",
            "\u001b[01m\u001b[K../common/maskApi.c:167:54:\u001b[m\u001b[K \u001b[01;36m\u001b[Knote: \u001b[m\u001b[K...this statement, but the latter is misleadingly indented as if it were guarded by the ‘\u001b[01m\u001b[Kfor\u001b[m\u001b[K’\n",
            "   for(j=0; j<k; j++) y[j]=(int)(scale*xy[j*2+1]+.5); \u001b[01;36m\u001b[Ky\u001b[m\u001b[K[k]=y[0];\n",
            "                                                      \u001b[01;36m\u001b[K^\u001b[m\u001b[K\n",
            "\u001b[01m\u001b[K../common/maskApi.c:\u001b[m\u001b[K In function ‘\u001b[01m\u001b[KrleToString\u001b[m\u001b[K’:\n",
            "\u001b[01m\u001b[K../common/maskApi.c:212:7:\u001b[m\u001b[K \u001b[01;35m\u001b[Kwarning: \u001b[m\u001b[Kthis ‘\u001b[01m\u001b[Kif\u001b[m\u001b[K’ clause does not guard... [\u001b[01;35m\u001b[K-Wmisleading-indentation\u001b[m\u001b[K]\n",
            "       \u001b[01;35m\u001b[Kif\u001b[m\u001b[K(more) c |= 0x20; c+=48; s[p++]=c;\n",
            "       \u001b[01;35m\u001b[K^~\u001b[m\u001b[K\n",
            "\u001b[01m\u001b[K../common/maskApi.c:212:27:\u001b[m\u001b[K \u001b[01;36m\u001b[Knote: \u001b[m\u001b[K...this statement, but the latter is misleadingly indented as if it were guarded by the ‘\u001b[01m\u001b[Kif\u001b[m\u001b[K’\n",
            "       if(more) c |= 0x20; \u001b[01;36m\u001b[Kc\u001b[m\u001b[K+=48; s[p++]=c;\n",
            "                           \u001b[01;36m\u001b[K^\u001b[m\u001b[K\n",
            "\u001b[01m\u001b[K../common/maskApi.c:\u001b[m\u001b[K In function ‘\u001b[01m\u001b[KrleFrString\u001b[m\u001b[K’:\n",
            "\u001b[01m\u001b[K../common/maskApi.c:220:3:\u001b[m\u001b[K \u001b[01;35m\u001b[Kwarning: \u001b[m\u001b[Kthis ‘\u001b[01m\u001b[Kwhile\u001b[m\u001b[K’ clause does not guard... [\u001b[01;35m\u001b[K-Wmisleading-indentation\u001b[m\u001b[K]\n",
            "   \u001b[01;35m\u001b[Kwhile\u001b[m\u001b[K( s[m] ) m++; cnts=malloc(sizeof(uint)*m); m=0;\n",
            "   \u001b[01;35m\u001b[K^~~~~\u001b[m\u001b[K\n",
            "\u001b[01m\u001b[K../common/maskApi.c:220:22:\u001b[m\u001b[K \u001b[01;36m\u001b[Knote: \u001b[m\u001b[K...this statement, but the latter is misleadingly indented as if it were guarded by the ‘\u001b[01m\u001b[Kwhile\u001b[m\u001b[K’\n",
            "   while( s[m] ) m++; \u001b[01;36m\u001b[Kcnts\u001b[m\u001b[K=malloc(sizeof(uint)*m); m=0;\n",
            "                      \u001b[01;36m\u001b[K^~~~\u001b[m\u001b[K\n",
            "\u001b[01m\u001b[K../common/maskApi.c:228:5:\u001b[m\u001b[K \u001b[01;35m\u001b[Kwarning: \u001b[m\u001b[Kthis ‘\u001b[01m\u001b[Kif\u001b[m\u001b[K’ clause does not guard... [\u001b[01;35m\u001b[K-Wmisleading-indentation\u001b[m\u001b[K]\n",
            "     \u001b[01;35m\u001b[Kif\u001b[m\u001b[K(m>2) x+=(long) cnts[m-2]; cnts[m++]=(uint) x;\n",
            "     \u001b[01;35m\u001b[K^~\u001b[m\u001b[K\n",
            "\u001b[01m\u001b[K../common/maskApi.c:228:34:\u001b[m\u001b[K \u001b[01;36m\u001b[Knote: \u001b[m\u001b[K...this statement, but the latter is misleadingly indented as if it were guarded by the ‘\u001b[01m\u001b[Kif\u001b[m\u001b[K’\n",
            "     if(m>2) x+=(long) cnts[m-2]; \u001b[01;36m\u001b[Kcnts\u001b[m\u001b[K[m++]=(uint) x;\n",
            "                                  \u001b[01;36m\u001b[K^~~~\u001b[m\u001b[K\n",
            "\u001b[01m\u001b[K../common/maskApi.c:\u001b[m\u001b[K In function ‘\u001b[01m\u001b[KrleToBbox\u001b[m\u001b[K’:\n",
            "\u001b[01m\u001b[K../common/maskApi.c:141:31:\u001b[m\u001b[K \u001b[01;35m\u001b[Kwarning: \u001b[m\u001b[K‘\u001b[01m\u001b[Kxp\u001b[m\u001b[K’ may be used uninitialized in this function [\u001b[01;35m\u001b[K-Wmaybe-uninitialized\u001b[m\u001b[K]\n",
            "       if(j%2==0) xp=x; else if\u001b[01;35m\u001b[K(\u001b[m\u001b[Kxp<x) { ys=0; ye=h-1; }\n",
            "                               \u001b[01;35m\u001b[K^\u001b[m\u001b[K\n",
            "x86_64-linux-gnu-gcc -pthread -Wno-unused-result -Wsign-compare -DNDEBUG -g -fwrapv -O2 -Wall -g -fdebug-prefix-map=/build/python3.7-Y7dWVB/python3.7-3.7.12=. -fstack-protector-strong -Wformat -Werror=format-security -g -fdebug-prefix-map=/build/python3.7-Y7dWVB/python3.7-3.7.12=. -fstack-protector-strong -Wformat -Werror=format-security -Wdate-time -D_FORTIFY_SOURCE=2 -fPIC -I/usr/local/lib/python3.7/dist-packages/numpy/core/include -I../common -I/usr/include/python3.7m -c pycocotools/_mask.c -o build/temp.linux-x86_64-3.7/pycocotools/_mask.o -Wno-cpp -Wno-unused-function -std=c99\n",
            "creating build/lib.linux-x86_64-3.7\n",
            "creating build/lib.linux-x86_64-3.7/pycocotools\n",
            "x86_64-linux-gnu-gcc -pthread -shared -Wl,-O1 -Wl,-Bsymbolic-functions -Wl,-Bsymbolic-functions -Wl,-z,relro -Wl,-Bsymbolic-functions -Wl,-z,relro -g -fdebug-prefix-map=/build/python3.7-Y7dWVB/python3.7-3.7.12=. -fstack-protector-strong -Wformat -Werror=format-security -Wdate-time -D_FORTIFY_SOURCE=2 build/temp.linux-x86_64-3.7/../common/maskApi.o build/temp.linux-x86_64-3.7/pycocotools/_mask.o -o build/lib.linux-x86_64-3.7/pycocotools/_mask.cpython-37m-x86_64-linux-gnu.so\n",
            "copying build/lib.linux-x86_64-3.7/pycocotools/_mask.cpython-37m-x86_64-linux-gnu.so -> pycocotools\n",
            "rm -rf build\n"
          ]
        }
      ]
    },
    {
      "cell_type": "code",
      "metadata": {
        "id": "ba19PlKaxVZ9"
      },
      "source": [
        "cp -r pycocotools /content/models/research"
      ],
      "execution_count": 10,
      "outputs": []
    },
    {
      "cell_type": "markdown",
      "metadata": {
        "id": "Gs7kphtWxhBl"
      },
      "source": [
        "## Install the Object Detection API"
      ]
    },
    {
      "cell_type": "code",
      "metadata": {
        "id": "l0Y538BSxfuL",
        "colab": {
          "base_uri": "https://localhost:8080/"
        },
        "outputId": "3fa885be-d7e7-4aff-a5fe-949cbf582667"
      },
      "source": [
        "cd .."
      ],
      "execution_count": 11,
      "outputs": [
        {
          "output_type": "stream",
          "name": "stdout",
          "text": [
            "/content/models/research/cocoapi\n"
          ]
        }
      ]
    },
    {
      "cell_type": "code",
      "metadata": {
        "id": "oF4G9IZDxkA0",
        "colab": {
          "base_uri": "https://localhost:8080/"
        },
        "outputId": "b6ccb850-3612-472a-aa9b-114b4745f7f2"
      },
      "source": [
        "cd .."
      ],
      "execution_count": 12,
      "outputs": [
        {
          "output_type": "stream",
          "name": "stdout",
          "text": [
            "/content/models/research\n"
          ]
        }
      ]
    },
    {
      "cell_type": "code",
      "metadata": {
        "id": "XdsDJr9Vxj9f"
      },
      "source": [
        "cp object_detection/packages/tf2/setup.py ."
      ],
      "execution_count": 13,
      "outputs": []
    },
    {
      "cell_type": "code",
      "metadata": {
        "id": "j7NBFs19xoEt",
        "colab": {
          "base_uri": "https://localhost:8080/"
        },
        "outputId": "a6844222-9d97-4a0a-f27c-effce30f00e0"
      },
      "source": [
        "!python -m pip -q install ."
      ],
      "execution_count": 14,
      "outputs": [
        {
          "output_type": "stream",
          "name": "stdout",
          "text": [
            "\u001b[33m  DEPRECATION: A future pip version will change local packages to be built in-place without first copying to a temporary directory. We recommend you use --use-feature=in-tree-build to test your packages with this new behavior before it becomes the default.\n",
            "   pip 21.3 will remove support for this functionality. You can find discussion regarding this at https://github.com/pypa/pip/issues/7555.\u001b[0m\n",
            "\u001b[K     |████████████████████████████████| 9.8 MB 8.3 MB/s \n",
            "\u001b[K     |████████████████████████████████| 352 kB 47.1 MB/s \n",
            "\u001b[K     |████████████████████████████████| 1.8 MB 24.4 MB/s \n",
            "\u001b[K     |████████████████████████████████| 1.1 MB 45.5 MB/s \n",
            "\u001b[K     |████████████████████████████████| 4.4 MB 39.6 MB/s \n",
            "\u001b[K     |████████████████████████████████| 213 kB 45.0 MB/s \n",
            "\u001b[K     |████████████████████████████████| 37.1 MB 46 kB/s \n",
            "\u001b[K     |████████████████████████████████| 596 kB 33.1 MB/s \n",
            "\u001b[K     |████████████████████████████████| 43 kB 2.1 MB/s \n",
            "\u001b[K     |████████████████████████████████| 1.2 MB 35.8 MB/s \n",
            "\u001b[K     |████████████████████████████████| 99 kB 8.9 MB/s \n",
            "\u001b[K     |████████████████████████████████| 90 kB 8.6 MB/s \n",
            "\u001b[K     |████████████████████████████████| 249 kB 47.6 MB/s \n",
            "\u001b[K     |████████████████████████████████| 829 kB 50.4 MB/s \n",
            "\u001b[K     |████████████████████████████████| 62 kB 798 kB/s \n",
            "\u001b[K     |████████████████████████████████| 2.3 MB 32.4 MB/s \n",
            "\u001b[K     |████████████████████████████████| 151 kB 28.8 MB/s \n",
            "\u001b[?25h  Building wheel for object-detection (setup.py) ... \u001b[?25l\u001b[?25hdone\n",
            "  Building wheel for py-cpuinfo (setup.py) ... \u001b[?25l\u001b[?25hdone\n",
            "  Building wheel for avro-python3 (setup.py) ... \u001b[?25l\u001b[?25hdone\n",
            "  Building wheel for dill (setup.py) ... \u001b[?25l\u001b[?25hdone\n",
            "  Building wheel for future (setup.py) ... \u001b[?25l\u001b[?25hdone\n",
            "  Building wheel for seqeval (setup.py) ... \u001b[?25l\u001b[?25hdone\n",
            "\u001b[31mERROR: pip's dependency resolver does not currently take into account all the packages that are installed. This behaviour is the source of the following dependency conflicts.\n",
            "multiprocess 0.70.12.2 requires dill>=0.3.4, but you have dill 0.3.1.1 which is incompatible.\n",
            "google-colab 1.0.0 requires requests~=2.23.0, but you have requests 2.26.0 which is incompatible.\n",
            "datascience 0.10.6 requires folium==0.2.1, but you have folium 0.8.3 which is incompatible.\u001b[0m\n"
          ]
        }
      ]
    },
    {
      "cell_type": "markdown",
      "metadata": {
        "id": "7DX2wbhPxtP7"
      },
      "source": [
        "## Test the installation"
      ]
    },
    {
      "cell_type": "code",
      "metadata": {
        "id": "RbusGM9y9c0i",
        "colab": {
          "base_uri": "https://localhost:8080/"
        },
        "outputId": "c25f5261-90f4-4d29-bd53-50c8f38e7278"
      },
      "source": [
        "ls"
      ],
      "execution_count": 15,
      "outputs": [
        {
          "output_type": "stream",
          "name": "stdout",
          "text": [
            "\u001b[0m\u001b[01;34madversarial_text\u001b[0m/    \u001b[01;34mcvt_text\u001b[0m/       \u001b[01;34mlstm_object_detection\u001b[0m/  README.md\n",
            "\u001b[01;34mattention_ocr\u001b[0m/       \u001b[01;34mdeeplab\u001b[0m/        \u001b[01;34mmarco\u001b[0m/                  \u001b[01;34mrebar\u001b[0m/\n",
            "\u001b[01;34maudioset\u001b[0m/            \u001b[01;34mdeep_speech\u001b[0m/    \u001b[01;34mnst_blogpost\u001b[0m/           \u001b[01;34mseq_flow_lite\u001b[0m/\n",
            "\u001b[01;34mautoaugment\u001b[0m/         \u001b[01;34mdelf\u001b[0m/           \u001b[01;34mobject_detection\u001b[0m/       setup.py\n",
            "\u001b[01;34mcocoapi\u001b[0m/             \u001b[01;34mefficient-hrl\u001b[0m/  \u001b[01;34mpcl_rl\u001b[0m/                 \u001b[01;34mslim\u001b[0m/\n",
            "\u001b[01;34mcognitive_planning\u001b[0m/  \u001b[01;34mlfads\u001b[0m/          \u001b[01;34mpycocotools\u001b[0m/            \u001b[01;34mvid2depth\u001b[0m/\n"
          ]
        }
      ]
    },
    {
      "cell_type": "code",
      "metadata": {
        "id": "LPM8YfodxpwE",
        "colab": {
          "base_uri": "https://localhost:8080/"
        },
        "outputId": "586adb50-5607-49e1-bc44-a77b99a4e644"
      },
      "source": [
        "# From within TensorFlow/models/research/\n",
        "!python /content/models/research/object_detection/builders/model_builder_tf2_test.py"
      ],
      "execution_count": 16,
      "outputs": [
        {
          "output_type": "stream",
          "name": "stdout",
          "text": [
            "2021-10-14 08:21:42.218883: I tensorflow/stream_executor/cuda/cuda_gpu_executor.cc:937] successful NUMA node read from SysFS had negative value (-1), but there must be at least one NUMA node, so returning NUMA node zero\n",
            "2021-10-14 08:21:42.629960: I tensorflow/stream_executor/cuda/cuda_gpu_executor.cc:937] successful NUMA node read from SysFS had negative value (-1), but there must be at least one NUMA node, so returning NUMA node zero\n",
            "2021-10-14 08:21:42.630846: I tensorflow/stream_executor/cuda/cuda_gpu_executor.cc:937] successful NUMA node read from SysFS had negative value (-1), but there must be at least one NUMA node, so returning NUMA node zero\n",
            "Running tests under Python 3.7.12: /usr/bin/python3\n",
            "[ RUN      ] ModelBuilderTF2Test.test_create_center_net_deepmac\n",
            "2021-10-14 08:21:42.648958: I tensorflow/stream_executor/cuda/cuda_gpu_executor.cc:937] successful NUMA node read from SysFS had negative value (-1), but there must be at least one NUMA node, so returning NUMA node zero\n",
            "2021-10-14 08:21:42.649809: I tensorflow/stream_executor/cuda/cuda_gpu_executor.cc:937] successful NUMA node read from SysFS had negative value (-1), but there must be at least one NUMA node, so returning NUMA node zero\n",
            "2021-10-14 08:21:42.650705: I tensorflow/stream_executor/cuda/cuda_gpu_executor.cc:937] successful NUMA node read from SysFS had negative value (-1), but there must be at least one NUMA node, so returning NUMA node zero\n",
            "2021-10-14 08:21:47.876405: I tensorflow/stream_executor/cuda/cuda_gpu_executor.cc:937] successful NUMA node read from SysFS had negative value (-1), but there must be at least one NUMA node, so returning NUMA node zero\n",
            "2021-10-14 08:21:47.877252: I tensorflow/stream_executor/cuda/cuda_gpu_executor.cc:937] successful NUMA node read from SysFS had negative value (-1), but there must be at least one NUMA node, so returning NUMA node zero\n",
            "2021-10-14 08:21:47.878005: I tensorflow/stream_executor/cuda/cuda_gpu_executor.cc:937] successful NUMA node read from SysFS had negative value (-1), but there must be at least one NUMA node, so returning NUMA node zero\n",
            "2021-10-14 08:21:47.878837: W tensorflow/core/common_runtime/gpu/gpu_bfc_allocator.cc:39] Overriding allow_growth setting because the TF_FORCE_GPU_ALLOW_GROWTH environment variable is set. Original config value was 0.\n",
            "2021-10-14 08:21:47.878919: I tensorflow/core/common_runtime/gpu/gpu_device.cc:1510] Created device /job:localhost/replica:0/task:0/device:GPU:0 with 10819 MB memory:  -> device: 0, name: Tesla K80, pci bus id: 0000:00:04.0, compute capability: 3.7\n",
            "W1014 08:21:48.247009 139679663589248 model_builder.py:1100] Building experimental DeepMAC meta-arch. Some features may be omitted.\n",
            "INFO:tensorflow:time(__main__.ModelBuilderTF2Test.test_create_center_net_deepmac): 6.03s\n",
            "I1014 08:21:48.671006 139679663589248 test_util.py:2189] time(__main__.ModelBuilderTF2Test.test_create_center_net_deepmac): 6.03s\n",
            "[       OK ] ModelBuilderTF2Test.test_create_center_net_deepmac\n",
            "[ RUN      ] ModelBuilderTF2Test.test_create_center_net_model0 (customize_head_params=True)\n",
            "INFO:tensorflow:time(__main__.ModelBuilderTF2Test.test_create_center_net_model0 (customize_head_params=True)): 0.61s\n",
            "I1014 08:21:49.283352 139679663589248 test_util.py:2189] time(__main__.ModelBuilderTF2Test.test_create_center_net_model0 (customize_head_params=True)): 0.61s\n",
            "[       OK ] ModelBuilderTF2Test.test_create_center_net_model0 (customize_head_params=True)\n",
            "[ RUN      ] ModelBuilderTF2Test.test_create_center_net_model1 (customize_head_params=False)\n",
            "INFO:tensorflow:time(__main__.ModelBuilderTF2Test.test_create_center_net_model1 (customize_head_params=False)): 0.36s\n",
            "I1014 08:21:49.644566 139679663589248 test_util.py:2189] time(__main__.ModelBuilderTF2Test.test_create_center_net_model1 (customize_head_params=False)): 0.36s\n",
            "[       OK ] ModelBuilderTF2Test.test_create_center_net_model1 (customize_head_params=False)\n",
            "[ RUN      ] ModelBuilderTF2Test.test_create_center_net_model_from_keypoints\n",
            "INFO:tensorflow:time(__main__.ModelBuilderTF2Test.test_create_center_net_model_from_keypoints): 0.32s\n",
            "I1014 08:21:49.967303 139679663589248 test_util.py:2189] time(__main__.ModelBuilderTF2Test.test_create_center_net_model_from_keypoints): 0.32s\n",
            "[       OK ] ModelBuilderTF2Test.test_create_center_net_model_from_keypoints\n",
            "[ RUN      ] ModelBuilderTF2Test.test_create_center_net_model_mobilenet\n",
            "INFO:tensorflow:time(__main__.ModelBuilderTF2Test.test_create_center_net_model_mobilenet): 2.12s\n",
            "I1014 08:21:52.088016 139679663589248 test_util.py:2189] time(__main__.ModelBuilderTF2Test.test_create_center_net_model_mobilenet): 2.12s\n",
            "[       OK ] ModelBuilderTF2Test.test_create_center_net_model_mobilenet\n",
            "[ RUN      ] ModelBuilderTF2Test.test_create_experimental_model\n",
            "INFO:tensorflow:time(__main__.ModelBuilderTF2Test.test_create_experimental_model): 0.0s\n",
            "I1014 08:21:52.089100 139679663589248 test_util.py:2189] time(__main__.ModelBuilderTF2Test.test_create_experimental_model): 0.0s\n",
            "[       OK ] ModelBuilderTF2Test.test_create_experimental_model\n",
            "[ RUN      ] ModelBuilderTF2Test.test_create_faster_rcnn_from_config_with_crop_feature0 (True)\n",
            "INFO:tensorflow:time(__main__.ModelBuilderTF2Test.test_create_faster_rcnn_from_config_with_crop_feature0 (True)): 0.02s\n",
            "I1014 08:21:52.114443 139679663589248 test_util.py:2189] time(__main__.ModelBuilderTF2Test.test_create_faster_rcnn_from_config_with_crop_feature0 (True)): 0.02s\n",
            "[       OK ] ModelBuilderTF2Test.test_create_faster_rcnn_from_config_with_crop_feature0 (True)\n",
            "[ RUN      ] ModelBuilderTF2Test.test_create_faster_rcnn_from_config_with_crop_feature1 (False)\n",
            "INFO:tensorflow:time(__main__.ModelBuilderTF2Test.test_create_faster_rcnn_from_config_with_crop_feature1 (False)): 0.02s\n",
            "I1014 08:21:52.131995 139679663589248 test_util.py:2189] time(__main__.ModelBuilderTF2Test.test_create_faster_rcnn_from_config_with_crop_feature1 (False)): 0.02s\n",
            "[       OK ] ModelBuilderTF2Test.test_create_faster_rcnn_from_config_with_crop_feature1 (False)\n",
            "[ RUN      ] ModelBuilderTF2Test.test_create_faster_rcnn_model_from_config_with_example_miner\n",
            "INFO:tensorflow:time(__main__.ModelBuilderTF2Test.test_create_faster_rcnn_model_from_config_with_example_miner): 0.02s\n",
            "I1014 08:21:52.149380 139679663589248 test_util.py:2189] time(__main__.ModelBuilderTF2Test.test_create_faster_rcnn_model_from_config_with_example_miner): 0.02s\n",
            "[       OK ] ModelBuilderTF2Test.test_create_faster_rcnn_model_from_config_with_example_miner\n",
            "[ RUN      ] ModelBuilderTF2Test.test_create_faster_rcnn_models_from_config_faster_rcnn_with_matmul\n",
            "INFO:tensorflow:time(__main__.ModelBuilderTF2Test.test_create_faster_rcnn_models_from_config_faster_rcnn_with_matmul): 0.12s\n",
            "I1014 08:21:52.267666 139679663589248 test_util.py:2189] time(__main__.ModelBuilderTF2Test.test_create_faster_rcnn_models_from_config_faster_rcnn_with_matmul): 0.12s\n",
            "[       OK ] ModelBuilderTF2Test.test_create_faster_rcnn_models_from_config_faster_rcnn_with_matmul\n",
            "[ RUN      ] ModelBuilderTF2Test.test_create_faster_rcnn_models_from_config_faster_rcnn_without_matmul\n",
            "INFO:tensorflow:time(__main__.ModelBuilderTF2Test.test_create_faster_rcnn_models_from_config_faster_rcnn_without_matmul): 0.12s\n",
            "I1014 08:21:52.383996 139679663589248 test_util.py:2189] time(__main__.ModelBuilderTF2Test.test_create_faster_rcnn_models_from_config_faster_rcnn_without_matmul): 0.12s\n",
            "[       OK ] ModelBuilderTF2Test.test_create_faster_rcnn_models_from_config_faster_rcnn_without_matmul\n",
            "[ RUN      ] ModelBuilderTF2Test.test_create_faster_rcnn_models_from_config_mask_rcnn_with_matmul\n",
            "INFO:tensorflow:time(__main__.ModelBuilderTF2Test.test_create_faster_rcnn_models_from_config_mask_rcnn_with_matmul): 0.13s\n",
            "I1014 08:21:52.512224 139679663589248 test_util.py:2189] time(__main__.ModelBuilderTF2Test.test_create_faster_rcnn_models_from_config_mask_rcnn_with_matmul): 0.13s\n",
            "[       OK ] ModelBuilderTF2Test.test_create_faster_rcnn_models_from_config_mask_rcnn_with_matmul\n",
            "[ RUN      ] ModelBuilderTF2Test.test_create_faster_rcnn_models_from_config_mask_rcnn_without_matmul\n",
            "INFO:tensorflow:time(__main__.ModelBuilderTF2Test.test_create_faster_rcnn_models_from_config_mask_rcnn_without_matmul): 0.12s\n",
            "I1014 08:21:52.636152 139679663589248 test_util.py:2189] time(__main__.ModelBuilderTF2Test.test_create_faster_rcnn_models_from_config_mask_rcnn_without_matmul): 0.12s\n",
            "[       OK ] ModelBuilderTF2Test.test_create_faster_rcnn_models_from_config_mask_rcnn_without_matmul\n",
            "[ RUN      ] ModelBuilderTF2Test.test_create_rfcn_model_from_config\n",
            "INFO:tensorflow:time(__main__.ModelBuilderTF2Test.test_create_rfcn_model_from_config): 0.12s\n",
            "I1014 08:21:52.756527 139679663589248 test_util.py:2189] time(__main__.ModelBuilderTF2Test.test_create_rfcn_model_from_config): 0.12s\n",
            "[       OK ] ModelBuilderTF2Test.test_create_rfcn_model_from_config\n",
            "[ RUN      ] ModelBuilderTF2Test.test_create_ssd_fpn_model_from_config\n",
            "INFO:tensorflow:time(__main__.ModelBuilderTF2Test.test_create_ssd_fpn_model_from_config): 0.03s\n",
            "I1014 08:21:52.788856 139679663589248 test_util.py:2189] time(__main__.ModelBuilderTF2Test.test_create_ssd_fpn_model_from_config): 0.03s\n",
            "[       OK ] ModelBuilderTF2Test.test_create_ssd_fpn_model_from_config\n",
            "[ RUN      ] ModelBuilderTF2Test.test_create_ssd_models_from_config\n",
            "I1014 08:21:53.150640 139679663589248 ssd_efficientnet_bifpn_feature_extractor.py:143] EfficientDet EfficientNet backbone version: efficientnet-b0\n",
            "I1014 08:21:53.150868 139679663589248 ssd_efficientnet_bifpn_feature_extractor.py:144] EfficientDet BiFPN num filters: 64\n",
            "I1014 08:21:53.151005 139679663589248 ssd_efficientnet_bifpn_feature_extractor.py:146] EfficientDet BiFPN num iterations: 3\n",
            "I1014 08:21:53.153615 139679663589248 efficientnet_model.py:147] round_filter input=32 output=32\n",
            "I1014 08:21:53.173972 139679663589248 efficientnet_model.py:147] round_filter input=32 output=32\n",
            "I1014 08:21:53.174111 139679663589248 efficientnet_model.py:147] round_filter input=16 output=16\n",
            "I1014 08:21:53.241672 139679663589248 efficientnet_model.py:147] round_filter input=16 output=16\n",
            "I1014 08:21:53.241818 139679663589248 efficientnet_model.py:147] round_filter input=24 output=24\n",
            "I1014 08:21:53.427060 139679663589248 efficientnet_model.py:147] round_filter input=24 output=24\n",
            "I1014 08:21:53.427287 139679663589248 efficientnet_model.py:147] round_filter input=40 output=40\n",
            "I1014 08:21:53.600530 139679663589248 efficientnet_model.py:147] round_filter input=40 output=40\n",
            "I1014 08:21:53.600700 139679663589248 efficientnet_model.py:147] round_filter input=80 output=80\n",
            "I1014 08:21:53.858468 139679663589248 efficientnet_model.py:147] round_filter input=80 output=80\n",
            "I1014 08:21:53.858715 139679663589248 efficientnet_model.py:147] round_filter input=112 output=112\n",
            "I1014 08:21:54.126978 139679663589248 efficientnet_model.py:147] round_filter input=112 output=112\n",
            "I1014 08:21:54.127179 139679663589248 efficientnet_model.py:147] round_filter input=192 output=192\n",
            "I1014 08:21:54.478656 139679663589248 efficientnet_model.py:147] round_filter input=192 output=192\n",
            "I1014 08:21:54.478840 139679663589248 efficientnet_model.py:147] round_filter input=320 output=320\n",
            "I1014 08:21:54.565229 139679663589248 efficientnet_model.py:147] round_filter input=1280 output=1280\n",
            "I1014 08:21:54.598480 139679663589248 efficientnet_model.py:458] Building model efficientnet with params ModelConfig(width_coefficient=1.0, depth_coefficient=1.0, resolution=224, dropout_rate=0.2, blocks=(BlockConfig(input_filters=32, output_filters=16, kernel_size=3, num_repeat=1, expand_ratio=1, strides=(1, 1), se_ratio=0.25, id_skip=True, fused_conv=False, conv_type='depthwise'), BlockConfig(input_filters=16, output_filters=24, kernel_size=3, num_repeat=2, expand_ratio=6, strides=(2, 2), se_ratio=0.25, id_skip=True, fused_conv=False, conv_type='depthwise'), BlockConfig(input_filters=24, output_filters=40, kernel_size=5, num_repeat=2, expand_ratio=6, strides=(2, 2), se_ratio=0.25, id_skip=True, fused_conv=False, conv_type='depthwise'), BlockConfig(input_filters=40, output_filters=80, kernel_size=3, num_repeat=3, expand_ratio=6, strides=(2, 2), se_ratio=0.25, id_skip=True, fused_conv=False, conv_type='depthwise'), BlockConfig(input_filters=80, output_filters=112, kernel_size=5, num_repeat=3, expand_ratio=6, strides=(1, 1), se_ratio=0.25, id_skip=True, fused_conv=False, conv_type='depthwise'), BlockConfig(input_filters=112, output_filters=192, kernel_size=5, num_repeat=4, expand_ratio=6, strides=(2, 2), se_ratio=0.25, id_skip=True, fused_conv=False, conv_type='depthwise'), BlockConfig(input_filters=192, output_filters=320, kernel_size=3, num_repeat=1, expand_ratio=6, strides=(1, 1), se_ratio=0.25, id_skip=True, fused_conv=False, conv_type='depthwise')), stem_base_filters=32, top_base_filters=1280, activation='simple_swish', batch_norm='default', bn_momentum=0.99, bn_epsilon=0.001, weight_decay=5e-06, drop_connect_rate=0.2, depth_divisor=8, min_depth=None, use_se=True, input_channels=3, num_classes=1000, model_name='efficientnet', rescale_input=False, data_format='channels_last', dtype='float32')\n",
            "I1014 08:21:54.658366 139679663589248 ssd_efficientnet_bifpn_feature_extractor.py:143] EfficientDet EfficientNet backbone version: efficientnet-b1\n",
            "I1014 08:21:54.658492 139679663589248 ssd_efficientnet_bifpn_feature_extractor.py:144] EfficientDet BiFPN num filters: 88\n",
            "I1014 08:21:54.658594 139679663589248 ssd_efficientnet_bifpn_feature_extractor.py:146] EfficientDet BiFPN num iterations: 4\n",
            "I1014 08:21:54.660387 139679663589248 efficientnet_model.py:147] round_filter input=32 output=32\n",
            "I1014 08:21:54.677196 139679663589248 efficientnet_model.py:147] round_filter input=32 output=32\n",
            "I1014 08:21:54.677328 139679663589248 efficientnet_model.py:147] round_filter input=16 output=16\n",
            "I1014 08:21:54.814108 139679663589248 efficientnet_model.py:147] round_filter input=16 output=16\n",
            "I1014 08:21:54.814281 139679663589248 efficientnet_model.py:147] round_filter input=24 output=24\n",
            "I1014 08:21:55.079057 139679663589248 efficientnet_model.py:147] round_filter input=24 output=24\n",
            "I1014 08:21:55.079302 139679663589248 efficientnet_model.py:147] round_filter input=40 output=40\n",
            "I1014 08:21:55.336186 139679663589248 efficientnet_model.py:147] round_filter input=40 output=40\n",
            "I1014 08:21:55.336398 139679663589248 efficientnet_model.py:147] round_filter input=80 output=80\n",
            "I1014 08:21:55.704443 139679663589248 efficientnet_model.py:147] round_filter input=80 output=80\n",
            "I1014 08:21:55.704636 139679663589248 efficientnet_model.py:147] round_filter input=112 output=112\n",
            "I1014 08:21:56.049044 139679663589248 efficientnet_model.py:147] round_filter input=112 output=112\n",
            "I1014 08:21:56.049224 139679663589248 efficientnet_model.py:147] round_filter input=192 output=192\n",
            "I1014 08:21:56.494036 139679663589248 efficientnet_model.py:147] round_filter input=192 output=192\n",
            "I1014 08:21:56.494221 139679663589248 efficientnet_model.py:147] round_filter input=320 output=320\n",
            "I1014 08:21:56.666460 139679663589248 efficientnet_model.py:147] round_filter input=1280 output=1280\n",
            "I1014 08:21:56.699704 139679663589248 efficientnet_model.py:458] Building model efficientnet with params ModelConfig(width_coefficient=1.0, depth_coefficient=1.1, resolution=240, dropout_rate=0.2, blocks=(BlockConfig(input_filters=32, output_filters=16, kernel_size=3, num_repeat=1, expand_ratio=1, strides=(1, 1), se_ratio=0.25, id_skip=True, fused_conv=False, conv_type='depthwise'), BlockConfig(input_filters=16, output_filters=24, kernel_size=3, num_repeat=2, expand_ratio=6, strides=(2, 2), se_ratio=0.25, id_skip=True, fused_conv=False, conv_type='depthwise'), BlockConfig(input_filters=24, output_filters=40, kernel_size=5, num_repeat=2, expand_ratio=6, strides=(2, 2), se_ratio=0.25, id_skip=True, fused_conv=False, conv_type='depthwise'), BlockConfig(input_filters=40, output_filters=80, kernel_size=3, num_repeat=3, expand_ratio=6, strides=(2, 2), se_ratio=0.25, id_skip=True, fused_conv=False, conv_type='depthwise'), BlockConfig(input_filters=80, output_filters=112, kernel_size=5, num_repeat=3, expand_ratio=6, strides=(1, 1), se_ratio=0.25, id_skip=True, fused_conv=False, conv_type='depthwise'), BlockConfig(input_filters=112, output_filters=192, kernel_size=5, num_repeat=4, expand_ratio=6, strides=(2, 2), se_ratio=0.25, id_skip=True, fused_conv=False, conv_type='depthwise'), BlockConfig(input_filters=192, output_filters=320, kernel_size=3, num_repeat=1, expand_ratio=6, strides=(1, 1), se_ratio=0.25, id_skip=True, fused_conv=False, conv_type='depthwise')), stem_base_filters=32, top_base_filters=1280, activation='simple_swish', batch_norm='default', bn_momentum=0.99, bn_epsilon=0.001, weight_decay=5e-06, drop_connect_rate=0.2, depth_divisor=8, min_depth=None, use_se=True, input_channels=3, num_classes=1000, model_name='efficientnet', rescale_input=False, data_format='channels_last', dtype='float32')\n",
            "I1014 08:21:56.893848 139679663589248 ssd_efficientnet_bifpn_feature_extractor.py:143] EfficientDet EfficientNet backbone version: efficientnet-b2\n",
            "I1014 08:21:56.894027 139679663589248 ssd_efficientnet_bifpn_feature_extractor.py:144] EfficientDet BiFPN num filters: 112\n",
            "I1014 08:21:56.894151 139679663589248 ssd_efficientnet_bifpn_feature_extractor.py:146] EfficientDet BiFPN num iterations: 5\n",
            "I1014 08:21:56.896768 139679663589248 efficientnet_model.py:147] round_filter input=32 output=32\n",
            "I1014 08:21:56.916972 139679663589248 efficientnet_model.py:147] round_filter input=32 output=32\n",
            "I1014 08:21:56.917089 139679663589248 efficientnet_model.py:147] round_filter input=16 output=16\n",
            "I1014 08:21:57.055119 139679663589248 efficientnet_model.py:147] round_filter input=16 output=16\n",
            "I1014 08:21:57.055335 139679663589248 efficientnet_model.py:147] round_filter input=24 output=24\n",
            "I1014 08:21:57.321628 139679663589248 efficientnet_model.py:147] round_filter input=24 output=24\n",
            "I1014 08:21:57.321868 139679663589248 efficientnet_model.py:147] round_filter input=40 output=48\n",
            "I1014 08:21:57.606633 139679663589248 efficientnet_model.py:147] round_filter input=40 output=48\n",
            "I1014 08:21:57.606844 139679663589248 efficientnet_model.py:147] round_filter input=80 output=88\n",
            "I1014 08:21:57.961878 139679663589248 efficientnet_model.py:147] round_filter input=80 output=88\n",
            "I1014 08:21:57.962115 139679663589248 efficientnet_model.py:147] round_filter input=112 output=120\n",
            "I1014 08:21:58.322118 139679663589248 efficientnet_model.py:147] round_filter input=112 output=120\n",
            "I1014 08:21:58.322391 139679663589248 efficientnet_model.py:147] round_filter input=192 output=208\n",
            "I1014 08:21:58.785964 139679663589248 efficientnet_model.py:147] round_filter input=192 output=208\n",
            "I1014 08:21:58.786161 139679663589248 efficientnet_model.py:147] round_filter input=320 output=352\n",
            "I1014 08:21:58.960812 139679663589248 efficientnet_model.py:147] round_filter input=1280 output=1408\n",
            "I1014 08:21:58.991900 139679663589248 efficientnet_model.py:458] Building model efficientnet with params ModelConfig(width_coefficient=1.1, depth_coefficient=1.2, resolution=260, dropout_rate=0.3, blocks=(BlockConfig(input_filters=32, output_filters=16, kernel_size=3, num_repeat=1, expand_ratio=1, strides=(1, 1), se_ratio=0.25, id_skip=True, fused_conv=False, conv_type='depthwise'), BlockConfig(input_filters=16, output_filters=24, kernel_size=3, num_repeat=2, expand_ratio=6, strides=(2, 2), se_ratio=0.25, id_skip=True, fused_conv=False, conv_type='depthwise'), BlockConfig(input_filters=24, output_filters=40, kernel_size=5, num_repeat=2, expand_ratio=6, strides=(2, 2), se_ratio=0.25, id_skip=True, fused_conv=False, conv_type='depthwise'), BlockConfig(input_filters=40, output_filters=80, kernel_size=3, num_repeat=3, expand_ratio=6, strides=(2, 2), se_ratio=0.25, id_skip=True, fused_conv=False, conv_type='depthwise'), BlockConfig(input_filters=80, output_filters=112, kernel_size=5, num_repeat=3, expand_ratio=6, strides=(1, 1), se_ratio=0.25, id_skip=True, fused_conv=False, conv_type='depthwise'), BlockConfig(input_filters=112, output_filters=192, kernel_size=5, num_repeat=4, expand_ratio=6, strides=(2, 2), se_ratio=0.25, id_skip=True, fused_conv=False, conv_type='depthwise'), BlockConfig(input_filters=192, output_filters=320, kernel_size=3, num_repeat=1, expand_ratio=6, strides=(1, 1), se_ratio=0.25, id_skip=True, fused_conv=False, conv_type='depthwise')), stem_base_filters=32, top_base_filters=1280, activation='simple_swish', batch_norm='default', bn_momentum=0.99, bn_epsilon=0.001, weight_decay=5e-06, drop_connect_rate=0.2, depth_divisor=8, min_depth=None, use_se=True, input_channels=3, num_classes=1000, model_name='efficientnet', rescale_input=False, data_format='channels_last', dtype='float32')\n",
            "I1014 08:21:59.072161 139679663589248 ssd_efficientnet_bifpn_feature_extractor.py:143] EfficientDet EfficientNet backbone version: efficientnet-b3\n",
            "I1014 08:21:59.072339 139679663589248 ssd_efficientnet_bifpn_feature_extractor.py:144] EfficientDet BiFPN num filters: 160\n",
            "I1014 08:21:59.072440 139679663589248 ssd_efficientnet_bifpn_feature_extractor.py:146] EfficientDet BiFPN num iterations: 6\n",
            "I1014 08:21:59.074219 139679663589248 efficientnet_model.py:147] round_filter input=32 output=40\n",
            "I1014 08:21:59.092790 139679663589248 efficientnet_model.py:147] round_filter input=32 output=40\n",
            "I1014 08:21:59.092957 139679663589248 efficientnet_model.py:147] round_filter input=16 output=24\n",
            "I1014 08:21:59.226232 139679663589248 efficientnet_model.py:147] round_filter input=16 output=24\n",
            "I1014 08:21:59.226398 139679663589248 efficientnet_model.py:147] round_filter input=24 output=32\n",
            "I1014 08:21:59.498035 139679663589248 efficientnet_model.py:147] round_filter input=24 output=32\n",
            "I1014 08:21:59.498230 139679663589248 efficientnet_model.py:147] round_filter input=40 output=48\n",
            "I1014 08:21:59.779278 139679663589248 efficientnet_model.py:147] round_filter input=40 output=48\n",
            "I1014 08:21:59.779473 139679663589248 efficientnet_model.py:147] round_filter input=80 output=96\n",
            "I1014 08:22:00.233438 139679663589248 efficientnet_model.py:147] round_filter input=80 output=96\n",
            "I1014 08:22:00.233619 139679663589248 efficientnet_model.py:147] round_filter input=112 output=136\n",
            "I1014 08:22:00.693118 139679663589248 efficientnet_model.py:147] round_filter input=112 output=136\n",
            "I1014 08:22:00.693341 139679663589248 efficientnet_model.py:147] round_filter input=192 output=232\n",
            "I1014 08:22:01.234102 139679663589248 efficientnet_model.py:147] round_filter input=192 output=232\n",
            "I1014 08:22:01.234298 139679663589248 efficientnet_model.py:147] round_filter input=320 output=384\n",
            "I1014 08:22:01.414232 139679663589248 efficientnet_model.py:147] round_filter input=1280 output=1536\n",
            "I1014 08:22:01.448128 139679663589248 efficientnet_model.py:458] Building model efficientnet with params ModelConfig(width_coefficient=1.2, depth_coefficient=1.4, resolution=300, dropout_rate=0.3, blocks=(BlockConfig(input_filters=32, output_filters=16, kernel_size=3, num_repeat=1, expand_ratio=1, strides=(1, 1), se_ratio=0.25, id_skip=True, fused_conv=False, conv_type='depthwise'), BlockConfig(input_filters=16, output_filters=24, kernel_size=3, num_repeat=2, expand_ratio=6, strides=(2, 2), se_ratio=0.25, id_skip=True, fused_conv=False, conv_type='depthwise'), BlockConfig(input_filters=24, output_filters=40, kernel_size=5, num_repeat=2, expand_ratio=6, strides=(2, 2), se_ratio=0.25, id_skip=True, fused_conv=False, conv_type='depthwise'), BlockConfig(input_filters=40, output_filters=80, kernel_size=3, num_repeat=3, expand_ratio=6, strides=(2, 2), se_ratio=0.25, id_skip=True, fused_conv=False, conv_type='depthwise'), BlockConfig(input_filters=80, output_filters=112, kernel_size=5, num_repeat=3, expand_ratio=6, strides=(1, 1), se_ratio=0.25, id_skip=True, fused_conv=False, conv_type='depthwise'), BlockConfig(input_filters=112, output_filters=192, kernel_size=5, num_repeat=4, expand_ratio=6, strides=(2, 2), se_ratio=0.25, id_skip=True, fused_conv=False, conv_type='depthwise'), BlockConfig(input_filters=192, output_filters=320, kernel_size=3, num_repeat=1, expand_ratio=6, strides=(1, 1), se_ratio=0.25, id_skip=True, fused_conv=False, conv_type='depthwise')), stem_base_filters=32, top_base_filters=1280, activation='simple_swish', batch_norm='default', bn_momentum=0.99, bn_epsilon=0.001, weight_decay=5e-06, drop_connect_rate=0.2, depth_divisor=8, min_depth=None, use_se=True, input_channels=3, num_classes=1000, model_name='efficientnet', rescale_input=False, data_format='channels_last', dtype='float32')\n",
            "I1014 08:22:01.750285 139679663589248 ssd_efficientnet_bifpn_feature_extractor.py:143] EfficientDet EfficientNet backbone version: efficientnet-b4\n",
            "I1014 08:22:01.750523 139679663589248 ssd_efficientnet_bifpn_feature_extractor.py:144] EfficientDet BiFPN num filters: 224\n",
            "I1014 08:22:01.750705 139679663589248 ssd_efficientnet_bifpn_feature_extractor.py:146] EfficientDet BiFPN num iterations: 7\n",
            "I1014 08:22:01.752996 139679663589248 efficientnet_model.py:147] round_filter input=32 output=48\n",
            "I1014 08:22:01.773315 139679663589248 efficientnet_model.py:147] round_filter input=32 output=48\n",
            "I1014 08:22:01.773506 139679663589248 efficientnet_model.py:147] round_filter input=16 output=24\n",
            "I1014 08:22:01.925969 139679663589248 efficientnet_model.py:147] round_filter input=16 output=24\n",
            "I1014 08:22:01.926145 139679663589248 efficientnet_model.py:147] round_filter input=24 output=32\n",
            "I1014 08:22:02.281160 139679663589248 efficientnet_model.py:147] round_filter input=24 output=32\n",
            "I1014 08:22:02.281382 139679663589248 efficientnet_model.py:147] round_filter input=40 output=56\n",
            "I1014 08:22:02.670280 139679663589248 efficientnet_model.py:147] round_filter input=40 output=56\n",
            "I1014 08:22:02.670488 139679663589248 efficientnet_model.py:147] round_filter input=80 output=112\n",
            "I1014 08:22:03.231672 139679663589248 efficientnet_model.py:147] round_filter input=80 output=112\n",
            "I1014 08:22:03.231929 139679663589248 efficientnet_model.py:147] round_filter input=112 output=160\n",
            "I1014 08:22:03.792386 139679663589248 efficientnet_model.py:147] round_filter input=112 output=160\n",
            "I1014 08:22:03.792598 139679663589248 efficientnet_model.py:147] round_filter input=192 output=272\n",
            "I1014 08:22:04.499407 139679663589248 efficientnet_model.py:147] round_filter input=192 output=272\n",
            "I1014 08:22:04.499600 139679663589248 efficientnet_model.py:147] round_filter input=320 output=448\n",
            "I1014 08:22:04.680780 139679663589248 efficientnet_model.py:147] round_filter input=1280 output=1792\n",
            "I1014 08:22:04.717813 139679663589248 efficientnet_model.py:458] Building model efficientnet with params ModelConfig(width_coefficient=1.4, depth_coefficient=1.8, resolution=380, dropout_rate=0.4, blocks=(BlockConfig(input_filters=32, output_filters=16, kernel_size=3, num_repeat=1, expand_ratio=1, strides=(1, 1), se_ratio=0.25, id_skip=True, fused_conv=False, conv_type='depthwise'), BlockConfig(input_filters=16, output_filters=24, kernel_size=3, num_repeat=2, expand_ratio=6, strides=(2, 2), se_ratio=0.25, id_skip=True, fused_conv=False, conv_type='depthwise'), BlockConfig(input_filters=24, output_filters=40, kernel_size=5, num_repeat=2, expand_ratio=6, strides=(2, 2), se_ratio=0.25, id_skip=True, fused_conv=False, conv_type='depthwise'), BlockConfig(input_filters=40, output_filters=80, kernel_size=3, num_repeat=3, expand_ratio=6, strides=(2, 2), se_ratio=0.25, id_skip=True, fused_conv=False, conv_type='depthwise'), BlockConfig(input_filters=80, output_filters=112, kernel_size=5, num_repeat=3, expand_ratio=6, strides=(1, 1), se_ratio=0.25, id_skip=True, fused_conv=False, conv_type='depthwise'), BlockConfig(input_filters=112, output_filters=192, kernel_size=5, num_repeat=4, expand_ratio=6, strides=(2, 2), se_ratio=0.25, id_skip=True, fused_conv=False, conv_type='depthwise'), BlockConfig(input_filters=192, output_filters=320, kernel_size=3, num_repeat=1, expand_ratio=6, strides=(1, 1), se_ratio=0.25, id_skip=True, fused_conv=False, conv_type='depthwise')), stem_base_filters=32, top_base_filters=1280, activation='simple_swish', batch_norm='default', bn_momentum=0.99, bn_epsilon=0.001, weight_decay=5e-06, drop_connect_rate=0.2, depth_divisor=8, min_depth=None, use_se=True, input_channels=3, num_classes=1000, model_name='efficientnet', rescale_input=False, data_format='channels_last', dtype='float32')\n",
            "I1014 08:22:04.811453 139679663589248 ssd_efficientnet_bifpn_feature_extractor.py:143] EfficientDet EfficientNet backbone version: efficientnet-b5\n",
            "I1014 08:22:04.811649 139679663589248 ssd_efficientnet_bifpn_feature_extractor.py:144] EfficientDet BiFPN num filters: 288\n",
            "I1014 08:22:04.811768 139679663589248 ssd_efficientnet_bifpn_feature_extractor.py:146] EfficientDet BiFPN num iterations: 7\n",
            "I1014 08:22:04.813564 139679663589248 efficientnet_model.py:147] round_filter input=32 output=48\n",
            "I1014 08:22:04.831840 139679663589248 efficientnet_model.py:147] round_filter input=32 output=48\n",
            "I1014 08:22:04.831978 139679663589248 efficientnet_model.py:147] round_filter input=16 output=24\n",
            "I1014 08:22:05.049478 139679663589248 efficientnet_model.py:147] round_filter input=16 output=24\n",
            "I1014 08:22:05.049660 139679663589248 efficientnet_model.py:147] round_filter input=24 output=40\n",
            "I1014 08:22:05.496915 139679663589248 efficientnet_model.py:147] round_filter input=24 output=40\n",
            "I1014 08:22:05.497108 139679663589248 efficientnet_model.py:147] round_filter input=40 output=64\n",
            "I1014 08:22:05.946033 139679663589248 efficientnet_model.py:147] round_filter input=40 output=64\n",
            "I1014 08:22:05.946224 139679663589248 efficientnet_model.py:147] round_filter input=80 output=128\n",
            "I1014 08:22:06.588497 139679663589248 efficientnet_model.py:147] round_filter input=80 output=128\n",
            "I1014 08:22:06.588712 139679663589248 efficientnet_model.py:147] round_filter input=112 output=176\n",
            "I1014 08:22:07.447899 139679663589248 efficientnet_model.py:147] round_filter input=112 output=176\n",
            "I1014 08:22:07.448169 139679663589248 efficientnet_model.py:147] round_filter input=192 output=304\n",
            "I1014 08:22:08.276107 139679663589248 efficientnet_model.py:147] round_filter input=192 output=304\n",
            "I1014 08:22:08.276315 139679663589248 efficientnet_model.py:147] round_filter input=320 output=512\n",
            "I1014 08:22:08.541742 139679663589248 efficientnet_model.py:147] round_filter input=1280 output=2048\n",
            "I1014 08:22:08.582584 139679663589248 efficientnet_model.py:458] Building model efficientnet with params ModelConfig(width_coefficient=1.6, depth_coefficient=2.2, resolution=456, dropout_rate=0.4, blocks=(BlockConfig(input_filters=32, output_filters=16, kernel_size=3, num_repeat=1, expand_ratio=1, strides=(1, 1), se_ratio=0.25, id_skip=True, fused_conv=False, conv_type='depthwise'), BlockConfig(input_filters=16, output_filters=24, kernel_size=3, num_repeat=2, expand_ratio=6, strides=(2, 2), se_ratio=0.25, id_skip=True, fused_conv=False, conv_type='depthwise'), BlockConfig(input_filters=24, output_filters=40, kernel_size=5, num_repeat=2, expand_ratio=6, strides=(2, 2), se_ratio=0.25, id_skip=True, fused_conv=False, conv_type='depthwise'), BlockConfig(input_filters=40, output_filters=80, kernel_size=3, num_repeat=3, expand_ratio=6, strides=(2, 2), se_ratio=0.25, id_skip=True, fused_conv=False, conv_type='depthwise'), BlockConfig(input_filters=80, output_filters=112, kernel_size=5, num_repeat=3, expand_ratio=6, strides=(1, 1), se_ratio=0.25, id_skip=True, fused_conv=False, conv_type='depthwise'), BlockConfig(input_filters=112, output_filters=192, kernel_size=5, num_repeat=4, expand_ratio=6, strides=(2, 2), se_ratio=0.25, id_skip=True, fused_conv=False, conv_type='depthwise'), BlockConfig(input_filters=192, output_filters=320, kernel_size=3, num_repeat=1, expand_ratio=6, strides=(1, 1), se_ratio=0.25, id_skip=True, fused_conv=False, conv_type='depthwise')), stem_base_filters=32, top_base_filters=1280, activation='simple_swish', batch_norm='default', bn_momentum=0.99, bn_epsilon=0.001, weight_decay=5e-06, drop_connect_rate=0.2, depth_divisor=8, min_depth=None, use_se=True, input_channels=3, num_classes=1000, model_name='efficientnet', rescale_input=False, data_format='channels_last', dtype='float32')\n",
            "I1014 08:22:08.705383 139679663589248 ssd_efficientnet_bifpn_feature_extractor.py:143] EfficientDet EfficientNet backbone version: efficientnet-b6\n",
            "I1014 08:22:08.705557 139679663589248 ssd_efficientnet_bifpn_feature_extractor.py:144] EfficientDet BiFPN num filters: 384\n",
            "I1014 08:22:08.705665 139679663589248 ssd_efficientnet_bifpn_feature_extractor.py:146] EfficientDet BiFPN num iterations: 8\n",
            "I1014 08:22:08.707496 139679663589248 efficientnet_model.py:147] round_filter input=32 output=56\n",
            "I1014 08:22:08.725203 139679663589248 efficientnet_model.py:147] round_filter input=32 output=56\n",
            "I1014 08:22:08.725335 139679663589248 efficientnet_model.py:147] round_filter input=16 output=32\n",
            "I1014 08:22:08.944206 139679663589248 efficientnet_model.py:147] round_filter input=16 output=32\n",
            "I1014 08:22:08.944417 139679663589248 efficientnet_model.py:147] round_filter input=24 output=40\n",
            "I1014 08:22:09.492131 139679663589248 efficientnet_model.py:147] round_filter input=24 output=40\n",
            "I1014 08:22:09.492347 139679663589248 efficientnet_model.py:147] round_filter input=40 output=72\n",
            "I1014 08:22:10.025718 139679663589248 efficientnet_model.py:147] round_filter input=40 output=72\n",
            "I1014 08:22:10.025957 139679663589248 efficientnet_model.py:147] round_filter input=80 output=144\n",
            "I1014 08:22:10.742498 139679663589248 efficientnet_model.py:147] round_filter input=80 output=144\n",
            "I1014 08:22:10.742704 139679663589248 efficientnet_model.py:147] round_filter input=112 output=200\n",
            "I1014 08:22:11.462490 139679663589248 efficientnet_model.py:147] round_filter input=112 output=200\n",
            "I1014 08:22:11.462717 139679663589248 efficientnet_model.py:147] round_filter input=192 output=344\n",
            "I1014 08:22:12.725736 139679663589248 efficientnet_model.py:147] round_filter input=192 output=344\n",
            "I1014 08:22:12.725944 139679663589248 efficientnet_model.py:147] round_filter input=320 output=576\n",
            "I1014 08:22:13.008741 139679663589248 efficientnet_model.py:147] round_filter input=1280 output=2304\n",
            "I1014 08:22:13.043446 139679663589248 efficientnet_model.py:458] Building model efficientnet with params ModelConfig(width_coefficient=1.8, depth_coefficient=2.6, resolution=528, dropout_rate=0.5, blocks=(BlockConfig(input_filters=32, output_filters=16, kernel_size=3, num_repeat=1, expand_ratio=1, strides=(1, 1), se_ratio=0.25, id_skip=True, fused_conv=False, conv_type='depthwise'), BlockConfig(input_filters=16, output_filters=24, kernel_size=3, num_repeat=2, expand_ratio=6, strides=(2, 2), se_ratio=0.25, id_skip=True, fused_conv=False, conv_type='depthwise'), BlockConfig(input_filters=24, output_filters=40, kernel_size=5, num_repeat=2, expand_ratio=6, strides=(2, 2), se_ratio=0.25, id_skip=True, fused_conv=False, conv_type='depthwise'), BlockConfig(input_filters=40, output_filters=80, kernel_size=3, num_repeat=3, expand_ratio=6, strides=(2, 2), se_ratio=0.25, id_skip=True, fused_conv=False, conv_type='depthwise'), BlockConfig(input_filters=80, output_filters=112, kernel_size=5, num_repeat=3, expand_ratio=6, strides=(1, 1), se_ratio=0.25, id_skip=True, fused_conv=False, conv_type='depthwise'), BlockConfig(input_filters=112, output_filters=192, kernel_size=5, num_repeat=4, expand_ratio=6, strides=(2, 2), se_ratio=0.25, id_skip=True, fused_conv=False, conv_type='depthwise'), BlockConfig(input_filters=192, output_filters=320, kernel_size=3, num_repeat=1, expand_ratio=6, strides=(1, 1), se_ratio=0.25, id_skip=True, fused_conv=False, conv_type='depthwise')), stem_base_filters=32, top_base_filters=1280, activation='simple_swish', batch_norm='default', bn_momentum=0.99, bn_epsilon=0.001, weight_decay=5e-06, drop_connect_rate=0.2, depth_divisor=8, min_depth=None, use_se=True, input_channels=3, num_classes=1000, model_name='efficientnet', rescale_input=False, data_format='channels_last', dtype='float32')\n",
            "I1014 08:22:13.158901 139679663589248 ssd_efficientnet_bifpn_feature_extractor.py:143] EfficientDet EfficientNet backbone version: efficientnet-b7\n",
            "I1014 08:22:13.159102 139679663589248 ssd_efficientnet_bifpn_feature_extractor.py:144] EfficientDet BiFPN num filters: 384\n",
            "I1014 08:22:13.159219 139679663589248 ssd_efficientnet_bifpn_feature_extractor.py:146] EfficientDet BiFPN num iterations: 8\n",
            "I1014 08:22:13.161332 139679663589248 efficientnet_model.py:147] round_filter input=32 output=64\n",
            "I1014 08:22:13.180639 139679663589248 efficientnet_model.py:147] round_filter input=32 output=64\n",
            "I1014 08:22:13.180783 139679663589248 efficientnet_model.py:147] round_filter input=16 output=32\n",
            "I1014 08:22:13.479999 139679663589248 efficientnet_model.py:147] round_filter input=16 output=32\n",
            "I1014 08:22:13.480219 139679663589248 efficientnet_model.py:147] round_filter input=24 output=48\n",
            "I1014 08:22:14.131378 139679663589248 efficientnet_model.py:147] round_filter input=24 output=48\n",
            "I1014 08:22:14.131571 139679663589248 efficientnet_model.py:147] round_filter input=40 output=80\n",
            "I1014 08:22:14.764593 139679663589248 efficientnet_model.py:147] round_filter input=40 output=80\n",
            "I1014 08:22:14.764838 139679663589248 efficientnet_model.py:147] round_filter input=80 output=160\n",
            "I1014 08:22:15.653129 139679663589248 efficientnet_model.py:147] round_filter input=80 output=160\n",
            "I1014 08:22:15.653330 139679663589248 efficientnet_model.py:147] round_filter input=112 output=224\n",
            "I1014 08:22:16.562277 139679663589248 efficientnet_model.py:147] round_filter input=112 output=224\n",
            "I1014 08:22:16.562508 139679663589248 efficientnet_model.py:147] round_filter input=192 output=384\n",
            "I1014 08:22:17.805853 139679663589248 efficientnet_model.py:147] round_filter input=192 output=384\n",
            "I1014 08:22:17.806049 139679663589248 efficientnet_model.py:147] round_filter input=320 output=640\n",
            "I1014 08:22:18.458302 139679663589248 efficientnet_model.py:147] round_filter input=1280 output=2560\n",
            "I1014 08:22:18.496670 139679663589248 efficientnet_model.py:458] Building model efficientnet with params ModelConfig(width_coefficient=2.0, depth_coefficient=3.1, resolution=600, dropout_rate=0.5, blocks=(BlockConfig(input_filters=32, output_filters=16, kernel_size=3, num_repeat=1, expand_ratio=1, strides=(1, 1), se_ratio=0.25, id_skip=True, fused_conv=False, conv_type='depthwise'), BlockConfig(input_filters=16, output_filters=24, kernel_size=3, num_repeat=2, expand_ratio=6, strides=(2, 2), se_ratio=0.25, id_skip=True, fused_conv=False, conv_type='depthwise'), BlockConfig(input_filters=24, output_filters=40, kernel_size=5, num_repeat=2, expand_ratio=6, strides=(2, 2), se_ratio=0.25, id_skip=True, fused_conv=False, conv_type='depthwise'), BlockConfig(input_filters=40, output_filters=80, kernel_size=3, num_repeat=3, expand_ratio=6, strides=(2, 2), se_ratio=0.25, id_skip=True, fused_conv=False, conv_type='depthwise'), BlockConfig(input_filters=80, output_filters=112, kernel_size=5, num_repeat=3, expand_ratio=6, strides=(1, 1), se_ratio=0.25, id_skip=True, fused_conv=False, conv_type='depthwise'), BlockConfig(input_filters=112, output_filters=192, kernel_size=5, num_repeat=4, expand_ratio=6, strides=(2, 2), se_ratio=0.25, id_skip=True, fused_conv=False, conv_type='depthwise'), BlockConfig(input_filters=192, output_filters=320, kernel_size=3, num_repeat=1, expand_ratio=6, strides=(1, 1), se_ratio=0.25, id_skip=True, fused_conv=False, conv_type='depthwise')), stem_base_filters=32, top_base_filters=1280, activation='simple_swish', batch_norm='default', bn_momentum=0.99, bn_epsilon=0.001, weight_decay=5e-06, drop_connect_rate=0.2, depth_divisor=8, min_depth=None, use_se=True, input_channels=3, num_classes=1000, model_name='efficientnet', rescale_input=False, data_format='channels_last', dtype='float32')\n",
            "INFO:tensorflow:time(__main__.ModelBuilderTF2Test.test_create_ssd_models_from_config): 25.85s\n",
            "I1014 08:22:18.642351 139679663589248 test_util.py:2189] time(__main__.ModelBuilderTF2Test.test_create_ssd_models_from_config): 25.85s\n",
            "[       OK ] ModelBuilderTF2Test.test_create_ssd_models_from_config\n",
            "[ RUN      ] ModelBuilderTF2Test.test_invalid_faster_rcnn_batchnorm_update\n",
            "INFO:tensorflow:time(__main__.ModelBuilderTF2Test.test_invalid_faster_rcnn_batchnorm_update): 0.0s\n",
            "I1014 08:22:18.649240 139679663589248 test_util.py:2189] time(__main__.ModelBuilderTF2Test.test_invalid_faster_rcnn_batchnorm_update): 0.0s\n",
            "[       OK ] ModelBuilderTF2Test.test_invalid_faster_rcnn_batchnorm_update\n",
            "[ RUN      ] ModelBuilderTF2Test.test_invalid_first_stage_nms_iou_threshold\n",
            "INFO:tensorflow:time(__main__.ModelBuilderTF2Test.test_invalid_first_stage_nms_iou_threshold): 0.0s\n",
            "I1014 08:22:18.651093 139679663589248 test_util.py:2189] time(__main__.ModelBuilderTF2Test.test_invalid_first_stage_nms_iou_threshold): 0.0s\n",
            "[       OK ] ModelBuilderTF2Test.test_invalid_first_stage_nms_iou_threshold\n",
            "[ RUN      ] ModelBuilderTF2Test.test_invalid_model_config_proto\n",
            "INFO:tensorflow:time(__main__.ModelBuilderTF2Test.test_invalid_model_config_proto): 0.0s\n",
            "I1014 08:22:18.651768 139679663589248 test_util.py:2189] time(__main__.ModelBuilderTF2Test.test_invalid_model_config_proto): 0.0s\n",
            "[       OK ] ModelBuilderTF2Test.test_invalid_model_config_proto\n",
            "[ RUN      ] ModelBuilderTF2Test.test_invalid_second_stage_batch_size\n",
            "INFO:tensorflow:time(__main__.ModelBuilderTF2Test.test_invalid_second_stage_batch_size): 0.0s\n",
            "I1014 08:22:18.653847 139679663589248 test_util.py:2189] time(__main__.ModelBuilderTF2Test.test_invalid_second_stage_batch_size): 0.0s\n",
            "[       OK ] ModelBuilderTF2Test.test_invalid_second_stage_batch_size\n",
            "[ RUN      ] ModelBuilderTF2Test.test_session\n",
            "[  SKIPPED ] ModelBuilderTF2Test.test_session\n",
            "[ RUN      ] ModelBuilderTF2Test.test_unknown_faster_rcnn_feature_extractor\n",
            "INFO:tensorflow:time(__main__.ModelBuilderTF2Test.test_unknown_faster_rcnn_feature_extractor): 0.0s\n",
            "I1014 08:22:18.655684 139679663589248 test_util.py:2189] time(__main__.ModelBuilderTF2Test.test_unknown_faster_rcnn_feature_extractor): 0.0s\n",
            "[       OK ] ModelBuilderTF2Test.test_unknown_faster_rcnn_feature_extractor\n",
            "[ RUN      ] ModelBuilderTF2Test.test_unknown_meta_architecture\n",
            "INFO:tensorflow:time(__main__.ModelBuilderTF2Test.test_unknown_meta_architecture): 0.0s\n",
            "I1014 08:22:18.656335 139679663589248 test_util.py:2189] time(__main__.ModelBuilderTF2Test.test_unknown_meta_architecture): 0.0s\n",
            "[       OK ] ModelBuilderTF2Test.test_unknown_meta_architecture\n",
            "[ RUN      ] ModelBuilderTF2Test.test_unknown_ssd_feature_extractor\n",
            "INFO:tensorflow:time(__main__.ModelBuilderTF2Test.test_unknown_ssd_feature_extractor): 0.0s\n",
            "I1014 08:22:18.657805 139679663589248 test_util.py:2189] time(__main__.ModelBuilderTF2Test.test_unknown_ssd_feature_extractor): 0.0s\n",
            "[       OK ] ModelBuilderTF2Test.test_unknown_ssd_feature_extractor\n",
            "----------------------------------------------------------------------\n",
            "Ran 24 tests in 36.022s\n",
            "\n",
            "OK (skipped=1)\n"
          ]
        }
      ]
    },
    {
      "cell_type": "code",
      "metadata": {
        "id": "oHriACykxrin",
        "colab": {
          "base_uri": "https://localhost:8080/"
        },
        "outputId": "438dfa3d-616d-4cc5-bec2-55fb28f349eb"
      },
      "source": [
        "cd .."
      ],
      "execution_count": 21,
      "outputs": [
        {
          "output_type": "stream",
          "name": "stdout",
          "text": [
            "/content\n"
          ]
        }
      ]
    },
    {
      "cell_type": "code",
      "metadata": {
        "id": "w5MRuSrqxyIe",
        "colab": {
          "base_uri": "https://localhost:8080/"
        },
        "outputId": "b6be52df-092d-4d16-ab88-9068c942ef6e"
      },
      "source": [
        "cd .."
      ],
      "execution_count": 17,
      "outputs": [
        {
          "output_type": "stream",
          "name": "stdout",
          "text": [
            "/content/models\n"
          ]
        }
      ]
    },
    {
      "cell_type": "code",
      "metadata": {
        "id": "YrIkeGA3l0Em"
      },
      "source": [
        "mkdir training_demo"
      ],
      "execution_count": 22,
      "outputs": []
    },
    {
      "cell_type": "code",
      "metadata": {
        "colab": {
          "base_uri": "https://localhost:8080/"
        },
        "id": "eu2CyirM61rf",
        "outputId": "6abbea1b-b628-4364-d623-4b41103b0024"
      },
      "source": [
        "cd training_demo"
      ],
      "execution_count": 30,
      "outputs": [
        {
          "output_type": "stream",
          "name": "stdout",
          "text": [
            "/content/training_demo\n"
          ]
        }
      ]
    },
    {
      "cell_type": "code",
      "metadata": {
        "id": "97_xV6cJ6aqj"
      },
      "source": [
        "!mkdir pre-trained-models"
      ],
      "execution_count": 31,
      "outputs": []
    },
    {
      "cell_type": "code",
      "metadata": {
        "id": "b5FqcKMUxzp9",
        "colab": {
          "base_uri": "https://localhost:8080/"
        },
        "outputId": "5f69892a-f4b6-4fe5-b7d4-5833b4eb4a9e"
      },
      "source": [
        "cd /content/training_demo/pre-trained-models"
      ],
      "execution_count": 32,
      "outputs": [
        {
          "output_type": "stream",
          "name": "stdout",
          "text": [
            "/content/training_demo/pre-trained-models\n"
          ]
        }
      ]
    },
    {
      "cell_type": "code",
      "metadata": {
        "id": "506Y3cI4x1rS",
        "colab": {
          "base_uri": "https://localhost:8080/"
        },
        "outputId": "501d7104-6c56-4463-f6e6-56d2e72224db"
      },
      "source": [
        "!wget http://download.tensorflow.org/models/object_detection/tf2/20200711/ssd_mobilenet_v2_fpnlite_640x640_coco17_tpu-8.tar.gz"
      ],
      "execution_count": 33,
      "outputs": [
        {
          "output_type": "stream",
          "name": "stdout",
          "text": [
            "--2021-10-14 08:29:40--  http://download.tensorflow.org/models/object_detection/tf2/20200711/ssd_mobilenet_v2_fpnlite_640x640_coco17_tpu-8.tar.gz\n",
            "Resolving download.tensorflow.org (download.tensorflow.org)... 142.251.6.128, 2607:f8b0:4001:c54::80\n",
            "Connecting to download.tensorflow.org (download.tensorflow.org)|142.251.6.128|:80... connected.\n",
            "HTTP request sent, awaiting response... 200 OK\n",
            "Length: 20518283 (20M) [application/x-tar]\n",
            "Saving to: ‘ssd_mobilenet_v2_fpnlite_640x640_coco17_tpu-8.tar.gz’\n",
            "\n",
            "\r          ssd_mobil   0%[                    ]       0  --.-KB/s               \rssd_mobilenet_v2_fp 100%[===================>]  19.57M  --.-KB/s    in 0.1s    \n",
            "\n",
            "2021-10-14 08:29:40 (155 MB/s) - ‘ssd_mobilenet_v2_fpnlite_640x640_coco17_tpu-8.tar.gz’ saved [20518283/20518283]\n",
            "\n"
          ]
        }
      ]
    },
    {
      "cell_type": "code",
      "metadata": {
        "id": "DyYFmx4Dx3Q2",
        "colab": {
          "base_uri": "https://localhost:8080/"
        },
        "outputId": "a342e3c5-380c-4605-f8d4-995134cedf6a"
      },
      "source": [
        "!tar -xvf ssd_mobilenet_v2_fpnlite_640x640_coco17_tpu-8.tar.gz"
      ],
      "execution_count": 34,
      "outputs": [
        {
          "output_type": "stream",
          "name": "stdout",
          "text": [
            "ssd_mobilenet_v2_fpnlite_640x640_coco17_tpu-8/\n",
            "ssd_mobilenet_v2_fpnlite_640x640_coco17_tpu-8/checkpoint/\n",
            "ssd_mobilenet_v2_fpnlite_640x640_coco17_tpu-8/checkpoint/ckpt-0.data-00000-of-00001\n",
            "ssd_mobilenet_v2_fpnlite_640x640_coco17_tpu-8/checkpoint/checkpoint\n",
            "ssd_mobilenet_v2_fpnlite_640x640_coco17_tpu-8/checkpoint/ckpt-0.index\n",
            "ssd_mobilenet_v2_fpnlite_640x640_coco17_tpu-8/pipeline.config\n",
            "ssd_mobilenet_v2_fpnlite_640x640_coco17_tpu-8/saved_model/\n",
            "ssd_mobilenet_v2_fpnlite_640x640_coco17_tpu-8/saved_model/saved_model.pb\n",
            "ssd_mobilenet_v2_fpnlite_640x640_coco17_tpu-8/saved_model/variables/\n",
            "ssd_mobilenet_v2_fpnlite_640x640_coco17_tpu-8/saved_model/variables/variables.data-00000-of-00001\n",
            "ssd_mobilenet_v2_fpnlite_640x640_coco17_tpu-8/saved_model/variables/variables.index\n"
          ]
        }
      ]
    },
    {
      "cell_type": "code",
      "metadata": {
        "id": "UB21NrpUx42A",
        "colab": {
          "base_uri": "https://localhost:8080/",
          "height": 37
        },
        "outputId": "60c81806-8d28-4809-a6f8-288cac046a78"
      },
      "source": [
        "pwd"
      ],
      "execution_count": 35,
      "outputs": [
        {
          "output_type": "execute_result",
          "data": {
            "application/vnd.google.colaboratory.intrinsic+json": {
              "type": "string"
            },
            "text/plain": [
              "'/content/training_demo/pre-trained-models'"
            ]
          },
          "metadata": {},
          "execution_count": 35
        }
      ]
    },
    {
      "cell_type": "code",
      "metadata": {
        "id": "79TPyoGLx6Ph",
        "colab": {
          "base_uri": "https://localhost:8080/"
        },
        "outputId": "b8fae35e-ec3c-40b3-d316-3962c26517b0"
      },
      "source": [
        "cd /content/training_demo"
      ],
      "execution_count": 36,
      "outputs": [
        {
          "output_type": "stream",
          "name": "stdout",
          "text": [
            "/content/training_demo\n"
          ]
        }
      ]
    },
    {
      "cell_type": "code",
      "metadata": {
        "id": "y1ORkwTz7Awa"
      },
      "source": [
        "mkdir models"
      ],
      "execution_count": 37,
      "outputs": []
    },
    {
      "cell_type": "code",
      "metadata": {
        "id": "Uaa0WjX97C7R"
      },
      "source": [
        "mkdir annotations"
      ],
      "execution_count": 38,
      "outputs": []
    },
    {
      "cell_type": "code",
      "metadata": {
        "colab": {
          "base_uri": "https://localhost:8080/"
        },
        "id": "E2AGW83g7FFz",
        "outputId": "788ff2fa-1da6-4d27-b611-4a2f03f52df9"
      },
      "source": [
        "cd models"
      ],
      "execution_count": 39,
      "outputs": [
        {
          "output_type": "stream",
          "name": "stdout",
          "text": [
            "/content/training_demo/models\n"
          ]
        }
      ]
    },
    {
      "cell_type": "code",
      "metadata": {
        "id": "Ust9Rzg97GYo"
      },
      "source": [
        "mkdir ssd_mobilenet_v2_fpnlite_640x640_coco17_tpu-8"
      ],
      "execution_count": 40,
      "outputs": []
    },
    {
      "cell_type": "code",
      "metadata": {
        "colab": {
          "base_uri": "https://localhost:8080/"
        },
        "id": "sS0uommC7KeG",
        "outputId": "66db22d2-367c-43e7-c795-84c4efbf8a10"
      },
      "source": [
        "cd .."
      ],
      "execution_count": 41,
      "outputs": [
        {
          "output_type": "stream",
          "name": "stdout",
          "text": [
            "/content/training_demo\n"
          ]
        }
      ]
    },
    {
      "cell_type": "markdown",
      "metadata": {
        "id": "hH9nsaw3yDM-"
      },
      "source": [
        "## Train the Detector"
      ]
    },
    {
      "cell_type": "code",
      "metadata": {
        "id": "dINEarXRx8zn",
        "colab": {
          "base_uri": "https://localhost:8080/"
        },
        "outputId": "09d6932a-962b-4753-8879-2e6436fd8965"
      },
      "source": [
        "!python model_main_tf2.py --model_dir=/content/training_demo/models/ssd_mobilenet_v2_fpnlite_640x640_coco17_tpu-8 --pipeline_config_path=/content/training_demo/models/ssd_mobilenet_v2_fpnlite_640x640_coco17_tpu-8/pipeline.config"
      ],
      "execution_count": null,
      "outputs": [
        {
          "output_type": "stream",
          "name": "stdout",
          "text": [
            "2021-10-14 08:32:44.585162: I tensorflow/stream_executor/cuda/cuda_gpu_executor.cc:937] successful NUMA node read from SysFS had negative value (-1), but there must be at least one NUMA node, so returning NUMA node zero\n",
            "2021-10-14 08:32:44.595453: I tensorflow/stream_executor/cuda/cuda_gpu_executor.cc:937] successful NUMA node read from SysFS had negative value (-1), but there must be at least one NUMA node, so returning NUMA node zero\n",
            "2021-10-14 08:32:44.596306: I tensorflow/stream_executor/cuda/cuda_gpu_executor.cc:937] successful NUMA node read from SysFS had negative value (-1), but there must be at least one NUMA node, so returning NUMA node zero\n",
            "2021-10-14 08:32:44.597894: I tensorflow/stream_executor/cuda/cuda_gpu_executor.cc:937] successful NUMA node read from SysFS had negative value (-1), but there must be at least one NUMA node, so returning NUMA node zero\n",
            "2021-10-14 08:32:44.598739: I tensorflow/stream_executor/cuda/cuda_gpu_executor.cc:937] successful NUMA node read from SysFS had negative value (-1), but there must be at least one NUMA node, so returning NUMA node zero\n",
            "2021-10-14 08:32:44.599544: I tensorflow/stream_executor/cuda/cuda_gpu_executor.cc:937] successful NUMA node read from SysFS had negative value (-1), but there must be at least one NUMA node, so returning NUMA node zero\n",
            "2021-10-14 08:32:45.073762: I tensorflow/stream_executor/cuda/cuda_gpu_executor.cc:937] successful NUMA node read from SysFS had negative value (-1), but there must be at least one NUMA node, so returning NUMA node zero\n",
            "2021-10-14 08:32:45.074540: I tensorflow/stream_executor/cuda/cuda_gpu_executor.cc:937] successful NUMA node read from SysFS had negative value (-1), but there must be at least one NUMA node, so returning NUMA node zero\n",
            "2021-10-14 08:32:45.075298: I tensorflow/stream_executor/cuda/cuda_gpu_executor.cc:937] successful NUMA node read from SysFS had negative value (-1), but there must be at least one NUMA node, so returning NUMA node zero\n",
            "2021-10-14 08:32:45.076012: W tensorflow/core/common_runtime/gpu/gpu_bfc_allocator.cc:39] Overriding allow_growth setting because the TF_FORCE_GPU_ALLOW_GROWTH environment variable is set. Original config value was 0.\n",
            "2021-10-14 08:32:45.076078: I tensorflow/core/common_runtime/gpu/gpu_device.cc:1510] Created device /job:localhost/replica:0/task:0/device:GPU:0 with 10819 MB memory:  -> device: 0, name: Tesla K80, pci bus id: 0000:00:04.0, compute capability: 3.7\n",
            "INFO:tensorflow:Using MirroredStrategy with devices ('/job:localhost/replica:0/task:0/device:GPU:0',)\n",
            "I1014 08:32:45.081434 139867123890048 mirrored_strategy.py:369] Using MirroredStrategy with devices ('/job:localhost/replica:0/task:0/device:GPU:0',)\n",
            "INFO:tensorflow:Maybe overwriting train_steps: None\n",
            "I1014 08:32:45.085968 139867123890048 config_util.py:552] Maybe overwriting train_steps: None\n",
            "INFO:tensorflow:Maybe overwriting use_bfloat16: False\n",
            "I1014 08:32:45.086131 139867123890048 config_util.py:552] Maybe overwriting use_bfloat16: False\n",
            "WARNING:tensorflow:From /usr/local/lib/python3.7/dist-packages/object_detection/model_lib_v2.py:558: StrategyBase.experimental_distribute_datasets_from_function (from tensorflow.python.distribute.distribute_lib) is deprecated and will be removed in a future version.\n",
            "Instructions for updating:\n",
            "rename to distribute_datasets_from_function\n",
            "W1014 08:32:45.210589 139867123890048 deprecation.py:345] From /usr/local/lib/python3.7/dist-packages/object_detection/model_lib_v2.py:558: StrategyBase.experimental_distribute_datasets_from_function (from tensorflow.python.distribute.distribute_lib) is deprecated and will be removed in a future version.\n",
            "Instructions for updating:\n",
            "rename to distribute_datasets_from_function\n",
            "INFO:tensorflow:Reading unweighted datasets: ['/content/training_demo/annotations/train.tfrecord']\n",
            "I1014 08:32:45.223497 139867123890048 dataset_builder.py:163] Reading unweighted datasets: ['/content/training_demo/annotations/train.tfrecord']\n",
            "INFO:tensorflow:Reading record datasets for input file: ['/content/training_demo/annotations/train.tfrecord']\n",
            "I1014 08:32:45.223728 139867123890048 dataset_builder.py:80] Reading record datasets for input file: ['/content/training_demo/annotations/train.tfrecord']\n",
            "INFO:tensorflow:Number of filenames to read: 1\n",
            "I1014 08:32:45.223888 139867123890048 dataset_builder.py:81] Number of filenames to read: 1\n",
            "WARNING:tensorflow:num_readers has been reduced to 1 to match input file shards.\n",
            "W1014 08:32:45.224020 139867123890048 dataset_builder.py:88] num_readers has been reduced to 1 to match input file shards.\n",
            "WARNING:tensorflow:From /usr/local/lib/python3.7/dist-packages/object_detection/builders/dataset_builder.py:105: parallel_interleave (from tensorflow.python.data.experimental.ops.interleave_ops) is deprecated and will be removed in a future version.\n",
            "Instructions for updating:\n",
            "Use `tf.data.Dataset.interleave(map_func, cycle_length, block_length, num_parallel_calls=tf.data.AUTOTUNE)` instead. If sloppy execution is desired, use `tf.data.Options.experimental_deterministic`.\n",
            "W1014 08:32:45.236485 139867123890048 deprecation.py:345] From /usr/local/lib/python3.7/dist-packages/object_detection/builders/dataset_builder.py:105: parallel_interleave (from tensorflow.python.data.experimental.ops.interleave_ops) is deprecated and will be removed in a future version.\n",
            "Instructions for updating:\n",
            "Use `tf.data.Dataset.interleave(map_func, cycle_length, block_length, num_parallel_calls=tf.data.AUTOTUNE)` instead. If sloppy execution is desired, use `tf.data.Options.experimental_deterministic`.\n",
            "WARNING:tensorflow:From /usr/local/lib/python3.7/dist-packages/object_detection/builders/dataset_builder.py:237: DatasetV1.map_with_legacy_function (from tensorflow.python.data.ops.dataset_ops) is deprecated and will be removed in a future version.\n",
            "Instructions for updating:\n",
            "Use `tf.data.Dataset.map()\n",
            "W1014 08:32:45.271823 139867123890048 deprecation.py:345] From /usr/local/lib/python3.7/dist-packages/object_detection/builders/dataset_builder.py:237: DatasetV1.map_with_legacy_function (from tensorflow.python.data.ops.dataset_ops) is deprecated and will be removed in a future version.\n",
            "Instructions for updating:\n",
            "Use `tf.data.Dataset.map()\n",
            "WARNING:tensorflow:From /usr/local/lib/python3.7/dist-packages/tensorflow/python/util/dispatch.py:206: sparse_to_dense (from tensorflow.python.ops.sparse_ops) is deprecated and will be removed in a future version.\n",
            "Instructions for updating:\n",
            "Create a `tf.sparse.SparseTensor` and use `tf.sparse.to_dense` instead.\n",
            "W1014 08:32:53.679794 139867123890048 deprecation.py:345] From /usr/local/lib/python3.7/dist-packages/tensorflow/python/util/dispatch.py:206: sparse_to_dense (from tensorflow.python.ops.sparse_ops) is deprecated and will be removed in a future version.\n",
            "Instructions for updating:\n",
            "Create a `tf.sparse.SparseTensor` and use `tf.sparse.to_dense` instead.\n",
            "WARNING:tensorflow:From /usr/local/lib/python3.7/dist-packages/tensorflow/python/util/dispatch.py:206: sample_distorted_bounding_box (from tensorflow.python.ops.image_ops_impl) is deprecated and will be removed in a future version.\n",
            "Instructions for updating:\n",
            "`seed2` arg is deprecated.Use sample_distorted_bounding_box_v2 instead.\n",
            "W1014 08:32:57.497600 139867123890048 deprecation.py:345] From /usr/local/lib/python3.7/dist-packages/tensorflow/python/util/dispatch.py:206: sample_distorted_bounding_box (from tensorflow.python.ops.image_ops_impl) is deprecated and will be removed in a future version.\n",
            "Instructions for updating:\n",
            "`seed2` arg is deprecated.Use sample_distorted_bounding_box_v2 instead.\n",
            "WARNING:tensorflow:From /usr/local/lib/python3.7/dist-packages/tensorflow/python/autograph/impl/api.py:464: to_float (from tensorflow.python.ops.math_ops) is deprecated and will be removed in a future version.\n",
            "Instructions for updating:\n",
            "Use `tf.cast` instead.\n",
            "W1014 08:32:59.517981 139867123890048 deprecation.py:345] From /usr/local/lib/python3.7/dist-packages/tensorflow/python/autograph/impl/api.py:464: to_float (from tensorflow.python.ops.math_ops) is deprecated and will be removed in a future version.\n",
            "Instructions for updating:\n",
            "Use `tf.cast` instead.\n",
            "2021-10-14 08:33:02.327935: I tensorflow/compiler/mlir/mlir_graph_optimization_pass.cc:185] None of the MLIR Optimization Passes are enabled (registered 2)\n",
            "/usr/local/lib/python3.7/dist-packages/keras/backend.py:401: UserWarning: `tf.keras.backend.set_learning_phase` is deprecated and will be removed after 2020-10-11. To update it, simply pass a True/False value to the `training` argument of the `__call__` method of your layer or model.\n",
            "  warnings.warn('`tf.keras.backend.set_learning_phase` is deprecated and '\n",
            "2021-10-14 08:33:29.491677: I tensorflow/stream_executor/cuda/cuda_dnn.cc:369] Loaded cuDNN version 8005\n",
            "INFO:tensorflow:Reduce to /job:localhost/replica:0/task:0/device:CPU:0 then broadcast to ('/job:localhost/replica:0/task:0/device:CPU:0',).\n",
            "I1014 08:33:59.180763 139867123890048 cross_device_ops.py:621] Reduce to /job:localhost/replica:0/task:0/device:CPU:0 then broadcast to ('/job:localhost/replica:0/task:0/device:CPU:0',).\n",
            "INFO:tensorflow:Reduce to /job:localhost/replica:0/task:0/device:CPU:0 then broadcast to ('/job:localhost/replica:0/task:0/device:CPU:0',).\n",
            "I1014 08:33:59.182263 139867123890048 cross_device_ops.py:621] Reduce to /job:localhost/replica:0/task:0/device:CPU:0 then broadcast to ('/job:localhost/replica:0/task:0/device:CPU:0',).\n",
            "INFO:tensorflow:Reduce to /job:localhost/replica:0/task:0/device:CPU:0 then broadcast to ('/job:localhost/replica:0/task:0/device:CPU:0',).\n",
            "I1014 08:33:59.185324 139867123890048 cross_device_ops.py:621] Reduce to /job:localhost/replica:0/task:0/device:CPU:0 then broadcast to ('/job:localhost/replica:0/task:0/device:CPU:0',).\n",
            "INFO:tensorflow:Reduce to /job:localhost/replica:0/task:0/device:CPU:0 then broadcast to ('/job:localhost/replica:0/task:0/device:CPU:0',).\n",
            "I1014 08:33:59.186535 139867123890048 cross_device_ops.py:621] Reduce to /job:localhost/replica:0/task:0/device:CPU:0 then broadcast to ('/job:localhost/replica:0/task:0/device:CPU:0',).\n",
            "INFO:tensorflow:Reduce to /job:localhost/replica:0/task:0/device:CPU:0 then broadcast to ('/job:localhost/replica:0/task:0/device:CPU:0',).\n",
            "I1014 08:33:59.189490 139867123890048 cross_device_ops.py:621] Reduce to /job:localhost/replica:0/task:0/device:CPU:0 then broadcast to ('/job:localhost/replica:0/task:0/device:CPU:0',).\n",
            "INFO:tensorflow:Reduce to /job:localhost/replica:0/task:0/device:CPU:0 then broadcast to ('/job:localhost/replica:0/task:0/device:CPU:0',).\n",
            "I1014 08:33:59.190630 139867123890048 cross_device_ops.py:621] Reduce to /job:localhost/replica:0/task:0/device:CPU:0 then broadcast to ('/job:localhost/replica:0/task:0/device:CPU:0',).\n",
            "INFO:tensorflow:Reduce to /job:localhost/replica:0/task:0/device:CPU:0 then broadcast to ('/job:localhost/replica:0/task:0/device:CPU:0',).\n",
            "I1014 08:33:59.193665 139867123890048 cross_device_ops.py:621] Reduce to /job:localhost/replica:0/task:0/device:CPU:0 then broadcast to ('/job:localhost/replica:0/task:0/device:CPU:0',).\n",
            "INFO:tensorflow:Reduce to /job:localhost/replica:0/task:0/device:CPU:0 then broadcast to ('/job:localhost/replica:0/task:0/device:CPU:0',).\n",
            "I1014 08:33:59.194844 139867123890048 cross_device_ops.py:621] Reduce to /job:localhost/replica:0/task:0/device:CPU:0 then broadcast to ('/job:localhost/replica:0/task:0/device:CPU:0',).\n",
            "INFO:tensorflow:Reduce to /job:localhost/replica:0/task:0/device:CPU:0 then broadcast to ('/job:localhost/replica:0/task:0/device:CPU:0',).\n",
            "I1014 08:33:59.197729 139867123890048 cross_device_ops.py:621] Reduce to /job:localhost/replica:0/task:0/device:CPU:0 then broadcast to ('/job:localhost/replica:0/task:0/device:CPU:0',).\n",
            "INFO:tensorflow:Reduce to /job:localhost/replica:0/task:0/device:CPU:0 then broadcast to ('/job:localhost/replica:0/task:0/device:CPU:0',).\n",
            "I1014 08:33:59.198945 139867123890048 cross_device_ops.py:621] Reduce to /job:localhost/replica:0/task:0/device:CPU:0 then broadcast to ('/job:localhost/replica:0/task:0/device:CPU:0',).\n",
            "WARNING:tensorflow:From /usr/local/lib/python3.7/dist-packages/tensorflow/python/util/deprecation.py:617: calling map_fn_v2 (from tensorflow.python.ops.map_fn) with dtype is deprecated and will be removed in a future version.\n",
            "Instructions for updating:\n",
            "Use fn_output_signature instead\n",
            "W1014 08:34:00.030873 139862956021504 deprecation.py:548] From /usr/local/lib/python3.7/dist-packages/tensorflow/python/util/deprecation.py:617: calling map_fn_v2 (from tensorflow.python.ops.map_fn) with dtype is deprecated and will be removed in a future version.\n",
            "Instructions for updating:\n",
            "Use fn_output_signature instead\n",
            "INFO:tensorflow:Step 100 per-step time 1.425s\n",
            "I1014 08:36:22.069923 139867123890048 model_lib_v2.py:700] Step 100 per-step time 1.425s\n",
            "INFO:tensorflow:{'Loss/classification_loss': 0.47408733,\n",
            " 'Loss/localization_loss': 0.47673354,\n",
            " 'Loss/regularization_loss': 0.15242359,\n",
            " 'Loss/total_loss': 1.1032444,\n",
            " 'learning_rate': 0.0319994}\n",
            "I1014 08:36:22.070438 139867123890048 model_lib_v2.py:701] {'Loss/classification_loss': 0.47408733,\n",
            " 'Loss/localization_loss': 0.47673354,\n",
            " 'Loss/regularization_loss': 0.15242359,\n",
            " 'Loss/total_loss': 1.1032444,\n",
            " 'learning_rate': 0.0319994}\n",
            "INFO:tensorflow:Step 200 per-step time 1.011s\n",
            "I1014 08:38:03.119138 139867123890048 model_lib_v2.py:700] Step 200 per-step time 1.011s\n",
            "INFO:tensorflow:{'Loss/classification_loss': 0.30851582,\n",
            " 'Loss/localization_loss': 0.2843292,\n",
            " 'Loss/regularization_loss': 0.15296637,\n",
            " 'Loss/total_loss': 0.7458114,\n",
            " 'learning_rate': 0.0373328}\n",
            "I1014 08:38:03.119525 139867123890048 model_lib_v2.py:701] {'Loss/classification_loss': 0.30851582,\n",
            " 'Loss/localization_loss': 0.2843292,\n",
            " 'Loss/regularization_loss': 0.15296637,\n",
            " 'Loss/total_loss': 0.7458114,\n",
            " 'learning_rate': 0.0373328}\n",
            "INFO:tensorflow:Step 300 per-step time 1.010s\n",
            "I1014 08:39:44.077857 139867123890048 model_lib_v2.py:700] Step 300 per-step time 1.010s\n",
            "INFO:tensorflow:{'Loss/classification_loss': 0.32969844,\n",
            " 'Loss/localization_loss': 0.2468878,\n",
            " 'Loss/regularization_loss': 0.1532623,\n",
            " 'Loss/total_loss': 0.72984856,\n",
            " 'learning_rate': 0.0426662}\n",
            "I1014 08:39:44.078230 139867123890048 model_lib_v2.py:701] {'Loss/classification_loss': 0.32969844,\n",
            " 'Loss/localization_loss': 0.2468878,\n",
            " 'Loss/regularization_loss': 0.1532623,\n",
            " 'Loss/total_loss': 0.72984856,\n",
            " 'learning_rate': 0.0426662}\n",
            "INFO:tensorflow:Step 400 per-step time 1.006s\n",
            "I1014 08:41:24.652518 139867123890048 model_lib_v2.py:700] Step 400 per-step time 1.006s\n",
            "INFO:tensorflow:{'Loss/classification_loss': 0.37664133,\n",
            " 'Loss/localization_loss': 0.2649388,\n",
            " 'Loss/regularization_loss': 0.15357676,\n",
            " 'Loss/total_loss': 0.79515684,\n",
            " 'learning_rate': 0.047999598}\n",
            "I1014 08:41:24.652982 139867123890048 model_lib_v2.py:701] {'Loss/classification_loss': 0.37664133,\n",
            " 'Loss/localization_loss': 0.2649388,\n",
            " 'Loss/regularization_loss': 0.15357676,\n",
            " 'Loss/total_loss': 0.79515684,\n",
            " 'learning_rate': 0.047999598}\n",
            "INFO:tensorflow:Step 500 per-step time 1.010s\n",
            "I1014 08:43:05.631436 139867123890048 model_lib_v2.py:700] Step 500 per-step time 1.010s\n",
            "INFO:tensorflow:{'Loss/classification_loss': 0.36003616,\n",
            " 'Loss/localization_loss': 0.22239599,\n",
            " 'Loss/regularization_loss': 0.1541223,\n",
            " 'Loss/total_loss': 0.73655444,\n",
            " 'learning_rate': 0.053333}\n",
            "I1014 08:43:05.631865 139867123890048 model_lib_v2.py:701] {'Loss/classification_loss': 0.36003616,\n",
            " 'Loss/localization_loss': 0.22239599,\n",
            " 'Loss/regularization_loss': 0.1541223,\n",
            " 'Loss/total_loss': 0.73655444,\n",
            " 'learning_rate': 0.053333}\n",
            "INFO:tensorflow:Step 600 per-step time 1.005s\n",
            "I1014 08:44:46.176722 139867123890048 model_lib_v2.py:700] Step 600 per-step time 1.005s\n",
            "INFO:tensorflow:{'Loss/classification_loss': 0.41094998,\n",
            " 'Loss/localization_loss': 0.36379984,\n",
            " 'Loss/regularization_loss': 0.15453088,\n",
            " 'Loss/total_loss': 0.9292807,\n",
            " 'learning_rate': 0.0586664}\n",
            "I1014 08:44:46.177149 139867123890048 model_lib_v2.py:701] {'Loss/classification_loss': 0.41094998,\n",
            " 'Loss/localization_loss': 0.36379984,\n",
            " 'Loss/regularization_loss': 0.15453088,\n",
            " 'Loss/total_loss': 0.9292807,\n",
            " 'learning_rate': 0.0586664}\n",
            "INFO:tensorflow:Step 700 per-step time 1.018s\n",
            "I1014 08:46:27.999993 139867123890048 model_lib_v2.py:700] Step 700 per-step time 1.018s\n",
            "INFO:tensorflow:{'Loss/classification_loss': 0.32979584,\n",
            " 'Loss/localization_loss': 0.29501534,\n",
            " 'Loss/regularization_loss': 0.15495697,\n",
            " 'Loss/total_loss': 0.7797681,\n",
            " 'learning_rate': 0.0639998}\n",
            "I1014 08:46:28.000440 139867123890048 model_lib_v2.py:701] {'Loss/classification_loss': 0.32979584,\n",
            " 'Loss/localization_loss': 0.29501534,\n",
            " 'Loss/regularization_loss': 0.15495697,\n",
            " 'Loss/total_loss': 0.7797681,\n",
            " 'learning_rate': 0.0639998}\n",
            "INFO:tensorflow:Step 800 per-step time 1.014s\n",
            "I1014 08:48:09.367362 139867123890048 model_lib_v2.py:700] Step 800 per-step time 1.014s\n",
            "INFO:tensorflow:{'Loss/classification_loss': 0.40926817,\n",
            " 'Loss/localization_loss': 0.25331613,\n",
            " 'Loss/regularization_loss': 0.15549904,\n",
            " 'Loss/total_loss': 0.81808335,\n",
            " 'learning_rate': 0.069333196}\n",
            "I1014 08:48:09.367814 139867123890048 model_lib_v2.py:701] {'Loss/classification_loss': 0.40926817,\n",
            " 'Loss/localization_loss': 0.25331613,\n",
            " 'Loss/regularization_loss': 0.15549904,\n",
            " 'Loss/total_loss': 0.81808335,\n",
            " 'learning_rate': 0.069333196}\n",
            "INFO:tensorflow:Step 900 per-step time 1.014s\n",
            "I1014 08:49:50.762477 139867123890048 model_lib_v2.py:700] Step 900 per-step time 1.014s\n",
            "INFO:tensorflow:{'Loss/classification_loss': 0.31744722,\n",
            " 'Loss/localization_loss': 0.27779585,\n",
            " 'Loss/regularization_loss': 0.15588015,\n",
            " 'Loss/total_loss': 0.75112325,\n",
            " 'learning_rate': 0.074666604}\n",
            "I1014 08:49:50.762913 139867123890048 model_lib_v2.py:701] {'Loss/classification_loss': 0.31744722,\n",
            " 'Loss/localization_loss': 0.27779585,\n",
            " 'Loss/regularization_loss': 0.15588015,\n",
            " 'Loss/total_loss': 0.75112325,\n",
            " 'learning_rate': 0.074666604}\n",
            "INFO:tensorflow:Step 1000 per-step time 1.020s\n",
            "I1014 08:51:32.741561 139867123890048 model_lib_v2.py:700] Step 1000 per-step time 1.020s\n",
            "INFO:tensorflow:{'Loss/classification_loss': 0.29012516,\n",
            " 'Loss/localization_loss': 0.22746019,\n",
            " 'Loss/regularization_loss': 0.15640113,\n",
            " 'Loss/total_loss': 0.67398643,\n",
            " 'learning_rate': 0.08}\n",
            "I1014 08:51:32.742423 139867123890048 model_lib_v2.py:701] {'Loss/classification_loss': 0.29012516,\n",
            " 'Loss/localization_loss': 0.22746019,\n",
            " 'Loss/regularization_loss': 0.15640113,\n",
            " 'Loss/total_loss': 0.67398643,\n",
            " 'learning_rate': 0.08}\n",
            "INFO:tensorflow:Step 1100 per-step time 1.024s\n",
            "I1014 08:53:15.160930 139867123890048 model_lib_v2.py:700] Step 1100 per-step time 1.024s\n",
            "INFO:tensorflow:{'Loss/classification_loss': 0.21875556,\n",
            " 'Loss/localization_loss': 0.18457589,\n",
            " 'Loss/regularization_loss': 0.15684678,\n",
            " 'Loss/total_loss': 0.5601782,\n",
            " 'learning_rate': 0.07996915}\n",
            "I1014 08:53:15.161344 139867123890048 model_lib_v2.py:701] {'Loss/classification_loss': 0.21875556,\n",
            " 'Loss/localization_loss': 0.18457589,\n",
            " 'Loss/regularization_loss': 0.15684678,\n",
            " 'Loss/total_loss': 0.5601782,\n",
            " 'learning_rate': 0.07996915}\n",
            "INFO:tensorflow:Step 1200 per-step time 1.006s\n",
            "I1014 08:54:55.756013 139867123890048 model_lib_v2.py:700] Step 1200 per-step time 1.006s\n",
            "INFO:tensorflow:{'Loss/classification_loss': 0.28273195,\n",
            " 'Loss/localization_loss': 0.12142092,\n",
            " 'Loss/regularization_loss': 0.15720777,\n",
            " 'Loss/total_loss': 0.56136066,\n",
            " 'learning_rate': 0.07987669}\n",
            "I1014 08:54:55.756412 139867123890048 model_lib_v2.py:701] {'Loss/classification_loss': 0.28273195,\n",
            " 'Loss/localization_loss': 0.12142092,\n",
            " 'Loss/regularization_loss': 0.15720777,\n",
            " 'Loss/total_loss': 0.56136066,\n",
            " 'learning_rate': 0.07987669}\n",
            "INFO:tensorflow:Step 1300 per-step time 1.007s\n",
            "I1014 08:56:36.442428 139867123890048 model_lib_v2.py:700] Step 1300 per-step time 1.007s\n",
            "INFO:tensorflow:{'Loss/classification_loss': 0.18178244,\n",
            " 'Loss/localization_loss': 0.077755086,\n",
            " 'Loss/regularization_loss': 0.15745416,\n",
            " 'Loss/total_loss': 0.41699168,\n",
            " 'learning_rate': 0.07972274}\n",
            "I1014 08:56:36.442886 139867123890048 model_lib_v2.py:701] {'Loss/classification_loss': 0.18178244,\n",
            " 'Loss/localization_loss': 0.077755086,\n",
            " 'Loss/regularization_loss': 0.15745416,\n",
            " 'Loss/total_loss': 0.41699168,\n",
            " 'learning_rate': 0.07972274}\n",
            "INFO:tensorflow:Step 1400 per-step time 1.018s\n",
            "I1014 08:58:18.195230 139867123890048 model_lib_v2.py:700] Step 1400 per-step time 1.018s\n",
            "INFO:tensorflow:{'Loss/classification_loss': 0.27210557,\n",
            " 'Loss/localization_loss': 0.28699097,\n",
            " 'Loss/regularization_loss': 0.15786041,\n",
            " 'Loss/total_loss': 0.716957,\n",
            " 'learning_rate': 0.07950753}\n",
            "I1014 08:58:18.195622 139867123890048 model_lib_v2.py:701] {'Loss/classification_loss': 0.27210557,\n",
            " 'Loss/localization_loss': 0.28699097,\n",
            " 'Loss/regularization_loss': 0.15786041,\n",
            " 'Loss/total_loss': 0.716957,\n",
            " 'learning_rate': 0.07950753}\n",
            "INFO:tensorflow:Step 1500 per-step time 1.013s\n",
            "I1014 08:59:59.463241 139867123890048 model_lib_v2.py:700] Step 1500 per-step time 1.013s\n",
            "INFO:tensorflow:{'Loss/classification_loss': 0.1847269,\n",
            " 'Loss/localization_loss': 0.14823052,\n",
            " 'Loss/regularization_loss': 0.15791082,\n",
            " 'Loss/total_loss': 0.49086824,\n",
            " 'learning_rate': 0.07923141}\n",
            "I1014 08:59:59.463701 139867123890048 model_lib_v2.py:701] {'Loss/classification_loss': 0.1847269,\n",
            " 'Loss/localization_loss': 0.14823052,\n",
            " 'Loss/regularization_loss': 0.15791082,\n",
            " 'Loss/total_loss': 0.49086824,\n",
            " 'learning_rate': 0.07923141}\n",
            "INFO:tensorflow:Step 1600 per-step time 1.008s\n",
            "I1014 09:01:40.305271 139867123890048 model_lib_v2.py:700] Step 1600 per-step time 1.008s\n",
            "INFO:tensorflow:{'Loss/classification_loss': 0.26229677,\n",
            " 'Loss/localization_loss': 0.18895763,\n",
            " 'Loss/regularization_loss': 0.15793271,\n",
            " 'Loss/total_loss': 0.6091871,\n",
            " 'learning_rate': 0.078894794}\n",
            "I1014 09:01:40.305658 139867123890048 model_lib_v2.py:701] {'Loss/classification_loss': 0.26229677,\n",
            " 'Loss/localization_loss': 0.18895763,\n",
            " 'Loss/regularization_loss': 0.15793271,\n",
            " 'Loss/total_loss': 0.6091871,\n",
            " 'learning_rate': 0.078894794}\n",
            "INFO:tensorflow:Step 1700 per-step time 1.005s\n",
            "I1014 09:03:20.823849 139867123890048 model_lib_v2.py:700] Step 1700 per-step time 1.005s\n",
            "INFO:tensorflow:{'Loss/classification_loss': 0.14752513,\n",
            " 'Loss/localization_loss': 0.1109136,\n",
            " 'Loss/regularization_loss': 0.1581504,\n",
            " 'Loss/total_loss': 0.41658914,\n",
            " 'learning_rate': 0.07849821}\n",
            "I1014 09:03:20.824204 139867123890048 model_lib_v2.py:701] {'Loss/classification_loss': 0.14752513,\n",
            " 'Loss/localization_loss': 0.1109136,\n",
            " 'Loss/regularization_loss': 0.1581504,\n",
            " 'Loss/total_loss': 0.41658914,\n",
            " 'learning_rate': 0.07849821}\n",
            "INFO:tensorflow:Step 1800 per-step time 1.010s\n",
            "I1014 09:05:01.802144 139867123890048 model_lib_v2.py:700] Step 1800 per-step time 1.010s\n",
            "INFO:tensorflow:{'Loss/classification_loss': 0.16975582,\n",
            " 'Loss/localization_loss': 0.13492113,\n",
            " 'Loss/regularization_loss': 0.15835772,\n",
            " 'Loss/total_loss': 0.4630347,\n",
            " 'learning_rate': 0.078042254}\n",
            "I1014 09:05:01.802558 139867123890048 model_lib_v2.py:701] {'Loss/classification_loss': 0.16975582,\n",
            " 'Loss/localization_loss': 0.13492113,\n",
            " 'Loss/regularization_loss': 0.15835772,\n",
            " 'Loss/total_loss': 0.4630347,\n",
            " 'learning_rate': 0.078042254}\n",
            "INFO:tensorflow:Step 1900 per-step time 1.004s\n",
            "I1014 09:06:42.251230 139867123890048 model_lib_v2.py:700] Step 1900 per-step time 1.004s\n",
            "INFO:tensorflow:{'Loss/classification_loss': 0.25307572,\n",
            " 'Loss/localization_loss': 0.15069012,\n",
            " 'Loss/regularization_loss': 0.1586939,\n",
            " 'Loss/total_loss': 0.56245977,\n",
            " 'learning_rate': 0.07752766}\n",
            "I1014 09:06:42.251596 139867123890048 model_lib_v2.py:701] {'Loss/classification_loss': 0.25307572,\n",
            " 'Loss/localization_loss': 0.15069012,\n",
            " 'Loss/regularization_loss': 0.1586939,\n",
            " 'Loss/total_loss': 0.56245977,\n",
            " 'learning_rate': 0.07752766}\n",
            "INFO:tensorflow:Step 2000 per-step time 1.009s\n",
            "I1014 09:08:23.143718 139867123890048 model_lib_v2.py:700] Step 2000 per-step time 1.009s\n",
            "INFO:tensorflow:{'Loss/classification_loss': 0.3194212,\n",
            " 'Loss/localization_loss': 0.20001681,\n",
            " 'Loss/regularization_loss': 0.15863162,\n",
            " 'Loss/total_loss': 0.67806965,\n",
            " 'learning_rate': 0.076955184}\n",
            "I1014 09:08:23.144090 139867123890048 model_lib_v2.py:701] {'Loss/classification_loss': 0.3194212,\n",
            " 'Loss/localization_loss': 0.20001681,\n",
            " 'Loss/regularization_loss': 0.15863162,\n",
            " 'Loss/total_loss': 0.67806965,\n",
            " 'learning_rate': 0.076955184}\n",
            "INFO:tensorflow:Step 2100 per-step time 1.010s\n",
            "I1014 09:10:04.153442 139867123890048 model_lib_v2.py:700] Step 2100 per-step time 1.010s\n",
            "INFO:tensorflow:{'Loss/classification_loss': 0.18309464,\n",
            " 'Loss/localization_loss': 0.09684424,\n",
            " 'Loss/regularization_loss': 0.15831792,\n",
            " 'Loss/total_loss': 0.4382568,\n",
            " 'learning_rate': 0.07632572}\n",
            "I1014 09:10:04.153857 139867123890048 model_lib_v2.py:701] {'Loss/classification_loss': 0.18309464,\n",
            " 'Loss/localization_loss': 0.09684424,\n",
            " 'Loss/regularization_loss': 0.15831792,\n",
            " 'Loss/total_loss': 0.4382568,\n",
            " 'learning_rate': 0.07632572}\n",
            "INFO:tensorflow:Step 2200 per-step time 1.011s\n",
            "I1014 09:11:45.275697 139867123890048 model_lib_v2.py:700] Step 2200 per-step time 1.011s\n",
            "INFO:tensorflow:{'Loss/classification_loss': 0.26681408,\n",
            " 'Loss/localization_loss': 0.10060342,\n",
            " 'Loss/regularization_loss': 0.15804213,\n",
            " 'Loss/total_loss': 0.52545965,\n",
            " 'learning_rate': 0.07564025}\n",
            "I1014 09:11:45.276091 139867123890048 model_lib_v2.py:701] {'Loss/classification_loss': 0.26681408,\n",
            " 'Loss/localization_loss': 0.10060342,\n",
            " 'Loss/regularization_loss': 0.15804213,\n",
            " 'Loss/total_loss': 0.52545965,\n",
            " 'learning_rate': 0.07564025}\n",
            "INFO:tensorflow:Step 2300 per-step time 1.014s\n",
            "I1014 09:13:26.665490 139867123890048 model_lib_v2.py:700] Step 2300 per-step time 1.014s\n",
            "INFO:tensorflow:{'Loss/classification_loss': 0.20552601,\n",
            " 'Loss/localization_loss': 0.12543507,\n",
            " 'Loss/regularization_loss': 0.15808363,\n",
            " 'Loss/total_loss': 0.48904473,\n",
            " 'learning_rate': 0.07489984}\n",
            "I1014 09:13:26.665976 139867123890048 model_lib_v2.py:701] {'Loss/classification_loss': 0.20552601,\n",
            " 'Loss/localization_loss': 0.12543507,\n",
            " 'Loss/regularization_loss': 0.15808363,\n",
            " 'Loss/total_loss': 0.48904473,\n",
            " 'learning_rate': 0.07489984}\n",
            "INFO:tensorflow:Step 2400 per-step time 1.004s\n",
            "I1014 09:15:07.073535 139867123890048 model_lib_v2.py:700] Step 2400 per-step time 1.004s\n",
            "INFO:tensorflow:{'Loss/classification_loss': 0.1290175,\n",
            " 'Loss/localization_loss': 0.06392261,\n",
            " 'Loss/regularization_loss': 0.15798637,\n",
            " 'Loss/total_loss': 0.3509265,\n",
            " 'learning_rate': 0.074105605}\n",
            "I1014 09:15:07.073950 139867123890048 model_lib_v2.py:701] {'Loss/classification_loss': 0.1290175,\n",
            " 'Loss/localization_loss': 0.06392261,\n",
            " 'Loss/regularization_loss': 0.15798637,\n",
            " 'Loss/total_loss': 0.3509265,\n",
            " 'learning_rate': 0.074105605}\n",
            "INFO:tensorflow:Step 2500 per-step time 1.007s\n",
            "I1014 09:16:47.812997 139867123890048 model_lib_v2.py:700] Step 2500 per-step time 1.007s\n",
            "INFO:tensorflow:{'Loss/classification_loss': 0.14224003,\n",
            " 'Loss/localization_loss': 0.10062293,\n",
            " 'Loss/regularization_loss': 0.15802921,\n",
            " 'Loss/total_loss': 0.4008922,\n",
            " 'learning_rate': 0.07325879}\n",
            "I1014 09:16:47.813448 139867123890048 model_lib_v2.py:701] {'Loss/classification_loss': 0.14224003,\n",
            " 'Loss/localization_loss': 0.10062293,\n",
            " 'Loss/regularization_loss': 0.15802921,\n",
            " 'Loss/total_loss': 0.4008922,\n",
            " 'learning_rate': 0.07325879}\n",
            "INFO:tensorflow:Step 2600 per-step time 1.006s\n",
            "I1014 09:18:28.388972 139867123890048 model_lib_v2.py:700] Step 2600 per-step time 1.006s\n",
            "INFO:tensorflow:{'Loss/classification_loss': 0.19475801,\n",
            " 'Loss/localization_loss': 0.09862969,\n",
            " 'Loss/regularization_loss': 0.15784852,\n",
            " 'Loss/total_loss': 0.45123625,\n",
            " 'learning_rate': 0.07236068}\n",
            "I1014 09:18:28.389385 139867123890048 model_lib_v2.py:701] {'Loss/classification_loss': 0.19475801,\n",
            " 'Loss/localization_loss': 0.09862969,\n",
            " 'Loss/regularization_loss': 0.15784852,\n",
            " 'Loss/total_loss': 0.45123625,\n",
            " 'learning_rate': 0.07236068}\n",
            "INFO:tensorflow:Step 2700 per-step time 1.007s\n",
            "I1014 09:20:09.046694 139867123890048 model_lib_v2.py:700] Step 2700 per-step time 1.007s\n",
            "INFO:tensorflow:{'Loss/classification_loss': 0.13467911,\n",
            " 'Loss/localization_loss': 0.0849517,\n",
            " 'Loss/regularization_loss': 0.15759182,\n",
            " 'Loss/total_loss': 0.37722263,\n",
            " 'learning_rate': 0.071412675}\n",
            "I1014 09:20:09.047047 139867123890048 model_lib_v2.py:701] {'Loss/classification_loss': 0.13467911,\n",
            " 'Loss/localization_loss': 0.0849517,\n",
            " 'Loss/regularization_loss': 0.15759182,\n",
            " 'Loss/total_loss': 0.37722263,\n",
            " 'learning_rate': 0.071412675}\n",
            "INFO:tensorflow:Step 2800 per-step time 1.013s\n",
            "I1014 09:21:50.298813 139867123890048 model_lib_v2.py:700] Step 2800 per-step time 1.013s\n",
            "INFO:tensorflow:{'Loss/classification_loss': 0.08765476,\n",
            " 'Loss/localization_loss': 0.05200757,\n",
            " 'Loss/regularization_loss': 0.15727401,\n",
            " 'Loss/total_loss': 0.29693633,\n",
            " 'learning_rate': 0.07041624}\n",
            "I1014 09:21:50.299189 139867123890048 model_lib_v2.py:701] {'Loss/classification_loss': 0.08765476,\n",
            " 'Loss/localization_loss': 0.05200757,\n",
            " 'Loss/regularization_loss': 0.15727401,\n",
            " 'Loss/total_loss': 0.29693633,\n",
            " 'learning_rate': 0.07041624}\n",
            "INFO:tensorflow:Step 2900 per-step time 1.008s\n",
            "I1014 09:23:31.115732 139867123890048 model_lib_v2.py:700] Step 2900 per-step time 1.008s\n",
            "INFO:tensorflow:{'Loss/classification_loss': 0.16443086,\n",
            " 'Loss/localization_loss': 0.08751149,\n",
            " 'Loss/regularization_loss': 0.15693396,\n",
            " 'Loss/total_loss': 0.4088763,\n",
            " 'learning_rate': 0.0693729}\n",
            "I1014 09:23:31.116256 139867123890048 model_lib_v2.py:701] {'Loss/classification_loss': 0.16443086,\n",
            " 'Loss/localization_loss': 0.08751149,\n",
            " 'Loss/regularization_loss': 0.15693396,\n",
            " 'Loss/total_loss': 0.4088763,\n",
            " 'learning_rate': 0.0693729}\n",
            "INFO:tensorflow:Step 3000 per-step time 1.012s\n",
            "I1014 09:25:12.293784 139867123890048 model_lib_v2.py:700] Step 3000 per-step time 1.012s\n",
            "INFO:tensorflow:{'Loss/classification_loss': 0.21043809,\n",
            " 'Loss/localization_loss': 0.12745486,\n",
            " 'Loss/regularization_loss': 0.15671577,\n",
            " 'Loss/total_loss': 0.4946087,\n",
            " 'learning_rate': 0.06828427}\n",
            "I1014 09:25:12.294157 139867123890048 model_lib_v2.py:701] {'Loss/classification_loss': 0.21043809,\n",
            " 'Loss/localization_loss': 0.12745486,\n",
            " 'Loss/regularization_loss': 0.15671577,\n",
            " 'Loss/total_loss': 0.4946087,\n",
            " 'learning_rate': 0.06828427}\n",
            "INFO:tensorflow:Step 3100 per-step time 1.014s\n",
            "I1014 09:26:53.727703 139867123890048 model_lib_v2.py:700] Step 3100 per-step time 1.014s\n",
            "INFO:tensorflow:{'Loss/classification_loss': 0.2138164,\n",
            " 'Loss/localization_loss': 0.16889387,\n",
            " 'Loss/regularization_loss': 0.15648745,\n",
            " 'Loss/total_loss': 0.53919774,\n",
            " 'learning_rate': 0.06715202}\n",
            "I1014 09:26:53.728108 139867123890048 model_lib_v2.py:701] {'Loss/classification_loss': 0.2138164,\n",
            " 'Loss/localization_loss': 0.16889387,\n",
            " 'Loss/regularization_loss': 0.15648745,\n",
            " 'Loss/total_loss': 0.53919774,\n",
            " 'learning_rate': 0.06715202}\n",
            "INFO:tensorflow:Step 3200 per-step time 1.017s\n",
            "I1014 09:28:35.403963 139867123890048 model_lib_v2.py:700] Step 3200 per-step time 1.017s\n",
            "INFO:tensorflow:{'Loss/classification_loss': 0.1230762,\n",
            " 'Loss/localization_loss': 0.056995336,\n",
            " 'Loss/regularization_loss': 0.15621687,\n",
            " 'Loss/total_loss': 0.3362884,\n",
            " 'learning_rate': 0.06597792}\n",
            "I1014 09:28:35.404392 139867123890048 model_lib_v2.py:701] {'Loss/classification_loss': 0.1230762,\n",
            " 'Loss/localization_loss': 0.056995336,\n",
            " 'Loss/regularization_loss': 0.15621687,\n",
            " 'Loss/total_loss': 0.3362884,\n",
            " 'learning_rate': 0.06597792}\n",
            "INFO:tensorflow:Step 3300 per-step time 1.007s\n",
            "I1014 09:30:16.150582 139867123890048 model_lib_v2.py:700] Step 3300 per-step time 1.007s\n",
            "INFO:tensorflow:{'Loss/classification_loss': 0.12857738,\n",
            " 'Loss/localization_loss': 0.08570043,\n",
            " 'Loss/regularization_loss': 0.15598117,\n",
            " 'Loss/total_loss': 0.370259,\n",
            " 'learning_rate': 0.064763755}\n",
            "I1014 09:30:16.151013 139867123890048 model_lib_v2.py:701] {'Loss/classification_loss': 0.12857738,\n",
            " 'Loss/localization_loss': 0.08570043,\n",
            " 'Loss/regularization_loss': 0.15598117,\n",
            " 'Loss/total_loss': 0.370259,\n",
            " 'learning_rate': 0.064763755}\n",
            "INFO:tensorflow:Step 3400 per-step time 1.005s\n",
            "I1014 09:31:56.628608 139867123890048 model_lib_v2.py:700] Step 3400 per-step time 1.005s\n",
            "INFO:tensorflow:{'Loss/classification_loss': 0.24580248,\n",
            " 'Loss/localization_loss': 0.13347454,\n",
            " 'Loss/regularization_loss': 0.15558761,\n",
            " 'Loss/total_loss': 0.53486466,\n",
            " 'learning_rate': 0.06351141}\n",
            "I1014 09:31:56.629105 139867123890048 model_lib_v2.py:701] {'Loss/classification_loss': 0.24580248,\n",
            " 'Loss/localization_loss': 0.13347454,\n",
            " 'Loss/regularization_loss': 0.15558761,\n",
            " 'Loss/total_loss': 0.53486466,\n",
            " 'learning_rate': 0.06351141}\n",
            "INFO:tensorflow:Step 3500 per-step time 1.011s\n",
            "I1014 09:33:37.759424 139867123890048 model_lib_v2.py:700] Step 3500 per-step time 1.011s\n",
            "INFO:tensorflow:{'Loss/classification_loss': 0.12965888,\n",
            " 'Loss/localization_loss': 0.07584737,\n",
            " 'Loss/regularization_loss': 0.1551839,\n",
            " 'Loss/total_loss': 0.36069015,\n",
            " 'learning_rate': 0.062222805}\n",
            "I1014 09:33:37.759885 139867123890048 model_lib_v2.py:701] {'Loss/classification_loss': 0.12965888,\n",
            " 'Loss/localization_loss': 0.07584737,\n",
            " 'Loss/regularization_loss': 0.1551839,\n",
            " 'Loss/total_loss': 0.36069015,\n",
            " 'learning_rate': 0.062222805}\n",
            "INFO:tensorflow:Step 3600 per-step time 1.007s\n",
            "I1014 09:35:18.407344 139867123890048 model_lib_v2.py:700] Step 3600 per-step time 1.007s\n",
            "INFO:tensorflow:{'Loss/classification_loss': 0.10766132,\n",
            " 'Loss/localization_loss': 0.06051838,\n",
            " 'Loss/regularization_loss': 0.15468353,\n",
            " 'Loss/total_loss': 0.32286322,\n",
            " 'learning_rate': 0.06089994}\n",
            "I1014 09:35:18.407741 139867123890048 model_lib_v2.py:701] {'Loss/classification_loss': 0.10766132,\n",
            " 'Loss/localization_loss': 0.06051838,\n",
            " 'Loss/regularization_loss': 0.15468353,\n",
            " 'Loss/total_loss': 0.32286322,\n",
            " 'learning_rate': 0.06089994}\n",
            "INFO:tensorflow:Step 3700 per-step time 1.009s\n",
            "I1014 09:36:59.302758 139867123890048 model_lib_v2.py:700] Step 3700 per-step time 1.009s\n",
            "INFO:tensorflow:{'Loss/classification_loss': 0.16368206,\n",
            " 'Loss/localization_loss': 0.075777024,\n",
            " 'Loss/regularization_loss': 0.1542868,\n",
            " 'Loss/total_loss': 0.3937459,\n",
            " 'learning_rate': 0.059544846}\n",
            "I1014 09:36:59.303190 139867123890048 model_lib_v2.py:701] {'Loss/classification_loss': 0.16368206,\n",
            " 'Loss/localization_loss': 0.075777024,\n",
            " 'Loss/regularization_loss': 0.1542868,\n",
            " 'Loss/total_loss': 0.3937459,\n",
            " 'learning_rate': 0.059544846}\n",
            "INFO:tensorflow:Step 3800 per-step time 1.013s\n",
            "I1014 09:38:40.558623 139867123890048 model_lib_v2.py:700] Step 3800 per-step time 1.013s\n",
            "INFO:tensorflow:{'Loss/classification_loss': 0.0859136,\n",
            " 'Loss/localization_loss': 0.06112208,\n",
            " 'Loss/regularization_loss': 0.15389863,\n",
            " 'Loss/total_loss': 0.3009343,\n",
            " 'learning_rate': 0.058159616}\n",
            "I1014 09:38:40.559018 139867123890048 model_lib_v2.py:701] {'Loss/classification_loss': 0.0859136,\n",
            " 'Loss/localization_loss': 0.06112208,\n",
            " 'Loss/regularization_loss': 0.15389863,\n",
            " 'Loss/total_loss': 0.3009343,\n",
            " 'learning_rate': 0.058159616}\n",
            "INFO:tensorflow:Step 3900 per-step time 1.015s\n",
            "I1014 09:40:22.057420 139867123890048 model_lib_v2.py:700] Step 3900 per-step time 1.015s\n",
            "INFO:tensorflow:{'Loss/classification_loss': 0.10286185,\n",
            " 'Loss/localization_loss': 0.07720542,\n",
            " 'Loss/regularization_loss': 0.15352237,\n",
            " 'Loss/total_loss': 0.33358964,\n",
            " 'learning_rate': 0.056746386}\n",
            "I1014 09:40:22.057803 139867123890048 model_lib_v2.py:701] {'Loss/classification_loss': 0.10286185,\n",
            " 'Loss/localization_loss': 0.07720542,\n",
            " 'Loss/regularization_loss': 0.15352237,\n",
            " 'Loss/total_loss': 0.33358964,\n",
            " 'learning_rate': 0.056746386}\n",
            "INFO:tensorflow:Step 4000 per-step time 1.022s\n",
            "I1014 09:42:04.263128 139867123890048 model_lib_v2.py:700] Step 4000 per-step time 1.022s\n",
            "INFO:tensorflow:{'Loss/classification_loss': 0.10151471,\n",
            " 'Loss/localization_loss': 0.025446016,\n",
            " 'Loss/regularization_loss': 0.15317094,\n",
            " 'Loss/total_loss': 0.28013167,\n",
            " 'learning_rate': 0.05530734}\n",
            "I1014 09:42:04.263543 139867123890048 model_lib_v2.py:701] {'Loss/classification_loss': 0.10151471,\n",
            " 'Loss/localization_loss': 0.025446016,\n",
            " 'Loss/regularization_loss': 0.15317094,\n",
            " 'Loss/total_loss': 0.28013167,\n",
            " 'learning_rate': 0.05530734}\n",
            "INFO:tensorflow:Step 4100 per-step time 1.014s\n",
            "I1014 09:43:45.708421 139867123890048 model_lib_v2.py:700] Step 4100 per-step time 1.014s\n",
            "INFO:tensorflow:{'Loss/classification_loss': 0.089550294,\n",
            " 'Loss/localization_loss': 0.057457365,\n",
            " 'Loss/regularization_loss': 0.15278631,\n",
            " 'Loss/total_loss': 0.29979396,\n",
            " 'learning_rate': 0.05384468}\n",
            "I1014 09:43:45.708788 139867123890048 model_lib_v2.py:701] {'Loss/classification_loss': 0.089550294,\n",
            " 'Loss/localization_loss': 0.057457365,\n",
            " 'Loss/regularization_loss': 0.15278631,\n",
            " 'Loss/total_loss': 0.29979396,\n",
            " 'learning_rate': 0.05384468}\n",
            "INFO:tensorflow:Step 4200 per-step time 1.011s\n",
            "I1014 09:45:26.851741 139867123890048 model_lib_v2.py:700] Step 4200 per-step time 1.011s\n",
            "INFO:tensorflow:{'Loss/classification_loss': 0.13896346,\n",
            " 'Loss/localization_loss': 0.06325248,\n",
            " 'Loss/regularization_loss': 0.15249826,\n",
            " 'Loss/total_loss': 0.3547142,\n",
            " 'learning_rate': 0.052360676}\n",
            "I1014 09:45:26.852088 139867123890048 model_lib_v2.py:701] {'Loss/classification_loss': 0.13896346,\n",
            " 'Loss/localization_loss': 0.06325248,\n",
            " 'Loss/regularization_loss': 0.15249826,\n",
            " 'Loss/total_loss': 0.3547142,\n",
            " 'learning_rate': 0.052360676}\n",
            "INFO:tensorflow:Step 4300 per-step time 1.021s\n",
            "I1014 09:47:08.919619 139867123890048 model_lib_v2.py:700] Step 4300 per-step time 1.021s\n",
            "INFO:tensorflow:{'Loss/classification_loss': 0.10524049,\n",
            " 'Loss/localization_loss': 0.09841573,\n",
            " 'Loss/regularization_loss': 0.15216991,\n",
            " 'Loss/total_loss': 0.35582614,\n",
            " 'learning_rate': 0.050857615}\n",
            "I1014 09:47:08.920045 139867123890048 model_lib_v2.py:701] {'Loss/classification_loss': 0.10524049,\n",
            " 'Loss/localization_loss': 0.09841573,\n",
            " 'Loss/regularization_loss': 0.15216991,\n",
            " 'Loss/total_loss': 0.35582614,\n",
            " 'learning_rate': 0.050857615}\n",
            "INFO:tensorflow:Step 4400 per-step time 1.009s\n",
            "I1014 09:48:49.775777 139867123890048 model_lib_v2.py:700] Step 4400 per-step time 1.009s\n",
            "INFO:tensorflow:{'Loss/classification_loss': 0.10791651,\n",
            " 'Loss/localization_loss': 0.056609042,\n",
            " 'Loss/regularization_loss': 0.15180165,\n",
            " 'Loss/total_loss': 0.3163272,\n",
            " 'learning_rate': 0.049337815}\n",
            "I1014 09:48:49.776216 139867123890048 model_lib_v2.py:701] {'Loss/classification_loss': 0.10791651,\n",
            " 'Loss/localization_loss': 0.056609042,\n",
            " 'Loss/regularization_loss': 0.15180165,\n",
            " 'Loss/total_loss': 0.3163272,\n",
            " 'learning_rate': 0.049337815}\n",
            "INFO:tensorflow:Step 4500 per-step time 1.014s\n",
            "I1014 09:50:31.153877 139867123890048 model_lib_v2.py:700] Step 4500 per-step time 1.014s\n",
            "INFO:tensorflow:{'Loss/classification_loss': 0.117962874,\n",
            " 'Loss/localization_loss': 0.044346504,\n",
            " 'Loss/regularization_loss': 0.15140831,\n",
            " 'Loss/total_loss': 0.3137177,\n",
            " 'learning_rate': 0.04780361}\n",
            "I1014 09:50:31.154262 139867123890048 model_lib_v2.py:701] {'Loss/classification_loss': 0.117962874,\n",
            " 'Loss/localization_loss': 0.044346504,\n",
            " 'Loss/regularization_loss': 0.15140831,\n",
            " 'Loss/total_loss': 0.3137177,\n",
            " 'learning_rate': 0.04780361}\n",
            "INFO:tensorflow:Step 4600 per-step time 1.008s\n",
            "I1014 09:52:11.989173 139867123890048 model_lib_v2.py:700] Step 4600 per-step time 1.008s\n",
            "INFO:tensorflow:{'Loss/classification_loss': 0.082531005,\n",
            " 'Loss/localization_loss': 0.04457476,\n",
            " 'Loss/regularization_loss': 0.15108232,\n",
            " 'Loss/total_loss': 0.2781881,\n",
            " 'learning_rate': 0.04625738}\n",
            "I1014 09:52:11.989588 139867123890048 model_lib_v2.py:701] {'Loss/classification_loss': 0.082531005,\n",
            " 'Loss/localization_loss': 0.04457476,\n",
            " 'Loss/regularization_loss': 0.15108232,\n",
            " 'Loss/total_loss': 0.2781881,\n",
            " 'learning_rate': 0.04625738}\n",
            "INFO:tensorflow:Step 4700 per-step time 1.015s\n",
            "I1014 09:53:53.506123 139867123890048 model_lib_v2.py:700] Step 4700 per-step time 1.015s\n",
            "INFO:tensorflow:{'Loss/classification_loss': 0.11144334,\n",
            " 'Loss/localization_loss': 0.047480635,\n",
            " 'Loss/regularization_loss': 0.15068762,\n",
            " 'Loss/total_loss': 0.30961162,\n",
            " 'learning_rate': 0.04470149}\n",
            "I1014 09:53:53.506527 139867123890048 model_lib_v2.py:701] {'Loss/classification_loss': 0.11144334,\n",
            " 'Loss/localization_loss': 0.047480635,\n",
            " 'Loss/regularization_loss': 0.15068762,\n",
            " 'Loss/total_loss': 0.30961162,\n",
            " 'learning_rate': 0.04470149}\n",
            "INFO:tensorflow:Step 4800 per-step time 1.022s\n",
            "I1014 09:55:35.726644 139867123890048 model_lib_v2.py:700] Step 4800 per-step time 1.022s\n",
            "INFO:tensorflow:{'Loss/classification_loss': 0.0878706,\n",
            " 'Loss/localization_loss': 0.02879046,\n",
            " 'Loss/regularization_loss': 0.15034898,\n",
            " 'Loss/total_loss': 0.26701003,\n",
            " 'learning_rate': 0.04313836}\n",
            "I1014 09:55:35.727025 139867123890048 model_lib_v2.py:701] {'Loss/classification_loss': 0.0878706,\n",
            " 'Loss/localization_loss': 0.02879046,\n",
            " 'Loss/regularization_loss': 0.15034898,\n",
            " 'Loss/total_loss': 0.26701003,\n",
            " 'learning_rate': 0.04313836}\n",
            "INFO:tensorflow:Step 4900 per-step time 1.016s\n",
            "I1014 09:57:17.326834 139867123890048 model_lib_v2.py:700] Step 4900 per-step time 1.016s\n",
            "INFO:tensorflow:{'Loss/classification_loss': 0.12790991,\n",
            " 'Loss/localization_loss': 0.06819829,\n",
            " 'Loss/regularization_loss': 0.15000041,\n",
            " 'Loss/total_loss': 0.34610862,\n",
            " 'learning_rate': 0.04157039}\n",
            "I1014 09:57:17.327226 139867123890048 model_lib_v2.py:701] {'Loss/classification_loss': 0.12790991,\n",
            " 'Loss/localization_loss': 0.06819829,\n",
            " 'Loss/regularization_loss': 0.15000041,\n",
            " 'Loss/total_loss': 0.34610862,\n",
            " 'learning_rate': 0.04157039}\n",
            "INFO:tensorflow:Step 5000 per-step time 1.015s\n",
            "I1014 09:58:58.813268 139867123890048 model_lib_v2.py:700] Step 5000 per-step time 1.015s\n",
            "INFO:tensorflow:{'Loss/classification_loss': 0.098109245,\n",
            " 'Loss/localization_loss': 0.07714595,\n",
            " 'Loss/regularization_loss': 0.14965495,\n",
            " 'Loss/total_loss': 0.32491016,\n",
            " 'learning_rate': 0.039999995}\n",
            "I1014 09:58:58.813715 139867123890048 model_lib_v2.py:701] {'Loss/classification_loss': 0.098109245,\n",
            " 'Loss/localization_loss': 0.07714595,\n",
            " 'Loss/regularization_loss': 0.14965495,\n",
            " 'Loss/total_loss': 0.32491016,\n",
            " 'learning_rate': 0.039999995}\n",
            "INFO:tensorflow:Step 5100 per-step time 1.028s\n",
            "I1014 10:00:41.602033 139867123890048 model_lib_v2.py:700] Step 5100 per-step time 1.028s\n",
            "INFO:tensorflow:{'Loss/classification_loss': 0.13162819,\n",
            " 'Loss/localization_loss': 0.095545605,\n",
            " 'Loss/regularization_loss': 0.14931,\n",
            " 'Loss/total_loss': 0.3764838,\n",
            " 'learning_rate': 0.038429607}\n",
            "I1014 10:00:41.602456 139867123890048 model_lib_v2.py:701] {'Loss/classification_loss': 0.13162819,\n",
            " 'Loss/localization_loss': 0.095545605,\n",
            " 'Loss/regularization_loss': 0.14931,\n",
            " 'Loss/total_loss': 0.3764838,\n",
            " 'learning_rate': 0.038429607}\n",
            "INFO:tensorflow:Step 5200 per-step time 1.021s\n",
            "I1014 10:02:23.679680 139867123890048 model_lib_v2.py:700] Step 5200 per-step time 1.021s\n",
            "INFO:tensorflow:{'Loss/classification_loss': 0.069096066,\n",
            " 'Loss/localization_loss': 0.03976977,\n",
            " 'Loss/regularization_loss': 0.14896423,\n",
            " 'Loss/total_loss': 0.25783005,\n",
            " 'learning_rate': 0.036861632}\n",
            "I1014 10:02:23.680071 139867123890048 model_lib_v2.py:701] {'Loss/classification_loss': 0.069096066,\n",
            " 'Loss/localization_loss': 0.03976977,\n",
            " 'Loss/regularization_loss': 0.14896423,\n",
            " 'Loss/total_loss': 0.25783005,\n",
            " 'learning_rate': 0.036861632}\n",
            "INFO:tensorflow:Step 5300 per-step time 1.008s\n",
            "I1014 10:04:04.434883 139867123890048 model_lib_v2.py:700] Step 5300 per-step time 1.008s\n",
            "INFO:tensorflow:{'Loss/classification_loss': 0.22567934,\n",
            " 'Loss/localization_loss': 0.06697995,\n",
            " 'Loss/regularization_loss': 0.14865528,\n",
            " 'Loss/total_loss': 0.44131458,\n",
            " 'learning_rate': 0.035298504}\n",
            "I1014 10:04:04.435378 139867123890048 model_lib_v2.py:701] {'Loss/classification_loss': 0.22567934,\n",
            " 'Loss/localization_loss': 0.06697995,\n",
            " 'Loss/regularization_loss': 0.14865528,\n",
            " 'Loss/total_loss': 0.44131458,\n",
            " 'learning_rate': 0.035298504}\n",
            "INFO:tensorflow:Step 5400 per-step time 1.037s\n",
            "I1014 10:05:48.109073 139867123890048 model_lib_v2.py:700] Step 5400 per-step time 1.037s\n",
            "INFO:tensorflow:{'Loss/classification_loss': 0.079831086,\n",
            " 'Loss/localization_loss': 0.022355802,\n",
            " 'Loss/regularization_loss': 0.14840868,\n",
            " 'Loss/total_loss': 0.25059557,\n",
            " 'learning_rate': 0.03374262}\n",
            "I1014 10:05:48.109559 139867123890048 model_lib_v2.py:701] {'Loss/classification_loss': 0.079831086,\n",
            " 'Loss/localization_loss': 0.022355802,\n",
            " 'Loss/regularization_loss': 0.14840868,\n",
            " 'Loss/total_loss': 0.25059557,\n",
            " 'learning_rate': 0.03374262}\n",
            "INFO:tensorflow:Step 5500 per-step time 1.022s\n",
            "I1014 10:07:30.318909 139867123890048 model_lib_v2.py:700] Step 5500 per-step time 1.022s\n",
            "INFO:tensorflow:{'Loss/classification_loss': 0.07238094,\n",
            " 'Loss/localization_loss': 0.027731799,\n",
            " 'Loss/regularization_loss': 0.14811243,\n",
            " 'Loss/total_loss': 0.24822517,\n",
            " 'learning_rate': 0.032196388}\n",
            "I1014 10:07:30.319308 139867123890048 model_lib_v2.py:701] {'Loss/classification_loss': 0.07238094,\n",
            " 'Loss/localization_loss': 0.027731799,\n",
            " 'Loss/regularization_loss': 0.14811243,\n",
            " 'Loss/total_loss': 0.24822517,\n",
            " 'learning_rate': 0.032196388}\n",
            "INFO:tensorflow:Step 5600 per-step time 1.019s\n",
            "I1014 10:09:12.222426 139867123890048 model_lib_v2.py:700] Step 5600 per-step time 1.019s\n",
            "INFO:tensorflow:{'Loss/classification_loss': 0.07586639,\n",
            " 'Loss/localization_loss': 0.048052244,\n",
            " 'Loss/regularization_loss': 0.14782941,\n",
            " 'Loss/total_loss': 0.27174804,\n",
            " 'learning_rate': 0.030662183}\n",
            "I1014 10:09:12.222823 139867123890048 model_lib_v2.py:701] {'Loss/classification_loss': 0.07586639,\n",
            " 'Loss/localization_loss': 0.048052244,\n",
            " 'Loss/regularization_loss': 0.14782941,\n",
            " 'Loss/total_loss': 0.27174804,\n",
            " 'learning_rate': 0.030662183}\n",
            "INFO:tensorflow:Step 5700 per-step time 1.019s\n",
            "I1014 10:10:54.122343 139867123890048 model_lib_v2.py:700] Step 5700 per-step time 1.019s\n",
            "INFO:tensorflow:{'Loss/classification_loss': 0.08143874,\n",
            " 'Loss/localization_loss': 0.031696763,\n",
            " 'Loss/regularization_loss': 0.14755006,\n",
            " 'Loss/total_loss': 0.26068556,\n",
            " 'learning_rate': 0.029142374}\n",
            "I1014 10:10:54.122719 139867123890048 model_lib_v2.py:701] {'Loss/classification_loss': 0.08143874,\n",
            " 'Loss/localization_loss': 0.031696763,\n",
            " 'Loss/regularization_loss': 0.14755006,\n",
            " 'Loss/total_loss': 0.26068556,\n",
            " 'learning_rate': 0.029142374}\n",
            "INFO:tensorflow:Step 5800 per-step time 1.018s\n",
            "I1014 10:12:35.952576 139867123890048 model_lib_v2.py:700] Step 5800 per-step time 1.018s\n",
            "INFO:tensorflow:{'Loss/classification_loss': 0.078631155,\n",
            " 'Loss/localization_loss': 0.026523516,\n",
            " 'Loss/regularization_loss': 0.14726044,\n",
            " 'Loss/total_loss': 0.25241512,\n",
            " 'learning_rate': 0.027639316}\n",
            "I1014 10:12:35.952999 139867123890048 model_lib_v2.py:701] {'Loss/classification_loss': 0.078631155,\n",
            " 'Loss/localization_loss': 0.026523516,\n",
            " 'Loss/regularization_loss': 0.14726044,\n",
            " 'Loss/total_loss': 0.25241512,\n",
            " 'learning_rate': 0.027639316}\n",
            "INFO:tensorflow:Step 5900 per-step time 1.014s\n",
            "I1014 10:14:17.352379 139867123890048 model_lib_v2.py:700] Step 5900 per-step time 1.014s\n",
            "INFO:tensorflow:{'Loss/classification_loss': 0.08942271,\n",
            " 'Loss/localization_loss': 0.04201917,\n",
            " 'Loss/regularization_loss': 0.14698945,\n",
            " 'Loss/total_loss': 0.27843133,\n",
            " 'learning_rate': 0.026155313}\n",
            "I1014 10:14:17.352820 139867123890048 model_lib_v2.py:701] {'Loss/classification_loss': 0.08942271,\n",
            " 'Loss/localization_loss': 0.04201917,\n",
            " 'Loss/regularization_loss': 0.14698945,\n",
            " 'Loss/total_loss': 0.27843133,\n",
            " 'learning_rate': 0.026155313}\n",
            "INFO:tensorflow:Step 6000 per-step time 1.009s\n",
            "I1014 10:15:58.221236 139867123890048 model_lib_v2.py:700] Step 6000 per-step time 1.009s\n",
            "INFO:tensorflow:{'Loss/classification_loss': 0.06829056,\n",
            " 'Loss/localization_loss': 0.030157657,\n",
            " 'Loss/regularization_loss': 0.14673632,\n",
            " 'Loss/total_loss': 0.24518454,\n",
            " 'learning_rate': 0.024692658}\n",
            "I1014 10:15:58.221628 139867123890048 model_lib_v2.py:701] {'Loss/classification_loss': 0.06829056,\n",
            " 'Loss/localization_loss': 0.030157657,\n",
            " 'Loss/regularization_loss': 0.14673632,\n",
            " 'Loss/total_loss': 0.24518454,\n",
            " 'learning_rate': 0.024692658}\n",
            "INFO:tensorflow:Step 6100 per-step time 1.019s\n",
            "I1014 10:17:40.120448 139867123890048 model_lib_v2.py:700] Step 6100 per-step time 1.019s\n",
            "INFO:tensorflow:{'Loss/classification_loss': 0.06106345,\n",
            " 'Loss/localization_loss': 0.03362574,\n",
            " 'Loss/regularization_loss': 0.14650564,\n",
            " 'Loss/total_loss': 0.24119483,\n",
            " 'learning_rate': 0.023253607}\n",
            "I1014 10:17:40.120904 139867123890048 model_lib_v2.py:701] {'Loss/classification_loss': 0.06106345,\n",
            " 'Loss/localization_loss': 0.03362574,\n",
            " 'Loss/regularization_loss': 0.14650564,\n",
            " 'Loss/total_loss': 0.24119483,\n",
            " 'learning_rate': 0.023253607}\n",
            "INFO:tensorflow:Step 6200 per-step time 1.009s\n",
            "I1014 10:19:20.991519 139867123890048 model_lib_v2.py:700] Step 6200 per-step time 1.009s\n",
            "INFO:tensorflow:{'Loss/classification_loss': 0.07152722,\n",
            " 'Loss/localization_loss': 0.028833376,\n",
            " 'Loss/regularization_loss': 0.1462802,\n",
            " 'Loss/total_loss': 0.2466408,\n",
            " 'learning_rate': 0.021840377}\n",
            "I1014 10:19:20.991960 139867123890048 model_lib_v2.py:701] {'Loss/classification_loss': 0.07152722,\n",
            " 'Loss/localization_loss': 0.028833376,\n",
            " 'Loss/regularization_loss': 0.1462802,\n",
            " 'Loss/total_loss': 0.2466408,\n",
            " 'learning_rate': 0.021840377}\n",
            "INFO:tensorflow:Step 6300 per-step time 1.006s\n",
            "I1014 10:21:01.554708 139867123890048 model_lib_v2.py:700] Step 6300 per-step time 1.006s\n",
            "INFO:tensorflow:{'Loss/classification_loss': 0.1028694,\n",
            " 'Loss/localization_loss': 0.056327064,\n",
            " 'Loss/regularization_loss': 0.14606418,\n",
            " 'Loss/total_loss': 0.30526066,\n",
            " 'learning_rate': 0.020455146}\n",
            "I1014 10:21:01.555148 139867123890048 model_lib_v2.py:701] {'Loss/classification_loss': 0.1028694,\n",
            " 'Loss/localization_loss': 0.056327064,\n",
            " 'Loss/regularization_loss': 0.14606418,\n",
            " 'Loss/total_loss': 0.30526066,\n",
            " 'learning_rate': 0.020455146}\n",
            "INFO:tensorflow:Step 6400 per-step time 1.009s\n",
            "I1014 10:22:42.490038 139867123890048 model_lib_v2.py:700] Step 6400 per-step time 1.009s\n",
            "INFO:tensorflow:{'Loss/classification_loss': 0.081471935,\n",
            " 'Loss/localization_loss': 0.034877528,\n",
            " 'Loss/regularization_loss': 0.14586137,\n",
            " 'Loss/total_loss': 0.26221085,\n",
            " 'learning_rate': 0.019100051}\n",
            "I1014 10:22:42.490463 139867123890048 model_lib_v2.py:701] {'Loss/classification_loss': 0.081471935,\n",
            " 'Loss/localization_loss': 0.034877528,\n",
            " 'Loss/regularization_loss': 0.14586137,\n",
            " 'Loss/total_loss': 0.26221085,\n",
            " 'learning_rate': 0.019100051}\n",
            "INFO:tensorflow:Step 6500 per-step time 1.016s\n",
            "I1014 10:24:24.045603 139867123890048 model_lib_v2.py:700] Step 6500 per-step time 1.016s\n",
            "INFO:tensorflow:{'Loss/classification_loss': 0.067170866,\n",
            " 'Loss/localization_loss': 0.02134813,\n",
            " 'Loss/regularization_loss': 0.14567423,\n",
            " 'Loss/total_loss': 0.23419322,\n",
            " 'learning_rate': 0.017777191}\n",
            "I1014 10:24:24.046097 139867123890048 model_lib_v2.py:701] {'Loss/classification_loss': 0.067170866,\n",
            " 'Loss/localization_loss': 0.02134813,\n",
            " 'Loss/regularization_loss': 0.14567423,\n",
            " 'Loss/total_loss': 0.23419322,\n",
            " 'learning_rate': 0.017777191}\n",
            "INFO:tensorflow:Step 6600 per-step time 1.012s\n",
            "I1014 10:26:05.201645 139867123890048 model_lib_v2.py:700] Step 6600 per-step time 1.012s\n",
            "INFO:tensorflow:{'Loss/classification_loss': 0.059559505,\n",
            " 'Loss/localization_loss': 0.027098022,\n",
            " 'Loss/regularization_loss': 0.14549358,\n",
            " 'Loss/total_loss': 0.2321511,\n",
            " 'learning_rate': 0.016488582}\n",
            "I1014 10:26:05.202061 139867123890048 model_lib_v2.py:701] {'Loss/classification_loss': 0.059559505,\n",
            " 'Loss/localization_loss': 0.027098022,\n",
            " 'Loss/regularization_loss': 0.14549358,\n",
            " 'Loss/total_loss': 0.2321511,\n",
            " 'learning_rate': 0.016488582}\n",
            "INFO:tensorflow:Step 6700 per-step time 1.013s\n",
            "I1014 10:27:46.469349 139867123890048 model_lib_v2.py:700] Step 6700 per-step time 1.013s\n",
            "INFO:tensorflow:{'Loss/classification_loss': 0.11636932,\n",
            " 'Loss/localization_loss': 0.029823462,\n",
            " 'Loss/regularization_loss': 0.14532155,\n",
            " 'Loss/total_loss': 0.29151434,\n",
            " 'learning_rate': 0.015236242}\n",
            "I1014 10:27:46.469748 139867123890048 model_lib_v2.py:701] {'Loss/classification_loss': 0.11636932,\n",
            " 'Loss/localization_loss': 0.029823462,\n",
            " 'Loss/regularization_loss': 0.14532155,\n",
            " 'Loss/total_loss': 0.29151434,\n",
            " 'learning_rate': 0.015236242}\n",
            "INFO:tensorflow:Step 6800 per-step time 1.007s\n",
            "I1014 10:29:27.190298 139867123890048 model_lib_v2.py:700] Step 6800 per-step time 1.007s\n",
            "INFO:tensorflow:{'Loss/classification_loss': 0.06396694,\n",
            " 'Loss/localization_loss': 0.019310405,\n",
            " 'Loss/regularization_loss': 0.1451679,\n",
            " 'Loss/total_loss': 0.22844525,\n",
            " 'learning_rate': 0.014022071}\n",
            "I1014 10:29:27.190657 139867123890048 model_lib_v2.py:701] {'Loss/classification_loss': 0.06396694,\n",
            " 'Loss/localization_loss': 0.019310405,\n",
            " 'Loss/regularization_loss': 0.1451679,\n",
            " 'Loss/total_loss': 0.22844525,\n",
            " 'learning_rate': 0.014022071}\n",
            "INFO:tensorflow:Step 6900 per-step time 1.013s\n",
            "I1014 10:31:08.526864 139867123890048 model_lib_v2.py:700] Step 6900 per-step time 1.013s\n",
            "INFO:tensorflow:{'Loss/classification_loss': 0.07173305,\n",
            " 'Loss/localization_loss': 0.034467634,\n",
            " 'Loss/regularization_loss': 0.1450205,\n",
            " 'Loss/total_loss': 0.25122118,\n",
            " 'learning_rate': 0.012847969}\n",
            "I1014 10:31:08.527189 139867123890048 model_lib_v2.py:701] {'Loss/classification_loss': 0.07173305,\n",
            " 'Loss/localization_loss': 0.034467634,\n",
            " 'Loss/regularization_loss': 0.1450205,\n",
            " 'Loss/total_loss': 0.25122118,\n",
            " 'learning_rate': 0.012847969}\n",
            "INFO:tensorflow:Step 7000 per-step time 1.021s\n",
            "I1014 10:32:50.601243 139867123890048 model_lib_v2.py:700] Step 7000 per-step time 1.021s\n",
            "INFO:tensorflow:{'Loss/classification_loss': 0.04832061,\n",
            " 'Loss/localization_loss': 0.01122089,\n",
            " 'Loss/regularization_loss': 0.1448873,\n",
            " 'Loss/total_loss': 0.20442879,\n",
            " 'learning_rate': 0.011715729}\n",
            "I1014 10:32:50.601679 139867123890048 model_lib_v2.py:701] {'Loss/classification_loss': 0.04832061,\n",
            " 'Loss/localization_loss': 0.01122089,\n",
            " 'Loss/regularization_loss': 0.1448873,\n",
            " 'Loss/total_loss': 0.20442879,\n",
            " 'learning_rate': 0.011715729}\n",
            "INFO:tensorflow:Step 7100 per-step time 1.011s\n",
            "I1014 10:34:31.727288 139867123890048 model_lib_v2.py:700] Step 7100 per-step time 1.011s\n",
            "INFO:tensorflow:{'Loss/classification_loss': 0.07210707,\n",
            " 'Loss/localization_loss': 0.030273898,\n",
            " 'Loss/regularization_loss': 0.14476554,\n",
            " 'Loss/total_loss': 0.24714652,\n",
            " 'learning_rate': 0.010627097}\n",
            "I1014 10:34:31.727692 139867123890048 model_lib_v2.py:701] {'Loss/classification_loss': 0.07210707,\n",
            " 'Loss/localization_loss': 0.030273898,\n",
            " 'Loss/regularization_loss': 0.14476554,\n",
            " 'Loss/total_loss': 0.24714652,\n",
            " 'learning_rate': 0.010627097}\n",
            "INFO:tensorflow:Step 7200 per-step time 1.011s\n",
            "I1014 10:36:12.827472 139867123890048 model_lib_v2.py:700] Step 7200 per-step time 1.011s\n",
            "INFO:tensorflow:{'Loss/classification_loss': 0.06661744,\n",
            " 'Loss/localization_loss': 0.025388293,\n",
            " 'Loss/regularization_loss': 0.14465442,\n",
            " 'Loss/total_loss': 0.23666015,\n",
            " 'learning_rate': 0.009583759}\n",
            "I1014 10:36:12.827878 139867123890048 model_lib_v2.py:701] {'Loss/classification_loss': 0.06661744,\n",
            " 'Loss/localization_loss': 0.025388293,\n",
            " 'Loss/regularization_loss': 0.14465442,\n",
            " 'Loss/total_loss': 0.23666015,\n",
            " 'learning_rate': 0.009583759}\n",
            "INFO:tensorflow:Step 7300 per-step time 1.019s\n",
            "I1014 10:37:54.689658 139867123890048 model_lib_v2.py:700] Step 7300 per-step time 1.019s\n",
            "INFO:tensorflow:{'Loss/classification_loss': 0.08433662,\n",
            " 'Loss/localization_loss': 0.037294716,\n",
            " 'Loss/regularization_loss': 0.14455353,\n",
            " 'Loss/total_loss': 0.26618487,\n",
            " 'learning_rate': 0.008587315}\n",
            "I1014 10:37:54.690041 139867123890048 model_lib_v2.py:701] {'Loss/classification_loss': 0.08433662,\n",
            " 'Loss/localization_loss': 0.037294716,\n",
            " 'Loss/regularization_loss': 0.14455353,\n",
            " 'Loss/total_loss': 0.26618487,\n",
            " 'learning_rate': 0.008587315}\n",
            "INFO:tensorflow:Step 7400 per-step time 1.009s\n",
            "I1014 10:39:35.632294 139867123890048 model_lib_v2.py:700] Step 7400 per-step time 1.009s\n",
            "INFO:tensorflow:{'Loss/classification_loss': 0.054664258,\n",
            " 'Loss/localization_loss': 0.02566019,\n",
            " 'Loss/regularization_loss': 0.14446312,\n",
            " 'Loss/total_loss': 0.22478756,\n",
            " 'learning_rate': 0.0076393173}\n",
            "I1014 10:39:35.632753 139867123890048 model_lib_v2.py:701] {'Loss/classification_loss': 0.054664258,\n",
            " 'Loss/localization_loss': 0.02566019,\n",
            " 'Loss/regularization_loss': 0.14446312,\n",
            " 'Loss/total_loss': 0.22478756,\n",
            " 'learning_rate': 0.0076393173}\n",
            "INFO:tensorflow:Step 7500 per-step time 1.016s\n",
            "I1014 10:41:17.183293 139867123890048 model_lib_v2.py:700] Step 7500 per-step time 1.016s\n",
            "INFO:tensorflow:{'Loss/classification_loss': 0.09173319,\n",
            " 'Loss/localization_loss': 0.027297951,\n",
            " 'Loss/regularization_loss': 0.1443822,\n",
            " 'Loss/total_loss': 0.26341334,\n",
            " 'learning_rate': 0.0067412136}\n",
            "I1014 10:41:17.183662 139867123890048 model_lib_v2.py:701] {'Loss/classification_loss': 0.09173319,\n",
            " 'Loss/localization_loss': 0.027297951,\n",
            " 'Loss/regularization_loss': 0.1443822,\n",
            " 'Loss/total_loss': 0.26341334,\n",
            " 'learning_rate': 0.0067412136}\n",
            "INFO:tensorflow:Step 7600 per-step time 1.014s\n",
            "I1014 10:42:58.610075 139867123890048 model_lib_v2.py:700] Step 7600 per-step time 1.014s\n",
            "INFO:tensorflow:{'Loss/classification_loss': 0.098957874,\n",
            " 'Loss/localization_loss': 0.021179957,\n",
            " 'Loss/regularization_loss': 0.14431113,\n",
            " 'Loss/total_loss': 0.26444897,\n",
            " 'learning_rate': 0.0058943913}\n",
            "I1014 10:42:58.610539 139867123890048 model_lib_v2.py:701] {'Loss/classification_loss': 0.098957874,\n",
            " 'Loss/localization_loss': 0.021179957,\n",
            " 'Loss/regularization_loss': 0.14431113,\n",
            " 'Loss/total_loss': 0.26444897,\n",
            " 'learning_rate': 0.0058943913}\n",
            "INFO:tensorflow:Step 7700 per-step time 1.010s\n",
            "I1014 10:44:39.604975 139867123890048 model_lib_v2.py:700] Step 7700 per-step time 1.010s\n",
            "INFO:tensorflow:{'Loss/classification_loss': 0.05976241,\n",
            " 'Loss/localization_loss': 0.014530702,\n",
            " 'Loss/regularization_loss': 0.14424844,\n",
            " 'Loss/total_loss': 0.21854156,\n",
            " 'learning_rate': 0.005100157}\n",
            "I1014 10:44:39.605343 139867123890048 model_lib_v2.py:701] {'Loss/classification_loss': 0.05976241,\n",
            " 'Loss/localization_loss': 0.014530702,\n",
            " 'Loss/regularization_loss': 0.14424844,\n",
            " 'Loss/total_loss': 0.21854156,\n",
            " 'learning_rate': 0.005100157}\n",
            "INFO:tensorflow:Step 7800 per-step time 1.013s\n",
            "I1014 10:46:20.890770 139867123890048 model_lib_v2.py:700] Step 7800 per-step time 1.013s\n",
            "INFO:tensorflow:{'Loss/classification_loss': 0.062381238,\n",
            " 'Loss/localization_loss': 0.027210912,\n",
            " 'Loss/regularization_loss': 0.1441952,\n",
            " 'Loss/total_loss': 0.23378736,\n",
            " 'learning_rate': 0.004359741}\n",
            "I1014 10:46:20.891161 139867123890048 model_lib_v2.py:701] {'Loss/classification_loss': 0.062381238,\n",
            " 'Loss/localization_loss': 0.027210912,\n",
            " 'Loss/regularization_loss': 0.1441952,\n",
            " 'Loss/total_loss': 0.23378736,\n",
            " 'learning_rate': 0.004359741}\n",
            "INFO:tensorflow:Step 7900 per-step time 1.005s\n",
            "I1014 10:48:01.351237 139867123890048 model_lib_v2.py:700] Step 7900 per-step time 1.005s\n",
            "INFO:tensorflow:{'Loss/classification_loss': 0.094633825,\n",
            " 'Loss/localization_loss': 0.034605544,\n",
            " 'Loss/regularization_loss': 0.14414935,\n",
            " 'Loss/total_loss': 0.2733887,\n",
            " 'learning_rate': 0.003674271}\n",
            "I1014 10:48:01.351657 139867123890048 model_lib_v2.py:701] {'Loss/classification_loss': 0.094633825,\n",
            " 'Loss/localization_loss': 0.034605544,\n",
            " 'Loss/regularization_loss': 0.14414935,\n",
            " 'Loss/total_loss': 0.2733887,\n",
            " 'learning_rate': 0.003674271}\n",
            "INFO:tensorflow:Step 8000 per-step time 1.010s\n",
            "I1014 10:49:42.387172 139867123890048 model_lib_v2.py:700] Step 8000 per-step time 1.010s\n",
            "INFO:tensorflow:{'Loss/classification_loss': 0.04654126,\n",
            " 'Loss/localization_loss': 0.015034246,\n",
            " 'Loss/regularization_loss': 0.1441106,\n",
            " 'Loss/total_loss': 0.2056861,\n",
            " 'learning_rate': 0.0030448197}\n",
            "I1014 10:49:42.387511 139867123890048 model_lib_v2.py:701] {'Loss/classification_loss': 0.04654126,\n",
            " 'Loss/localization_loss': 0.015034246,\n",
            " 'Loss/regularization_loss': 0.1441106,\n",
            " 'Loss/total_loss': 0.2056861,\n",
            " 'learning_rate': 0.0030448197}\n",
            "INFO:tensorflow:Step 8100 per-step time 1.010s\n",
            "I1014 10:51:23.404012 139867123890048 model_lib_v2.py:700] Step 8100 per-step time 1.010s\n",
            "INFO:tensorflow:{'Loss/classification_loss': 0.031138547,\n",
            " 'Loss/localization_loss': 0.014764512,\n",
            " 'Loss/regularization_loss': 0.1440786,\n",
            " 'Loss/total_loss': 0.18998165,\n",
            " 'learning_rate': 0.0024723434}\n",
            "I1014 10:51:23.404448 139867123890048 model_lib_v2.py:701] {'Loss/classification_loss': 0.031138547,\n",
            " 'Loss/localization_loss': 0.014764512,\n",
            " 'Loss/regularization_loss': 0.1440786,\n",
            " 'Loss/total_loss': 0.18998165,\n",
            " 'learning_rate': 0.0024723434}\n",
            "INFO:tensorflow:Step 8200 per-step time 1.006s\n",
            "I1014 10:53:03.988988 139867123890048 model_lib_v2.py:700] Step 8200 per-step time 1.006s\n",
            "INFO:tensorflow:{'Loss/classification_loss': 0.062480234,\n",
            " 'Loss/localization_loss': 0.017114026,\n",
            " 'Loss/regularization_loss': 0.14405283,\n",
            " 'Loss/total_loss': 0.22364709,\n",
            " 'learning_rate': 0.0019577406}\n",
            "I1014 10:53:03.989444 139867123890048 model_lib_v2.py:701] {'Loss/classification_loss': 0.062480234,\n",
            " 'Loss/localization_loss': 0.017114026,\n",
            " 'Loss/regularization_loss': 0.14405283,\n",
            " 'Loss/total_loss': 0.22364709,\n",
            " 'learning_rate': 0.0019577406}\n",
            "INFO:tensorflow:Step 8300 per-step time 1.014s\n",
            "I1014 10:54:45.415975 139867123890048 model_lib_v2.py:700] Step 8300 per-step time 1.014s\n",
            "INFO:tensorflow:{'Loss/classification_loss': 0.057235993,\n",
            " 'Loss/localization_loss': 0.019972058,\n",
            " 'Loss/regularization_loss': 0.1440326,\n",
            " 'Loss/total_loss': 0.22124064,\n",
            " 'learning_rate': 0.0015017914}\n",
            "I1014 10:54:45.416358 139867123890048 model_lib_v2.py:701] {'Loss/classification_loss': 0.057235993,\n",
            " 'Loss/localization_loss': 0.019972058,\n",
            " 'Loss/regularization_loss': 0.1440326,\n",
            " 'Loss/total_loss': 0.22124064,\n",
            " 'learning_rate': 0.0015017914}\n",
            "INFO:tensorflow:Step 8400 per-step time 1.005s\n",
            "I1014 10:56:25.962691 139867123890048 model_lib_v2.py:700] Step 8400 per-step time 1.005s\n",
            "INFO:tensorflow:{'Loss/classification_loss': 0.059051592,\n",
            " 'Loss/localization_loss': 0.037016377,\n",
            " 'Loss/regularization_loss': 0.14401728,\n",
            " 'Loss/total_loss': 0.24008524,\n",
            " 'learning_rate': 0.0011052012}\n",
            "I1014 10:56:25.963056 139867123890048 model_lib_v2.py:701] {'Loss/classification_loss': 0.059051592,\n",
            " 'Loss/localization_loss': 0.037016377,\n",
            " 'Loss/regularization_loss': 0.14401728,\n",
            " 'Loss/total_loss': 0.24008524,\n",
            " 'learning_rate': 0.0011052012}\n",
            "INFO:tensorflow:Step 8500 per-step time 1.008s\n",
            "I1014 10:58:06.745446 139867123890048 model_lib_v2.py:700] Step 8500 per-step time 1.008s\n",
            "INFO:tensorflow:{'Loss/classification_loss': 0.044649065,\n",
            " 'Loss/localization_loss': 0.016318133,\n",
            " 'Loss/regularization_loss': 0.14400618,\n",
            " 'Loss/total_loss': 0.20497337,\n",
            " 'learning_rate': 0.0007685876}\n",
            "I1014 10:58:06.745864 139867123890048 model_lib_v2.py:701] {'Loss/classification_loss': 0.044649065,\n",
            " 'Loss/localization_loss': 0.016318133,\n",
            " 'Loss/regularization_loss': 0.14400618,\n",
            " 'Loss/total_loss': 0.20497337,\n",
            " 'learning_rate': 0.0007685876}\n",
            "INFO:tensorflow:Step 8600 per-step time 1.014s\n",
            "I1014 10:59:48.122704 139867123890048 model_lib_v2.py:700] Step 8600 per-step time 1.014s\n",
            "INFO:tensorflow:{'Loss/classification_loss': 0.08118496,\n",
            " 'Loss/localization_loss': 0.033707995,\n",
            " 'Loss/regularization_loss': 0.14399865,\n",
            " 'Loss/total_loss': 0.2588916,\n",
            " 'learning_rate': 0.0004924655}\n",
            "I1014 10:59:48.123060 139867123890048 model_lib_v2.py:701] {'Loss/classification_loss': 0.08118496,\n",
            " 'Loss/localization_loss': 0.033707995,\n",
            " 'Loss/regularization_loss': 0.14399865,\n",
            " 'Loss/total_loss': 0.2588916,\n",
            " 'learning_rate': 0.0004924655}\n"
          ]
        }
      ]
    },
    {
      "cell_type": "code",
      "metadata": {
        "id": "n-Lc0Ud8csCp"
      },
      "source": [
        "pwd"
      ],
      "execution_count": null,
      "outputs": []
    },
    {
      "cell_type": "code",
      "metadata": {
        "id": "F-oubWEqctHM"
      },
      "source": [
        "cd training_demo/"
      ],
      "execution_count": null,
      "outputs": []
    },
    {
      "cell_type": "markdown",
      "metadata": {
        "id": "ziwKfPuIyN_n"
      },
      "source": [
        "## Launching the Tensorboard"
      ]
    },
    {
      "cell_type": "code",
      "metadata": {
        "id": "rwhGdXMpyQgs"
      },
      "source": [
        "%load_ext tensorboard\n",
        "%tensorboard --logdir '/content/training_demo/models/ssd_mobilenet_v2_fpnlite_640x640_coco17_tpu-8/train/'"
      ],
      "execution_count": null,
      "outputs": []
    },
    {
      "cell_type": "markdown",
      "metadata": {
        "id": "nM0CdkrHyTM4"
      },
      "source": [
        "## Export the Model"
      ]
    },
    {
      "cell_type": "code",
      "metadata": {
        "id": "StP8XwsbyRI1"
      },
      "source": [
        "!python exporter_main_v2.py --input_type image_tensor --pipeline_config_path /content/training_demo/models/ssd_mobilenet_v2_fpnlite_640x640_coco17_tpu-8/pipeline.config --trained_checkpoint_dir /content/training_demo/models/ssd_mobilenet_v2_fpnlite_640x640_coco17_tpu-8 --output_directory /content/training_demo/exported_models/my_model"
      ],
      "execution_count": null,
      "outputs": []
    },
    {
      "cell_type": "code",
      "metadata": {
        "id": "SR6aW_I1BF6p"
      },
      "source": [
        "!cp -r \"/content/training_demo/exported_models/my_model/saved_model\" \"/content/\""
      ],
      "execution_count": null,
      "outputs": []
    },
    {
      "cell_type": "markdown",
      "metadata": {
        "id": "aBmYmnJ1yYwB"
      },
      "source": [
        "## Conver the `saved_model` into TensorFlowJS"
      ]
    },
    {
      "cell_type": "code",
      "metadata": {
        "id": "dKY8EMUbTjIa"
      },
      "source": [
        "mkdir exports"
      ],
      "execution_count": null,
      "outputs": []
    },
    {
      "cell_type": "code",
      "metadata": {
        "id": "nC5dGRuVnwLl"
      },
      "source": [
        "!pip install -q tensorflowjs"
      ],
      "execution_count": null,
      "outputs": []
    },
    {
      "cell_type": "code",
      "metadata": {
        "id": "HshPUpMHydxU"
      },
      "source": [
        "command = \"tensorflowjs_converter --input_format=tf_saved_model --output_node_names='detection_boxes,detection_classes,detection_features,detection_multiclass_scores,detection_scores,num_detections,raw_detection_boxes,raw_detection_scores' --output_format=tfjs_graph_model --signature_name=serving_default /content/saved_model /content/tfjsexport\""
      ],
      "execution_count": null,
      "outputs": []
    },
    {
      "cell_type": "code",
      "metadata": {
        "id": "Rz4rEO4hTvTg"
      },
      "source": [
        "!{command}"
      ],
      "execution_count": null,
      "outputs": []
    },
    {
      "cell_type": "code",
      "metadata": {
        "id": "DB6UuNqIRfTL"
      },
      "source": [
        "!tar -cvf \"/content/web_model.tar\" \"/content/tfjsexport\""
      ],
      "execution_count": null,
      "outputs": []
    },
    {
      "cell_type": "code",
      "metadata": {
        "id": "tj9oMfd8oXAC"
      },
      "source": [
        "!tar -cvf \"/content/saved_model.tar\" \"/content/saved_model\""
      ],
      "execution_count": null,
      "outputs": []
    },
    {
      "cell_type": "code",
      "metadata": {
        "id": "LTpYyviCp2k0"
      },
      "source": [
        "from google.colab import files\n",
        "\n",
        "files.download('/content/web_model.tar') \n",
        "files.download('/content/saved_model.tar') "
      ],
      "execution_count": null,
      "outputs": []
    },
    {
      "cell_type": "code",
      "metadata": {
        "id": "YeNKxL53T8MK"
      },
      "source": [
        ""
      ],
      "execution_count": null,
      "outputs": []
    }
  ]
}