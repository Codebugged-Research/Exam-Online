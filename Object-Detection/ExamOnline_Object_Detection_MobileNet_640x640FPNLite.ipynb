{
  "nbformat": 4,
  "nbformat_minor": 0,
  "metadata": {
    "colab": {
      "name": "ExamOnline_Object_Detection-MobileNet-640x640FPNLite.ipynb",
      "provenance": [],
      "collapsed_sections": [],
      "machine_shape": "hm"
    },
    "kernelspec": {
      "name": "python3",
      "display_name": "Python 3"
    },
    "language_info": {
      "name": "python"
    },
    "accelerator": "GPU"
  },
  "cells": [
    {
      "cell_type": "markdown",
      "metadata": {
        "id": "4Q03Id0KwOnh"
      },
      "source": [
        "# Object Detection using TFOD-2.0\n",
        "\n",
        "*Items*\n",
        "1. Book\n",
        "2. Phones\n",
        "\n",
        "\n",
        "Author: [Sayan Nath](https://github.com/sayannath) <br>\n",
        "Date Created: 2021/08/07 <br>\n",
        "Last Updated: 2021/08/07"
      ]
    },
    {
      "cell_type": "markdown",
      "metadata": {
        "id": "X4Qh-j6NxIWA"
      },
      "source": [
        "## Inital-Setup"
      ]
    },
    {
      "cell_type": "code",
      "metadata": {
        "id": "wL68tF7iwCES",
        "colab": {
          "base_uri": "https://localhost:8080/"
        },
        "outputId": "a3d2414c-ec45-464f-e04c-f4fd53f3fd38"
      },
      "source": [
        "!nvidia-smi "
      ],
      "execution_count": null,
      "outputs": [
        {
          "output_type": "stream",
          "name": "stdout",
          "text": [
            "Wed Oct 13 19:07:26 2021       \n",
            "+-----------------------------------------------------------------------------+\n",
            "| NVIDIA-SMI 470.74       Driver Version: 460.32.03    CUDA Version: 11.2     |\n",
            "|-------------------------------+----------------------+----------------------+\n",
            "| GPU  Name        Persistence-M| Bus-Id        Disp.A | Volatile Uncorr. ECC |\n",
            "| Fan  Temp  Perf  Pwr:Usage/Cap|         Memory-Usage | GPU-Util  Compute M. |\n",
            "|                               |                      |               MIG M. |\n",
            "|===============================+======================+======================|\n",
            "|   0  Tesla P100-PCIE...  Off  | 00000000:00:04.0 Off |                    0 |\n",
            "| N/A   36C    P0    26W / 250W |      0MiB / 16280MiB |      0%      Default |\n",
            "|                               |                      |                  N/A |\n",
            "+-------------------------------+----------------------+----------------------+\n",
            "                                                                               \n",
            "+-----------------------------------------------------------------------------+\n",
            "| Processes:                                                                  |\n",
            "|  GPU   GI   CI        PID   Type   Process name                  GPU Memory |\n",
            "|        ID   ID                                                   Usage      |\n",
            "|=============================================================================|\n",
            "|  No running processes found                                                 |\n",
            "+-----------------------------------------------------------------------------+\n"
          ]
        }
      ]
    },
    {
      "cell_type": "markdown",
      "metadata": {
        "id": "YRX_kqTEk1nT"
      },
      "source": [
        "## Data Gathering"
      ]
    },
    {
      "cell_type": "code",
      "metadata": {
        "colab": {
          "base_uri": "https://localhost:8080/"
        },
        "id": "ou_ZmlD1f2TV",
        "outputId": "55795760-9ebb-4f64-b878-82d0a47f6094"
      },
      "source": [
        "!pip install -q openimages"
      ],
      "execution_count": 1,
      "outputs": [
        {
          "output_type": "stream",
          "name": "stdout",
          "text": [
            "\u001b[K     |████████████████████████████████| 131 kB 5.7 MB/s \n",
            "\u001b[K     |████████████████████████████████| 49 kB 7.4 MB/s \n",
            "\u001b[K     |████████████████████████████████| 8.0 MB 31.9 MB/s \n",
            "\u001b[K     |████████████████████████████████| 79 kB 10.8 MB/s \n",
            "\u001b[K     |████████████████████████████████| 138 kB 73.0 MB/s \n",
            "\u001b[K     |████████████████████████████████| 172.3 MB 26 kB/s \n",
            "\u001b[K     |████████████████████████████████| 812 kB 25.7 MB/s \n",
            "\u001b[K     |████████████████████████████████| 127 kB 82.3 MB/s \n",
            "\u001b[?25h  Building wheel for ImageHash (setup.py) ... \u001b[?25l\u001b[?25hdone\n",
            "\u001b[31mERROR: pip's dependency resolver does not currently take into account all the packages that are installed. This behaviour is the source of the following dependency conflicts.\n",
            "datascience 0.10.6 requires folium==0.2.1, but you have folium 0.8.3 which is incompatible.\u001b[0m\n"
          ]
        }
      ]
    },
    {
      "cell_type": "code",
      "metadata": {
        "id": "7pLx0KXbf4_E"
      },
      "source": [
        "!mkdir dataset"
      ],
      "execution_count": 2,
      "outputs": []
    },
    {
      "cell_type": "code",
      "metadata": {
        "colab": {
          "base_uri": "https://localhost:8080/"
        },
        "id": "UMo3M29hf72k",
        "outputId": "29b5f8a6-b4cc-4f44-b0b9-9d1794183304"
      },
      "source": [
        "cd dataset"
      ],
      "execution_count": 3,
      "outputs": [
        {
          "output_type": "stream",
          "name": "stdout",
          "text": [
            "/content/dataset\n"
          ]
        }
      ]
    },
    {
      "cell_type": "code",
      "metadata": {
        "id": "iTBdTzAMf-e7"
      },
      "source": [
        "!mkdir base_dir"
      ],
      "execution_count": 4,
      "outputs": []
    },
    {
      "cell_type": "code",
      "metadata": {
        "id": "-exSLQofgDip"
      },
      "source": [
        "!oi_download_dataset --csv_dir base_dir/ --base_dir base_dir/ --labels Book Mobile\\ phone --format pascal --limit 5000"
      ],
      "execution_count": null,
      "outputs": []
    },
    {
      "cell_type": "code",
      "metadata": {
        "colab": {
          "base_uri": "https://localhost:8080/"
        },
        "id": "d_gTpXIS3R42",
        "outputId": "3c8bca4a-2fb3-4cd1-fba4-7018f47e8b8a"
      },
      "source": [
        "# !curl -L \"https://app.roboflow.com/ds/cUEPk1D6iB?key=1lihfCuPwV\" > roboflow.zip; unzip -q roboflow.zip; rm -rf roboflow.zip"
      ],
      "execution_count": null,
      "outputs": [
        {
          "output_type": "stream",
          "name": "stdout",
          "text": [
            "  % Total    % Received % Xferd  Average Speed   Time    Time     Time  Current\n",
            "                                 Dload  Upload   Total   Spent    Left  Speed\n",
            "100   891  100   891    0     0   1191      0 --:--:-- --:--:-- --:--:--  1191\n",
            "100 30.5M  100 30.5M    0     0  24.6M      0  0:00:01  0:00:01 --:--:--  275M\n"
          ]
        }
      ]
    },
    {
      "cell_type": "code",
      "metadata": {
        "colab": {
          "base_uri": "https://localhost:8080/"
        },
        "id": "SlyR4BBP7Bos",
        "outputId": "ed1c3d50-5852-4ede-8b11-196c8427aa05"
      },
      "source": [
        "import tensorflow as tf\n",
        "print(tf.__version__)"
      ],
      "execution_count": null,
      "outputs": [
        {
          "output_type": "stream",
          "name": "stdout",
          "text": [
            "2.6.0\n"
          ]
        }
      ]
    },
    {
      "cell_type": "markdown",
      "metadata": {
        "id": "8NN2HreyxTK_"
      },
      "source": [
        "## Cloning the TFOD 2.0 Repository"
      ]
    },
    {
      "cell_type": "code",
      "metadata": {
        "id": "laSV8i4NxUHK",
        "colab": {
          "base_uri": "https://localhost:8080/"
        },
        "outputId": "5f567d29-8491-4e7e-9844-3dbec2a83758"
      },
      "source": [
        "!git clone https://github.com/tensorflow/models.git"
      ],
      "execution_count": null,
      "outputs": [
        {
          "output_type": "stream",
          "name": "stdout",
          "text": [
            "Cloning into 'models'...\n",
            "remote: Enumerating objects: 64892, done.\u001b[K\n",
            "remote: Counting objects: 100% (339/339), done.\u001b[K\n",
            "remote: Compressing objects: 100% (201/201), done.\u001b[K\n",
            "remote: Total 64892 (delta 195), reused 265 (delta 138), pack-reused 64553\u001b[K\n",
            "Receiving objects: 100% (64892/64892), 575.24 MiB | 30.33 MiB/s, done.\n",
            "Resolving deltas: 100% (45396/45396), done.\n"
          ]
        }
      ]
    },
    {
      "cell_type": "code",
      "metadata": {
        "id": "XC76NgKGxVnX",
        "colab": {
          "base_uri": "https://localhost:8080/"
        },
        "outputId": "c4a9dc06-3431-4e5f-b6ad-2e9d8a51d3f8"
      },
      "source": [
        "cd /content/models/research"
      ],
      "execution_count": null,
      "outputs": [
        {
          "output_type": "stream",
          "name": "stdout",
          "text": [
            "/content/models/research\n"
          ]
        }
      ]
    },
    {
      "cell_type": "code",
      "metadata": {
        "id": "nzCkGLOsxVkh"
      },
      "source": [
        "!protoc object_detection/protos/*.proto --python_out=."
      ],
      "execution_count": null,
      "outputs": []
    },
    {
      "cell_type": "code",
      "metadata": {
        "id": "ME9JCeTaxVh8",
        "colab": {
          "base_uri": "https://localhost:8080/"
        },
        "outputId": "c004a5ae-0543-42ea-932a-908744357b7f"
      },
      "source": [
        "!git clone https://github.com/cocodataset/cocoapi.git"
      ],
      "execution_count": null,
      "outputs": [
        {
          "output_type": "stream",
          "name": "stdout",
          "text": [
            "Cloning into 'cocoapi'...\n",
            "remote: Enumerating objects: 975, done.\u001b[K\n",
            "remote: Total 975 (delta 0), reused 0 (delta 0), pack-reused 975\u001b[K\n",
            "Receiving objects: 100% (975/975), 11.72 MiB | 32.89 MiB/s, done.\n",
            "Resolving deltas: 100% (576/576), done.\n"
          ]
        }
      ]
    },
    {
      "cell_type": "code",
      "metadata": {
        "id": "04HZK7ylxVe1",
        "colab": {
          "base_uri": "https://localhost:8080/"
        },
        "outputId": "cfdad4a0-7451-4233-a02a-5ccaf4dadc29"
      },
      "source": [
        "cd cocoapi/PythonAPI"
      ],
      "execution_count": null,
      "outputs": [
        {
          "output_type": "stream",
          "name": "stdout",
          "text": [
            "/content/models/research/cocoapi/PythonAPI\n"
          ]
        }
      ]
    },
    {
      "cell_type": "code",
      "metadata": {
        "id": "-tErVorbxVcU",
        "colab": {
          "base_uri": "https://localhost:8080/"
        },
        "outputId": "29676b3f-2772-4f1d-f394-ca56eca28287"
      },
      "source": [
        "!make"
      ],
      "execution_count": null,
      "outputs": [
        {
          "output_type": "stream",
          "name": "stdout",
          "text": [
            "python setup.py build_ext --inplace\n",
            "running build_ext\n",
            "cythoning pycocotools/_mask.pyx to pycocotools/_mask.c\n",
            "/usr/local/lib/python3.7/dist-packages/Cython/Compiler/Main.py:369: FutureWarning: Cython directive 'language_level' not set, using 2 for now (Py2). This will change in a later release! File: /content/models/research/cocoapi/PythonAPI/pycocotools/_mask.pyx\n",
            "  tree = Parsing.p_module(s, pxd, full_module_name)\n",
            "building 'pycocotools._mask' extension\n",
            "creating build\n",
            "creating build/common\n",
            "creating build/temp.linux-x86_64-3.7\n",
            "creating build/temp.linux-x86_64-3.7/pycocotools\n",
            "x86_64-linux-gnu-gcc -pthread -Wno-unused-result -Wsign-compare -DNDEBUG -g -fwrapv -O2 -Wall -g -fdebug-prefix-map=/build/python3.7-Y7dWVB/python3.7-3.7.12=. -fstack-protector-strong -Wformat -Werror=format-security -g -fdebug-prefix-map=/build/python3.7-Y7dWVB/python3.7-3.7.12=. -fstack-protector-strong -Wformat -Werror=format-security -Wdate-time -D_FORTIFY_SOURCE=2 -fPIC -I/usr/local/lib/python3.7/dist-packages/numpy/core/include -I../common -I/usr/include/python3.7m -c ../common/maskApi.c -o build/temp.linux-x86_64-3.7/../common/maskApi.o -Wno-cpp -Wno-unused-function -std=c99\n",
            "\u001b[01m\u001b[K../common/maskApi.c:\u001b[m\u001b[K In function ‘\u001b[01m\u001b[KrleDecode\u001b[m\u001b[K’:\n",
            "\u001b[01m\u001b[K../common/maskApi.c:46:7:\u001b[m\u001b[K \u001b[01;35m\u001b[Kwarning: \u001b[m\u001b[Kthis ‘\u001b[01m\u001b[Kfor\u001b[m\u001b[K’ clause does not guard... [\u001b[01;35m\u001b[K-Wmisleading-indentation\u001b[m\u001b[K]\n",
            "       \u001b[01;35m\u001b[Kfor\u001b[m\u001b[K( k=0; k<R[i].cnts[j]; k++ ) *(M++)=v; v=!v; }}\n",
            "       \u001b[01;35m\u001b[K^~~\u001b[m\u001b[K\n",
            "\u001b[01m\u001b[K../common/maskApi.c:46:49:\u001b[m\u001b[K \u001b[01;36m\u001b[Knote: \u001b[m\u001b[K...this statement, but the latter is misleadingly indented as if it were guarded by the ‘\u001b[01m\u001b[Kfor\u001b[m\u001b[K’\n",
            "       for( k=0; k<R[i].cnts[j]; k++ ) *(M++)=v; \u001b[01;36m\u001b[Kv\u001b[m\u001b[K=!v; }}\n",
            "                                                 \u001b[01;36m\u001b[K^\u001b[m\u001b[K\n",
            "\u001b[01m\u001b[K../common/maskApi.c:\u001b[m\u001b[K In function ‘\u001b[01m\u001b[KrleFrPoly\u001b[m\u001b[K’:\n",
            "\u001b[01m\u001b[K../common/maskApi.c:166:3:\u001b[m\u001b[K \u001b[01;35m\u001b[Kwarning: \u001b[m\u001b[Kthis ‘\u001b[01m\u001b[Kfor\u001b[m\u001b[K’ clause does not guard... [\u001b[01;35m\u001b[K-Wmisleading-indentation\u001b[m\u001b[K]\n",
            "   \u001b[01;35m\u001b[Kfor\u001b[m\u001b[K(j=0; j<k; j++) x[j]=(int)(scale*xy[j*2+0]+.5); x[k]=x[0];\n",
            "   \u001b[01;35m\u001b[K^~~\u001b[m\u001b[K\n",
            "\u001b[01m\u001b[K../common/maskApi.c:166:54:\u001b[m\u001b[K \u001b[01;36m\u001b[Knote: \u001b[m\u001b[K...this statement, but the latter is misleadingly indented as if it were guarded by the ‘\u001b[01m\u001b[Kfor\u001b[m\u001b[K’\n",
            "   for(j=0; j<k; j++) x[j]=(int)(scale*xy[j*2+0]+.5); \u001b[01;36m\u001b[Kx\u001b[m\u001b[K[k]=x[0];\n",
            "                                                      \u001b[01;36m\u001b[K^\u001b[m\u001b[K\n",
            "\u001b[01m\u001b[K../common/maskApi.c:167:3:\u001b[m\u001b[K \u001b[01;35m\u001b[Kwarning: \u001b[m\u001b[Kthis ‘\u001b[01m\u001b[Kfor\u001b[m\u001b[K’ clause does not guard... [\u001b[01;35m\u001b[K-Wmisleading-indentation\u001b[m\u001b[K]\n",
            "   \u001b[01;35m\u001b[Kfor\u001b[m\u001b[K(j=0; j<k; j++) y[j]=(int)(scale*xy[j*2+1]+.5); y[k]=y[0];\n",
            "   \u001b[01;35m\u001b[K^~~\u001b[m\u001b[K\n",
            "\u001b[01m\u001b[K../common/maskApi.c:167:54:\u001b[m\u001b[K \u001b[01;36m\u001b[Knote: \u001b[m\u001b[K...this statement, but the latter is misleadingly indented as if it were guarded by the ‘\u001b[01m\u001b[Kfor\u001b[m\u001b[K’\n",
            "   for(j=0; j<k; j++) y[j]=(int)(scale*xy[j*2+1]+.5); \u001b[01;36m\u001b[Ky\u001b[m\u001b[K[k]=y[0];\n",
            "                                                      \u001b[01;36m\u001b[K^\u001b[m\u001b[K\n",
            "\u001b[01m\u001b[K../common/maskApi.c:\u001b[m\u001b[K In function ‘\u001b[01m\u001b[KrleToString\u001b[m\u001b[K’:\n",
            "\u001b[01m\u001b[K../common/maskApi.c:212:7:\u001b[m\u001b[K \u001b[01;35m\u001b[Kwarning: \u001b[m\u001b[Kthis ‘\u001b[01m\u001b[Kif\u001b[m\u001b[K’ clause does not guard... [\u001b[01;35m\u001b[K-Wmisleading-indentation\u001b[m\u001b[K]\n",
            "       \u001b[01;35m\u001b[Kif\u001b[m\u001b[K(more) c |= 0x20; c+=48; s[p++]=c;\n",
            "       \u001b[01;35m\u001b[K^~\u001b[m\u001b[K\n",
            "\u001b[01m\u001b[K../common/maskApi.c:212:27:\u001b[m\u001b[K \u001b[01;36m\u001b[Knote: \u001b[m\u001b[K...this statement, but the latter is misleadingly indented as if it were guarded by the ‘\u001b[01m\u001b[Kif\u001b[m\u001b[K’\n",
            "       if(more) c |= 0x20; \u001b[01;36m\u001b[Kc\u001b[m\u001b[K+=48; s[p++]=c;\n",
            "                           \u001b[01;36m\u001b[K^\u001b[m\u001b[K\n",
            "\u001b[01m\u001b[K../common/maskApi.c:\u001b[m\u001b[K In function ‘\u001b[01m\u001b[KrleFrString\u001b[m\u001b[K’:\n",
            "\u001b[01m\u001b[K../common/maskApi.c:220:3:\u001b[m\u001b[K \u001b[01;35m\u001b[Kwarning: \u001b[m\u001b[Kthis ‘\u001b[01m\u001b[Kwhile\u001b[m\u001b[K’ clause does not guard... [\u001b[01;35m\u001b[K-Wmisleading-indentation\u001b[m\u001b[K]\n",
            "   \u001b[01;35m\u001b[Kwhile\u001b[m\u001b[K( s[m] ) m++; cnts=malloc(sizeof(uint)*m); m=0;\n",
            "   \u001b[01;35m\u001b[K^~~~~\u001b[m\u001b[K\n",
            "\u001b[01m\u001b[K../common/maskApi.c:220:22:\u001b[m\u001b[K \u001b[01;36m\u001b[Knote: \u001b[m\u001b[K...this statement, but the latter is misleadingly indented as if it were guarded by the ‘\u001b[01m\u001b[Kwhile\u001b[m\u001b[K’\n",
            "   while( s[m] ) m++; \u001b[01;36m\u001b[Kcnts\u001b[m\u001b[K=malloc(sizeof(uint)*m); m=0;\n",
            "                      \u001b[01;36m\u001b[K^~~~\u001b[m\u001b[K\n",
            "\u001b[01m\u001b[K../common/maskApi.c:228:5:\u001b[m\u001b[K \u001b[01;35m\u001b[Kwarning: \u001b[m\u001b[Kthis ‘\u001b[01m\u001b[Kif\u001b[m\u001b[K’ clause does not guard... [\u001b[01;35m\u001b[K-Wmisleading-indentation\u001b[m\u001b[K]\n",
            "     \u001b[01;35m\u001b[Kif\u001b[m\u001b[K(m>2) x+=(long) cnts[m-2]; cnts[m++]=(uint) x;\n",
            "     \u001b[01;35m\u001b[K^~\u001b[m\u001b[K\n",
            "\u001b[01m\u001b[K../common/maskApi.c:228:34:\u001b[m\u001b[K \u001b[01;36m\u001b[Knote: \u001b[m\u001b[K...this statement, but the latter is misleadingly indented as if it were guarded by the ‘\u001b[01m\u001b[Kif\u001b[m\u001b[K’\n",
            "     if(m>2) x+=(long) cnts[m-2]; \u001b[01;36m\u001b[Kcnts\u001b[m\u001b[K[m++]=(uint) x;\n",
            "                                  \u001b[01;36m\u001b[K^~~~\u001b[m\u001b[K\n",
            "\u001b[01m\u001b[K../common/maskApi.c:\u001b[m\u001b[K In function ‘\u001b[01m\u001b[KrleToBbox\u001b[m\u001b[K’:\n",
            "\u001b[01m\u001b[K../common/maskApi.c:141:31:\u001b[m\u001b[K \u001b[01;35m\u001b[Kwarning: \u001b[m\u001b[K‘\u001b[01m\u001b[Kxp\u001b[m\u001b[K’ may be used uninitialized in this function [\u001b[01;35m\u001b[K-Wmaybe-uninitialized\u001b[m\u001b[K]\n",
            "       if(j%2==0) xp=x; else if\u001b[01;35m\u001b[K(\u001b[m\u001b[Kxp<x) { ys=0; ye=h-1; }\n",
            "                               \u001b[01;35m\u001b[K^\u001b[m\u001b[K\n",
            "x86_64-linux-gnu-gcc -pthread -Wno-unused-result -Wsign-compare -DNDEBUG -g -fwrapv -O2 -Wall -g -fdebug-prefix-map=/build/python3.7-Y7dWVB/python3.7-3.7.12=. -fstack-protector-strong -Wformat -Werror=format-security -g -fdebug-prefix-map=/build/python3.7-Y7dWVB/python3.7-3.7.12=. -fstack-protector-strong -Wformat -Werror=format-security -Wdate-time -D_FORTIFY_SOURCE=2 -fPIC -I/usr/local/lib/python3.7/dist-packages/numpy/core/include -I../common -I/usr/include/python3.7m -c pycocotools/_mask.c -o build/temp.linux-x86_64-3.7/pycocotools/_mask.o -Wno-cpp -Wno-unused-function -std=c99\n",
            "creating build/lib.linux-x86_64-3.7\n",
            "creating build/lib.linux-x86_64-3.7/pycocotools\n",
            "x86_64-linux-gnu-gcc -pthread -shared -Wl,-O1 -Wl,-Bsymbolic-functions -Wl,-Bsymbolic-functions -Wl,-z,relro -Wl,-Bsymbolic-functions -Wl,-z,relro -g -fdebug-prefix-map=/build/python3.7-Y7dWVB/python3.7-3.7.12=. -fstack-protector-strong -Wformat -Werror=format-security -Wdate-time -D_FORTIFY_SOURCE=2 build/temp.linux-x86_64-3.7/../common/maskApi.o build/temp.linux-x86_64-3.7/pycocotools/_mask.o -o build/lib.linux-x86_64-3.7/pycocotools/_mask.cpython-37m-x86_64-linux-gnu.so\n",
            "copying build/lib.linux-x86_64-3.7/pycocotools/_mask.cpython-37m-x86_64-linux-gnu.so -> pycocotools\n",
            "rm -rf build\n"
          ]
        }
      ]
    },
    {
      "cell_type": "code",
      "metadata": {
        "id": "ba19PlKaxVZ9"
      },
      "source": [
        "cp -r pycocotools /content/models/research"
      ],
      "execution_count": null,
      "outputs": []
    },
    {
      "cell_type": "markdown",
      "metadata": {
        "id": "Gs7kphtWxhBl"
      },
      "source": [
        "## Install the Object Detection API"
      ]
    },
    {
      "cell_type": "code",
      "metadata": {
        "id": "l0Y538BSxfuL",
        "colab": {
          "base_uri": "https://localhost:8080/"
        },
        "outputId": "82f230fc-c21d-4431-ded0-61970a61fcec"
      },
      "source": [
        "cd .."
      ],
      "execution_count": null,
      "outputs": [
        {
          "output_type": "stream",
          "name": "stdout",
          "text": [
            "/content/models/research/cocoapi\n"
          ]
        }
      ]
    },
    {
      "cell_type": "code",
      "metadata": {
        "id": "oF4G9IZDxkA0",
        "colab": {
          "base_uri": "https://localhost:8080/"
        },
        "outputId": "75e0a745-7a4c-4100-8758-41ce258a8472"
      },
      "source": [
        "cd .."
      ],
      "execution_count": null,
      "outputs": [
        {
          "output_type": "stream",
          "name": "stdout",
          "text": [
            "/content/models/research\n"
          ]
        }
      ]
    },
    {
      "cell_type": "code",
      "metadata": {
        "id": "XdsDJr9Vxj9f"
      },
      "source": [
        "cp object_detection/packages/tf2/setup.py ."
      ],
      "execution_count": null,
      "outputs": []
    },
    {
      "cell_type": "code",
      "metadata": {
        "id": "j7NBFs19xoEt",
        "colab": {
          "base_uri": "https://localhost:8080/"
        },
        "outputId": "e3a847c5-83b2-494c-b7bd-6ac98b776264"
      },
      "source": [
        "!python -m pip -q install ."
      ],
      "execution_count": null,
      "outputs": [
        {
          "output_type": "stream",
          "name": "stdout",
          "text": [
            "\u001b[33m  DEPRECATION: A future pip version will change local packages to be built in-place without first copying to a temporary directory. We recommend you use --use-feature=in-tree-build to test your packages with this new behavior before it becomes the default.\n",
            "   pip 21.3 will remove support for this functionality. You can find discussion regarding this at https://github.com/pypa/pip/issues/7555.\u001b[0m\n",
            "\u001b[K     |████████████████████████████████| 9.8 MB 11.2 MB/s \n",
            "\u001b[K     |████████████████████████████████| 352 kB 56.9 MB/s \n",
            "\u001b[K     |████████████████████████████████| 1.8 MB 50.5 MB/s \n",
            "\u001b[K     |████████████████████████████████| 90 kB 11.7 MB/s \n",
            "\u001b[K     |████████████████████████████████| 213 kB 77.4 MB/s \n",
            "\u001b[K     |████████████████████████████████| 37.1 MB 79 kB/s \n",
            "\u001b[K     |████████████████████████████████| 99 kB 12.7 MB/s \n",
            "\u001b[K     |████████████████████████████████| 1.2 MB 78.3 MB/s \n",
            "\u001b[K     |████████████████████████████████| 43 kB 2.8 MB/s \n",
            "\u001b[K     |████████████████████████████████| 636 kB 77.2 MB/s \n",
            "\u001b[K     |████████████████████████████████| 4.4 MB 86.0 MB/s \n",
            "\u001b[K     |████████████████████████████████| 1.1 MB 78.7 MB/s \n",
            "\u001b[K     |████████████████████████████████| 2.3 MB 52.4 MB/s \n",
            "\u001b[K     |████████████████████████████████| 249 kB 97.6 MB/s \n",
            "\u001b[K     |████████████████████████████████| 62 kB 1.1 MB/s \n",
            "\u001b[K     |████████████████████████████████| 829 kB 86.8 MB/s \n",
            "\u001b[K     |████████████████████████████████| 151 kB 57.9 MB/s \n",
            "\u001b[?25h  Building wheel for object-detection (setup.py) ... \u001b[?25l\u001b[?25hdone\n",
            "  Building wheel for py-cpuinfo (setup.py) ... \u001b[?25l\u001b[?25hdone\n",
            "  Building wheel for avro-python3 (setup.py) ... \u001b[?25l\u001b[?25hdone\n",
            "  Building wheel for dill (setup.py) ... \u001b[?25l\u001b[?25hdone\n",
            "  Building wheel for future (setup.py) ... \u001b[?25l\u001b[?25hdone\n",
            "  Building wheel for seqeval (setup.py) ... \u001b[?25l\u001b[?25hdone\n",
            "\u001b[31mERROR: pip's dependency resolver does not currently take into account all the packages that are installed. This behaviour is the source of the following dependency conflicts.\n",
            "multiprocess 0.70.12.2 requires dill>=0.3.4, but you have dill 0.3.1.1 which is incompatible.\n",
            "google-colab 1.0.0 requires requests~=2.23.0, but you have requests 2.26.0 which is incompatible.\n",
            "datascience 0.10.6 requires folium==0.2.1, but you have folium 0.8.3 which is incompatible.\u001b[0m\n"
          ]
        }
      ]
    },
    {
      "cell_type": "markdown",
      "metadata": {
        "id": "7DX2wbhPxtP7"
      },
      "source": [
        "## Test the installation"
      ]
    },
    {
      "cell_type": "code",
      "metadata": {
        "id": "RbusGM9y9c0i",
        "colab": {
          "base_uri": "https://localhost:8080/"
        },
        "outputId": "834e8183-a5e0-4ba5-fbcd-12d747a8ba16"
      },
      "source": [
        "ls"
      ],
      "execution_count": null,
      "outputs": [
        {
          "output_type": "stream",
          "name": "stdout",
          "text": [
            "\u001b[0m\u001b[01;34madversarial_text\u001b[0m/    \u001b[01;34mcvt_text\u001b[0m/       \u001b[01;34mlstm_object_detection\u001b[0m/  README.md\n",
            "\u001b[01;34mattention_ocr\u001b[0m/       \u001b[01;34mdeeplab\u001b[0m/        \u001b[01;34mmarco\u001b[0m/                  \u001b[01;34mrebar\u001b[0m/\n",
            "\u001b[01;34maudioset\u001b[0m/            \u001b[01;34mdeep_speech\u001b[0m/    \u001b[01;34mnst_blogpost\u001b[0m/           \u001b[01;34mseq_flow_lite\u001b[0m/\n",
            "\u001b[01;34mautoaugment\u001b[0m/         \u001b[01;34mdelf\u001b[0m/           \u001b[01;34mobject_detection\u001b[0m/       setup.py\n",
            "\u001b[01;34mcocoapi\u001b[0m/             \u001b[01;34mefficient-hrl\u001b[0m/  \u001b[01;34mpcl_rl\u001b[0m/                 \u001b[01;34mslim\u001b[0m/\n",
            "\u001b[01;34mcognitive_planning\u001b[0m/  \u001b[01;34mlfads\u001b[0m/          \u001b[01;34mpycocotools\u001b[0m/            \u001b[01;34mvid2depth\u001b[0m/\n"
          ]
        }
      ]
    },
    {
      "cell_type": "code",
      "metadata": {
        "id": "LPM8YfodxpwE",
        "colab": {
          "base_uri": "https://localhost:8080/"
        },
        "outputId": "3918facd-e48e-4cde-ab56-ed2862fc3610"
      },
      "source": [
        "# From within TensorFlow/models/research/\n",
        "!python /content/models/research/object_detection/builders/model_builder_tf2_test.py"
      ],
      "execution_count": null,
      "outputs": [
        {
          "output_type": "stream",
          "name": "stdout",
          "text": [
            "2021-10-13 19:08:26.807217: I tensorflow/stream_executor/cuda/cuda_gpu_executor.cc:937] successful NUMA node read from SysFS had negative value (-1), but there must be at least one NUMA node, so returning NUMA node zero\n",
            "2021-10-13 19:08:27.063460: I tensorflow/stream_executor/cuda/cuda_gpu_executor.cc:937] successful NUMA node read from SysFS had negative value (-1), but there must be at least one NUMA node, so returning NUMA node zero\n",
            "2021-10-13 19:08:27.064104: I tensorflow/stream_executor/cuda/cuda_gpu_executor.cc:937] successful NUMA node read from SysFS had negative value (-1), but there must be at least one NUMA node, so returning NUMA node zero\n",
            "Running tests under Python 3.7.12: /usr/bin/python3\n",
            "[ RUN      ] ModelBuilderTF2Test.test_create_center_net_deepmac\n",
            "2021-10-13 19:08:27.077845: I tensorflow/stream_executor/cuda/cuda_gpu_executor.cc:937] successful NUMA node read from SysFS had negative value (-1), but there must be at least one NUMA node, so returning NUMA node zero\n",
            "2021-10-13 19:08:27.078472: I tensorflow/stream_executor/cuda/cuda_gpu_executor.cc:937] successful NUMA node read from SysFS had negative value (-1), but there must be at least one NUMA node, so returning NUMA node zero\n",
            "2021-10-13 19:08:27.079071: I tensorflow/stream_executor/cuda/cuda_gpu_executor.cc:937] successful NUMA node read from SysFS had negative value (-1), but there must be at least one NUMA node, so returning NUMA node zero\n",
            "2021-10-13 19:08:29.987007: I tensorflow/stream_executor/cuda/cuda_gpu_executor.cc:937] successful NUMA node read from SysFS had negative value (-1), but there must be at least one NUMA node, so returning NUMA node zero\n",
            "2021-10-13 19:08:29.987658: I tensorflow/stream_executor/cuda/cuda_gpu_executor.cc:937] successful NUMA node read from SysFS had negative value (-1), but there must be at least one NUMA node, so returning NUMA node zero\n",
            "2021-10-13 19:08:29.988196: I tensorflow/stream_executor/cuda/cuda_gpu_executor.cc:937] successful NUMA node read from SysFS had negative value (-1), but there must be at least one NUMA node, so returning NUMA node zero\n",
            "2021-10-13 19:08:29.988823: W tensorflow/core/common_runtime/gpu/gpu_bfc_allocator.cc:39] Overriding allow_growth setting because the TF_FORCE_GPU_ALLOW_GROWTH environment variable is set. Original config value was 0.\n",
            "2021-10-13 19:08:29.988873: I tensorflow/core/common_runtime/gpu/gpu_device.cc:1510] Created device /job:localhost/replica:0/task:0/device:GPU:0 with 15435 MB memory:  -> device: 0, name: Tesla P100-PCIE-16GB, pci bus id: 0000:00:04.0, compute capability: 6.0\n",
            "W1013 19:08:30.259412 140072227526528 model_builder.py:1091] Building experimental DeepMAC meta-arch. Some features may be omitted.\n",
            "INFO:tensorflow:time(__main__.ModelBuilderTF2Test.test_create_center_net_deepmac): 3.51s\n",
            "I1013 19:08:30.579734 140072227526528 test_util.py:2189] time(__main__.ModelBuilderTF2Test.test_create_center_net_deepmac): 3.51s\n",
            "[       OK ] ModelBuilderTF2Test.test_create_center_net_deepmac\n",
            "[ RUN      ] ModelBuilderTF2Test.test_create_center_net_model0 (customize_head_params=True)\n",
            "INFO:tensorflow:time(__main__.ModelBuilderTF2Test.test_create_center_net_model0 (customize_head_params=True)): 0.46s\n",
            "I1013 19:08:31.040766 140072227526528 test_util.py:2189] time(__main__.ModelBuilderTF2Test.test_create_center_net_model0 (customize_head_params=True)): 0.46s\n",
            "[       OK ] ModelBuilderTF2Test.test_create_center_net_model0 (customize_head_params=True)\n",
            "[ RUN      ] ModelBuilderTF2Test.test_create_center_net_model1 (customize_head_params=False)\n",
            "INFO:tensorflow:time(__main__.ModelBuilderTF2Test.test_create_center_net_model1 (customize_head_params=False)): 0.25s\n",
            "I1013 19:08:31.286960 140072227526528 test_util.py:2189] time(__main__.ModelBuilderTF2Test.test_create_center_net_model1 (customize_head_params=False)): 0.25s\n",
            "[       OK ] ModelBuilderTF2Test.test_create_center_net_model1 (customize_head_params=False)\n",
            "[ RUN      ] ModelBuilderTF2Test.test_create_center_net_model_from_keypoints\n",
            "INFO:tensorflow:time(__main__.ModelBuilderTF2Test.test_create_center_net_model_from_keypoints): 0.22s\n",
            "I1013 19:08:31.510594 140072227526528 test_util.py:2189] time(__main__.ModelBuilderTF2Test.test_create_center_net_model_from_keypoints): 0.22s\n",
            "[       OK ] ModelBuilderTF2Test.test_create_center_net_model_from_keypoints\n",
            "[ RUN      ] ModelBuilderTF2Test.test_create_center_net_model_mobilenet\n",
            "INFO:tensorflow:time(__main__.ModelBuilderTF2Test.test_create_center_net_model_mobilenet): 1.56s\n",
            "I1013 19:08:33.068527 140072227526528 test_util.py:2189] time(__main__.ModelBuilderTF2Test.test_create_center_net_model_mobilenet): 1.56s\n",
            "[       OK ] ModelBuilderTF2Test.test_create_center_net_model_mobilenet\n",
            "[ RUN      ] ModelBuilderTF2Test.test_create_experimental_model\n",
            "INFO:tensorflow:time(__main__.ModelBuilderTF2Test.test_create_experimental_model): 0.0s\n",
            "I1013 19:08:33.069437 140072227526528 test_util.py:2189] time(__main__.ModelBuilderTF2Test.test_create_experimental_model): 0.0s\n",
            "[       OK ] ModelBuilderTF2Test.test_create_experimental_model\n",
            "[ RUN      ] ModelBuilderTF2Test.test_create_faster_rcnn_from_config_with_crop_feature0 (True)\n",
            "INFO:tensorflow:time(__main__.ModelBuilderTF2Test.test_create_faster_rcnn_from_config_with_crop_feature0 (True)): 0.02s\n",
            "I1013 19:08:33.089357 140072227526528 test_util.py:2189] time(__main__.ModelBuilderTF2Test.test_create_faster_rcnn_from_config_with_crop_feature0 (True)): 0.02s\n",
            "[       OK ] ModelBuilderTF2Test.test_create_faster_rcnn_from_config_with_crop_feature0 (True)\n",
            "[ RUN      ] ModelBuilderTF2Test.test_create_faster_rcnn_from_config_with_crop_feature1 (False)\n",
            "INFO:tensorflow:time(__main__.ModelBuilderTF2Test.test_create_faster_rcnn_from_config_with_crop_feature1 (False)): 0.01s\n",
            "I1013 19:08:33.103114 140072227526528 test_util.py:2189] time(__main__.ModelBuilderTF2Test.test_create_faster_rcnn_from_config_with_crop_feature1 (False)): 0.01s\n",
            "[       OK ] ModelBuilderTF2Test.test_create_faster_rcnn_from_config_with_crop_feature1 (False)\n",
            "[ RUN      ] ModelBuilderTF2Test.test_create_faster_rcnn_model_from_config_with_example_miner\n",
            "INFO:tensorflow:time(__main__.ModelBuilderTF2Test.test_create_faster_rcnn_model_from_config_with_example_miner): 0.01s\n",
            "I1013 19:08:33.117665 140072227526528 test_util.py:2189] time(__main__.ModelBuilderTF2Test.test_create_faster_rcnn_model_from_config_with_example_miner): 0.01s\n",
            "[       OK ] ModelBuilderTF2Test.test_create_faster_rcnn_model_from_config_with_example_miner\n",
            "[ RUN      ] ModelBuilderTF2Test.test_create_faster_rcnn_models_from_config_faster_rcnn_with_matmul\n",
            "INFO:tensorflow:time(__main__.ModelBuilderTF2Test.test_create_faster_rcnn_models_from_config_faster_rcnn_with_matmul): 0.09s\n",
            "I1013 19:08:33.207390 140072227526528 test_util.py:2189] time(__main__.ModelBuilderTF2Test.test_create_faster_rcnn_models_from_config_faster_rcnn_with_matmul): 0.09s\n",
            "[       OK ] ModelBuilderTF2Test.test_create_faster_rcnn_models_from_config_faster_rcnn_with_matmul\n",
            "[ RUN      ] ModelBuilderTF2Test.test_create_faster_rcnn_models_from_config_faster_rcnn_without_matmul\n",
            "INFO:tensorflow:time(__main__.ModelBuilderTF2Test.test_create_faster_rcnn_models_from_config_faster_rcnn_without_matmul): 0.09s\n",
            "I1013 19:08:33.293006 140072227526528 test_util.py:2189] time(__main__.ModelBuilderTF2Test.test_create_faster_rcnn_models_from_config_faster_rcnn_without_matmul): 0.09s\n",
            "[       OK ] ModelBuilderTF2Test.test_create_faster_rcnn_models_from_config_faster_rcnn_without_matmul\n",
            "[ RUN      ] ModelBuilderTF2Test.test_create_faster_rcnn_models_from_config_mask_rcnn_with_matmul\n",
            "INFO:tensorflow:time(__main__.ModelBuilderTF2Test.test_create_faster_rcnn_models_from_config_mask_rcnn_with_matmul): 0.09s\n",
            "I1013 19:08:33.385079 140072227526528 test_util.py:2189] time(__main__.ModelBuilderTF2Test.test_create_faster_rcnn_models_from_config_mask_rcnn_with_matmul): 0.09s\n",
            "[       OK ] ModelBuilderTF2Test.test_create_faster_rcnn_models_from_config_mask_rcnn_with_matmul\n",
            "[ RUN      ] ModelBuilderTF2Test.test_create_faster_rcnn_models_from_config_mask_rcnn_without_matmul\n",
            "INFO:tensorflow:time(__main__.ModelBuilderTF2Test.test_create_faster_rcnn_models_from_config_mask_rcnn_without_matmul): 0.09s\n",
            "I1013 19:08:33.473428 140072227526528 test_util.py:2189] time(__main__.ModelBuilderTF2Test.test_create_faster_rcnn_models_from_config_mask_rcnn_without_matmul): 0.09s\n",
            "[       OK ] ModelBuilderTF2Test.test_create_faster_rcnn_models_from_config_mask_rcnn_without_matmul\n",
            "[ RUN      ] ModelBuilderTF2Test.test_create_rfcn_model_from_config\n",
            "INFO:tensorflow:time(__main__.ModelBuilderTF2Test.test_create_rfcn_model_from_config): 0.09s\n",
            "I1013 19:08:33.564736 140072227526528 test_util.py:2189] time(__main__.ModelBuilderTF2Test.test_create_rfcn_model_from_config): 0.09s\n",
            "[       OK ] ModelBuilderTF2Test.test_create_rfcn_model_from_config\n",
            "[ RUN      ] ModelBuilderTF2Test.test_create_ssd_fpn_model_from_config\n",
            "INFO:tensorflow:time(__main__.ModelBuilderTF2Test.test_create_ssd_fpn_model_from_config): 0.03s\n",
            "I1013 19:08:33.591115 140072227526528 test_util.py:2189] time(__main__.ModelBuilderTF2Test.test_create_ssd_fpn_model_from_config): 0.03s\n",
            "[       OK ] ModelBuilderTF2Test.test_create_ssd_fpn_model_from_config\n",
            "[ RUN      ] ModelBuilderTF2Test.test_create_ssd_models_from_config\n",
            "I1013 19:08:33.872148 140072227526528 ssd_efficientnet_bifpn_feature_extractor.py:143] EfficientDet EfficientNet backbone version: efficientnet-b0\n",
            "I1013 19:08:33.872300 140072227526528 ssd_efficientnet_bifpn_feature_extractor.py:144] EfficientDet BiFPN num filters: 64\n",
            "I1013 19:08:33.872351 140072227526528 ssd_efficientnet_bifpn_feature_extractor.py:146] EfficientDet BiFPN num iterations: 3\n",
            "I1013 19:08:33.874842 140072227526528 efficientnet_model.py:147] round_filter input=32 output=32\n",
            "I1013 19:08:33.890242 140072227526528 efficientnet_model.py:147] round_filter input=32 output=32\n",
            "I1013 19:08:33.890356 140072227526528 efficientnet_model.py:147] round_filter input=16 output=16\n",
            "I1013 19:08:33.942099 140072227526528 efficientnet_model.py:147] round_filter input=16 output=16\n",
            "I1013 19:08:33.942205 140072227526528 efficientnet_model.py:147] round_filter input=24 output=24\n",
            "I1013 19:08:34.076683 140072227526528 efficientnet_model.py:147] round_filter input=24 output=24\n",
            "I1013 19:08:34.076787 140072227526528 efficientnet_model.py:147] round_filter input=40 output=40\n",
            "I1013 19:08:34.208286 140072227526528 efficientnet_model.py:147] round_filter input=40 output=40\n",
            "I1013 19:08:34.208424 140072227526528 efficientnet_model.py:147] round_filter input=80 output=80\n",
            "I1013 19:08:34.400554 140072227526528 efficientnet_model.py:147] round_filter input=80 output=80\n",
            "I1013 19:08:34.400681 140072227526528 efficientnet_model.py:147] round_filter input=112 output=112\n",
            "I1013 19:08:34.592944 140072227526528 efficientnet_model.py:147] round_filter input=112 output=112\n",
            "I1013 19:08:34.593076 140072227526528 efficientnet_model.py:147] round_filter input=192 output=192\n",
            "I1013 19:08:34.860162 140072227526528 efficientnet_model.py:147] round_filter input=192 output=192\n",
            "I1013 19:08:34.860315 140072227526528 efficientnet_model.py:147] round_filter input=320 output=320\n",
            "I1013 19:08:34.925423 140072227526528 efficientnet_model.py:147] round_filter input=1280 output=1280\n",
            "I1013 19:08:34.950365 140072227526528 efficientnet_model.py:458] Building model efficientnet with params ModelConfig(width_coefficient=1.0, depth_coefficient=1.0, resolution=224, dropout_rate=0.2, blocks=(BlockConfig(input_filters=32, output_filters=16, kernel_size=3, num_repeat=1, expand_ratio=1, strides=(1, 1), se_ratio=0.25, id_skip=True, fused_conv=False, conv_type='depthwise'), BlockConfig(input_filters=16, output_filters=24, kernel_size=3, num_repeat=2, expand_ratio=6, strides=(2, 2), se_ratio=0.25, id_skip=True, fused_conv=False, conv_type='depthwise'), BlockConfig(input_filters=24, output_filters=40, kernel_size=5, num_repeat=2, expand_ratio=6, strides=(2, 2), se_ratio=0.25, id_skip=True, fused_conv=False, conv_type='depthwise'), BlockConfig(input_filters=40, output_filters=80, kernel_size=3, num_repeat=3, expand_ratio=6, strides=(2, 2), se_ratio=0.25, id_skip=True, fused_conv=False, conv_type='depthwise'), BlockConfig(input_filters=80, output_filters=112, kernel_size=5, num_repeat=3, expand_ratio=6, strides=(1, 1), se_ratio=0.25, id_skip=True, fused_conv=False, conv_type='depthwise'), BlockConfig(input_filters=112, output_filters=192, kernel_size=5, num_repeat=4, expand_ratio=6, strides=(2, 2), se_ratio=0.25, id_skip=True, fused_conv=False, conv_type='depthwise'), BlockConfig(input_filters=192, output_filters=320, kernel_size=3, num_repeat=1, expand_ratio=6, strides=(1, 1), se_ratio=0.25, id_skip=True, fused_conv=False, conv_type='depthwise')), stem_base_filters=32, top_base_filters=1280, activation='simple_swish', batch_norm='default', bn_momentum=0.99, bn_epsilon=0.001, weight_decay=5e-06, drop_connect_rate=0.2, depth_divisor=8, min_depth=None, use_se=True, input_channels=3, num_classes=1000, model_name='efficientnet', rescale_input=False, data_format='channels_last', dtype='float32')\n",
            "I1013 19:08:34.997635 140072227526528 ssd_efficientnet_bifpn_feature_extractor.py:143] EfficientDet EfficientNet backbone version: efficientnet-b1\n",
            "I1013 19:08:34.997757 140072227526528 ssd_efficientnet_bifpn_feature_extractor.py:144] EfficientDet BiFPN num filters: 88\n",
            "I1013 19:08:34.997814 140072227526528 ssd_efficientnet_bifpn_feature_extractor.py:146] EfficientDet BiFPN num iterations: 4\n",
            "I1013 19:08:34.999227 140072227526528 efficientnet_model.py:147] round_filter input=32 output=32\n",
            "I1013 19:08:35.011782 140072227526528 efficientnet_model.py:147] round_filter input=32 output=32\n",
            "I1013 19:08:35.011872 140072227526528 efficientnet_model.py:147] round_filter input=16 output=16\n",
            "I1013 19:08:35.111595 140072227526528 efficientnet_model.py:147] round_filter input=16 output=16\n",
            "I1013 19:08:35.111694 140072227526528 efficientnet_model.py:147] round_filter input=24 output=24\n",
            "I1013 19:08:35.314020 140072227526528 efficientnet_model.py:147] round_filter input=24 output=24\n",
            "I1013 19:08:35.314224 140072227526528 efficientnet_model.py:147] round_filter input=40 output=40\n",
            "I1013 19:08:35.508584 140072227526528 efficientnet_model.py:147] round_filter input=40 output=40\n",
            "I1013 19:08:35.508723 140072227526528 efficientnet_model.py:147] round_filter input=80 output=80\n",
            "I1013 19:08:35.768805 140072227526528 efficientnet_model.py:147] round_filter input=80 output=80\n",
            "I1013 19:08:35.768961 140072227526528 efficientnet_model.py:147] round_filter input=112 output=112\n",
            "I1013 19:08:36.034266 140072227526528 efficientnet_model.py:147] round_filter input=112 output=112\n",
            "I1013 19:08:36.034445 140072227526528 efficientnet_model.py:147] round_filter input=192 output=192\n",
            "I1013 19:08:36.366441 140072227526528 efficientnet_model.py:147] round_filter input=192 output=192\n",
            "I1013 19:08:36.366612 140072227526528 efficientnet_model.py:147] round_filter input=320 output=320\n",
            "I1013 19:08:36.495461 140072227526528 efficientnet_model.py:147] round_filter input=1280 output=1280\n",
            "I1013 19:08:36.520691 140072227526528 efficientnet_model.py:458] Building model efficientnet with params ModelConfig(width_coefficient=1.0, depth_coefficient=1.1, resolution=240, dropout_rate=0.2, blocks=(BlockConfig(input_filters=32, output_filters=16, kernel_size=3, num_repeat=1, expand_ratio=1, strides=(1, 1), se_ratio=0.25, id_skip=True, fused_conv=False, conv_type='depthwise'), BlockConfig(input_filters=16, output_filters=24, kernel_size=3, num_repeat=2, expand_ratio=6, strides=(2, 2), se_ratio=0.25, id_skip=True, fused_conv=False, conv_type='depthwise'), BlockConfig(input_filters=24, output_filters=40, kernel_size=5, num_repeat=2, expand_ratio=6, strides=(2, 2), se_ratio=0.25, id_skip=True, fused_conv=False, conv_type='depthwise'), BlockConfig(input_filters=40, output_filters=80, kernel_size=3, num_repeat=3, expand_ratio=6, strides=(2, 2), se_ratio=0.25, id_skip=True, fused_conv=False, conv_type='depthwise'), BlockConfig(input_filters=80, output_filters=112, kernel_size=5, num_repeat=3, expand_ratio=6, strides=(1, 1), se_ratio=0.25, id_skip=True, fused_conv=False, conv_type='depthwise'), BlockConfig(input_filters=112, output_filters=192, kernel_size=5, num_repeat=4, expand_ratio=6, strides=(2, 2), se_ratio=0.25, id_skip=True, fused_conv=False, conv_type='depthwise'), BlockConfig(input_filters=192, output_filters=320, kernel_size=3, num_repeat=1, expand_ratio=6, strides=(1, 1), se_ratio=0.25, id_skip=True, fused_conv=False, conv_type='depthwise')), stem_base_filters=32, top_base_filters=1280, activation='simple_swish', batch_norm='default', bn_momentum=0.99, bn_epsilon=0.001, weight_decay=5e-06, drop_connect_rate=0.2, depth_divisor=8, min_depth=None, use_se=True, input_channels=3, num_classes=1000, model_name='efficientnet', rescale_input=False, data_format='channels_last', dtype='float32')\n",
            "I1013 19:08:36.689901 140072227526528 ssd_efficientnet_bifpn_feature_extractor.py:143] EfficientDet EfficientNet backbone version: efficientnet-b2\n",
            "I1013 19:08:36.690039 140072227526528 ssd_efficientnet_bifpn_feature_extractor.py:144] EfficientDet BiFPN num filters: 112\n",
            "I1013 19:08:36.690091 140072227526528 ssd_efficientnet_bifpn_feature_extractor.py:146] EfficientDet BiFPN num iterations: 5\n",
            "I1013 19:08:36.691572 140072227526528 efficientnet_model.py:147] round_filter input=32 output=32\n",
            "I1013 19:08:36.705040 140072227526528 efficientnet_model.py:147] round_filter input=32 output=32\n",
            "I1013 19:08:36.705141 140072227526528 efficientnet_model.py:147] round_filter input=16 output=16\n",
            "I1013 19:08:36.807520 140072227526528 efficientnet_model.py:147] round_filter input=16 output=16\n",
            "I1013 19:08:36.807646 140072227526528 efficientnet_model.py:147] round_filter input=24 output=24\n",
            "I1013 19:08:37.003726 140072227526528 efficientnet_model.py:147] round_filter input=24 output=24\n",
            "I1013 19:08:37.003887 140072227526528 efficientnet_model.py:147] round_filter input=40 output=48\n",
            "I1013 19:08:37.198015 140072227526528 efficientnet_model.py:147] round_filter input=40 output=48\n",
            "I1013 19:08:37.198161 140072227526528 efficientnet_model.py:147] round_filter input=80 output=88\n",
            "I1013 19:08:37.466030 140072227526528 efficientnet_model.py:147] round_filter input=80 output=88\n",
            "I1013 19:08:37.466181 140072227526528 efficientnet_model.py:147] round_filter input=112 output=120\n",
            "I1013 19:08:37.727846 140072227526528 efficientnet_model.py:147] round_filter input=112 output=120\n",
            "I1013 19:08:37.728002 140072227526528 efficientnet_model.py:147] round_filter input=192 output=208\n",
            "I1013 19:08:38.057178 140072227526528 efficientnet_model.py:147] round_filter input=192 output=208\n",
            "I1013 19:08:38.057350 140072227526528 efficientnet_model.py:147] round_filter input=320 output=352\n",
            "I1013 19:08:38.188350 140072227526528 efficientnet_model.py:147] round_filter input=1280 output=1408\n",
            "I1013 19:08:38.212701 140072227526528 efficientnet_model.py:458] Building model efficientnet with params ModelConfig(width_coefficient=1.1, depth_coefficient=1.2, resolution=260, dropout_rate=0.3, blocks=(BlockConfig(input_filters=32, output_filters=16, kernel_size=3, num_repeat=1, expand_ratio=1, strides=(1, 1), se_ratio=0.25, id_skip=True, fused_conv=False, conv_type='depthwise'), BlockConfig(input_filters=16, output_filters=24, kernel_size=3, num_repeat=2, expand_ratio=6, strides=(2, 2), se_ratio=0.25, id_skip=True, fused_conv=False, conv_type='depthwise'), BlockConfig(input_filters=24, output_filters=40, kernel_size=5, num_repeat=2, expand_ratio=6, strides=(2, 2), se_ratio=0.25, id_skip=True, fused_conv=False, conv_type='depthwise'), BlockConfig(input_filters=40, output_filters=80, kernel_size=3, num_repeat=3, expand_ratio=6, strides=(2, 2), se_ratio=0.25, id_skip=True, fused_conv=False, conv_type='depthwise'), BlockConfig(input_filters=80, output_filters=112, kernel_size=5, num_repeat=3, expand_ratio=6, strides=(1, 1), se_ratio=0.25, id_skip=True, fused_conv=False, conv_type='depthwise'), BlockConfig(input_filters=112, output_filters=192, kernel_size=5, num_repeat=4, expand_ratio=6, strides=(2, 2), se_ratio=0.25, id_skip=True, fused_conv=False, conv_type='depthwise'), BlockConfig(input_filters=192, output_filters=320, kernel_size=3, num_repeat=1, expand_ratio=6, strides=(1, 1), se_ratio=0.25, id_skip=True, fused_conv=False, conv_type='depthwise')), stem_base_filters=32, top_base_filters=1280, activation='simple_swish', batch_norm='default', bn_momentum=0.99, bn_epsilon=0.001, weight_decay=5e-06, drop_connect_rate=0.2, depth_divisor=8, min_depth=None, use_se=True, input_channels=3, num_classes=1000, model_name='efficientnet', rescale_input=False, data_format='channels_last', dtype='float32')\n",
            "I1013 19:08:38.274278 140072227526528 ssd_efficientnet_bifpn_feature_extractor.py:143] EfficientDet EfficientNet backbone version: efficientnet-b3\n",
            "I1013 19:08:38.274432 140072227526528 ssd_efficientnet_bifpn_feature_extractor.py:144] EfficientDet BiFPN num filters: 160\n",
            "I1013 19:08:38.274523 140072227526528 ssd_efficientnet_bifpn_feature_extractor.py:146] EfficientDet BiFPN num iterations: 6\n",
            "I1013 19:08:38.276211 140072227526528 efficientnet_model.py:147] round_filter input=32 output=40\n",
            "I1013 19:08:38.290942 140072227526528 efficientnet_model.py:147] round_filter input=32 output=40\n",
            "I1013 19:08:38.291121 140072227526528 efficientnet_model.py:147] round_filter input=16 output=24\n",
            "I1013 19:08:38.398322 140072227526528 efficientnet_model.py:147] round_filter input=16 output=24\n",
            "I1013 19:08:38.398474 140072227526528 efficientnet_model.py:147] round_filter input=24 output=32\n",
            "I1013 19:08:38.596083 140072227526528 efficientnet_model.py:147] round_filter input=24 output=32\n",
            "I1013 19:08:38.596236 140072227526528 efficientnet_model.py:147] round_filter input=40 output=48\n",
            "I1013 19:08:38.789108 140072227526528 efficientnet_model.py:147] round_filter input=40 output=48\n",
            "I1013 19:08:38.789264 140072227526528 efficientnet_model.py:147] round_filter input=80 output=96\n",
            "I1013 19:08:39.119930 140072227526528 efficientnet_model.py:147] round_filter input=80 output=96\n",
            "I1013 19:08:39.120103 140072227526528 efficientnet_model.py:147] round_filter input=112 output=136\n",
            "I1013 19:08:39.446960 140072227526528 efficientnet_model.py:147] round_filter input=112 output=136\n",
            "I1013 19:08:39.447121 140072227526528 efficientnet_model.py:147] round_filter input=192 output=232\n",
            "I1013 19:08:39.845162 140072227526528 efficientnet_model.py:147] round_filter input=192 output=232\n",
            "I1013 19:08:39.845332 140072227526528 efficientnet_model.py:147] round_filter input=320 output=384\n",
            "I1013 19:08:39.979258 140072227526528 efficientnet_model.py:147] round_filter input=1280 output=1536\n",
            "I1013 19:08:40.003362 140072227526528 efficientnet_model.py:458] Building model efficientnet with params ModelConfig(width_coefficient=1.2, depth_coefficient=1.4, resolution=300, dropout_rate=0.3, blocks=(BlockConfig(input_filters=32, output_filters=16, kernel_size=3, num_repeat=1, expand_ratio=1, strides=(1, 1), se_ratio=0.25, id_skip=True, fused_conv=False, conv_type='depthwise'), BlockConfig(input_filters=16, output_filters=24, kernel_size=3, num_repeat=2, expand_ratio=6, strides=(2, 2), se_ratio=0.25, id_skip=True, fused_conv=False, conv_type='depthwise'), BlockConfig(input_filters=24, output_filters=40, kernel_size=5, num_repeat=2, expand_ratio=6, strides=(2, 2), se_ratio=0.25, id_skip=True, fused_conv=False, conv_type='depthwise'), BlockConfig(input_filters=40, output_filters=80, kernel_size=3, num_repeat=3, expand_ratio=6, strides=(2, 2), se_ratio=0.25, id_skip=True, fused_conv=False, conv_type='depthwise'), BlockConfig(input_filters=80, output_filters=112, kernel_size=5, num_repeat=3, expand_ratio=6, strides=(1, 1), se_ratio=0.25, id_skip=True, fused_conv=False, conv_type='depthwise'), BlockConfig(input_filters=112, output_filters=192, kernel_size=5, num_repeat=4, expand_ratio=6, strides=(2, 2), se_ratio=0.25, id_skip=True, fused_conv=False, conv_type='depthwise'), BlockConfig(input_filters=192, output_filters=320, kernel_size=3, num_repeat=1, expand_ratio=6, strides=(1, 1), se_ratio=0.25, id_skip=True, fused_conv=False, conv_type='depthwise')), stem_base_filters=32, top_base_filters=1280, activation='simple_swish', batch_norm='default', bn_momentum=0.99, bn_epsilon=0.001, weight_decay=5e-06, drop_connect_rate=0.2, depth_divisor=8, min_depth=None, use_se=True, input_channels=3, num_classes=1000, model_name='efficientnet', rescale_input=False, data_format='channels_last', dtype='float32')\n",
            "I1013 19:08:40.237791 140072227526528 ssd_efficientnet_bifpn_feature_extractor.py:143] EfficientDet EfficientNet backbone version: efficientnet-b4\n",
            "I1013 19:08:40.237962 140072227526528 ssd_efficientnet_bifpn_feature_extractor.py:144] EfficientDet BiFPN num filters: 224\n",
            "I1013 19:08:40.238042 140072227526528 ssd_efficientnet_bifpn_feature_extractor.py:146] EfficientDet BiFPN num iterations: 7\n",
            "I1013 19:08:40.239695 140072227526528 efficientnet_model.py:147] round_filter input=32 output=48\n",
            "I1013 19:08:40.254842 140072227526528 efficientnet_model.py:147] round_filter input=32 output=48\n",
            "I1013 19:08:40.254972 140072227526528 efficientnet_model.py:147] round_filter input=16 output=24\n",
            "I1013 19:08:40.359660 140072227526528 efficientnet_model.py:147] round_filter input=16 output=24\n",
            "I1013 19:08:40.359776 140072227526528 efficientnet_model.py:147] round_filter input=24 output=32\n",
            "I1013 19:08:40.618854 140072227526528 efficientnet_model.py:147] round_filter input=24 output=32\n",
            "I1013 19:08:40.619006 140072227526528 efficientnet_model.py:147] round_filter input=40 output=56\n",
            "I1013 19:08:40.883807 140072227526528 efficientnet_model.py:147] round_filter input=40 output=56\n",
            "I1013 19:08:40.883973 140072227526528 efficientnet_model.py:147] round_filter input=80 output=112\n",
            "I1013 19:08:41.280998 140072227526528 efficientnet_model.py:147] round_filter input=80 output=112\n",
            "I1013 19:08:41.281170 140072227526528 efficientnet_model.py:147] round_filter input=112 output=160\n",
            "I1013 19:08:41.679842 140072227526528 efficientnet_model.py:147] round_filter input=112 output=160\n",
            "I1013 19:08:41.680004 140072227526528 efficientnet_model.py:147] round_filter input=192 output=272\n",
            "I1013 19:08:42.210424 140072227526528 efficientnet_model.py:147] round_filter input=192 output=272\n",
            "I1013 19:08:42.210614 140072227526528 efficientnet_model.py:147] round_filter input=320 output=448\n",
            "I1013 19:08:42.342241 140072227526528 efficientnet_model.py:147] round_filter input=1280 output=1792\n",
            "I1013 19:08:42.366514 140072227526528 efficientnet_model.py:458] Building model efficientnet with params ModelConfig(width_coefficient=1.4, depth_coefficient=1.8, resolution=380, dropout_rate=0.4, blocks=(BlockConfig(input_filters=32, output_filters=16, kernel_size=3, num_repeat=1, expand_ratio=1, strides=(1, 1), se_ratio=0.25, id_skip=True, fused_conv=False, conv_type='depthwise'), BlockConfig(input_filters=16, output_filters=24, kernel_size=3, num_repeat=2, expand_ratio=6, strides=(2, 2), se_ratio=0.25, id_skip=True, fused_conv=False, conv_type='depthwise'), BlockConfig(input_filters=24, output_filters=40, kernel_size=5, num_repeat=2, expand_ratio=6, strides=(2, 2), se_ratio=0.25, id_skip=True, fused_conv=False, conv_type='depthwise'), BlockConfig(input_filters=40, output_filters=80, kernel_size=3, num_repeat=3, expand_ratio=6, strides=(2, 2), se_ratio=0.25, id_skip=True, fused_conv=False, conv_type='depthwise'), BlockConfig(input_filters=80, output_filters=112, kernel_size=5, num_repeat=3, expand_ratio=6, strides=(1, 1), se_ratio=0.25, id_skip=True, fused_conv=False, conv_type='depthwise'), BlockConfig(input_filters=112, output_filters=192, kernel_size=5, num_repeat=4, expand_ratio=6, strides=(2, 2), se_ratio=0.25, id_skip=True, fused_conv=False, conv_type='depthwise'), BlockConfig(input_filters=192, output_filters=320, kernel_size=3, num_repeat=1, expand_ratio=6, strides=(1, 1), se_ratio=0.25, id_skip=True, fused_conv=False, conv_type='depthwise')), stem_base_filters=32, top_base_filters=1280, activation='simple_swish', batch_norm='default', bn_momentum=0.99, bn_epsilon=0.001, weight_decay=5e-06, drop_connect_rate=0.2, depth_divisor=8, min_depth=None, use_se=True, input_channels=3, num_classes=1000, model_name='efficientnet', rescale_input=False, data_format='channels_last', dtype='float32')\n",
            "I1013 19:08:42.437678 140072227526528 ssd_efficientnet_bifpn_feature_extractor.py:143] EfficientDet EfficientNet backbone version: efficientnet-b5\n",
            "I1013 19:08:42.437804 140072227526528 ssd_efficientnet_bifpn_feature_extractor.py:144] EfficientDet BiFPN num filters: 288\n",
            "I1013 19:08:42.437869 140072227526528 ssd_efficientnet_bifpn_feature_extractor.py:146] EfficientDet BiFPN num iterations: 7\n",
            "I1013 19:08:42.439307 140072227526528 efficientnet_model.py:147] round_filter input=32 output=48\n",
            "I1013 19:08:42.452353 140072227526528 efficientnet_model.py:147] round_filter input=32 output=48\n",
            "I1013 19:08:42.452455 140072227526528 efficientnet_model.py:147] round_filter input=16 output=24\n",
            "I1013 19:08:42.608599 140072227526528 efficientnet_model.py:147] round_filter input=16 output=24\n",
            "I1013 19:08:42.608743 140072227526528 efficientnet_model.py:147] round_filter input=24 output=40\n",
            "I1013 19:08:42.931414 140072227526528 efficientnet_model.py:147] round_filter input=24 output=40\n",
            "I1013 19:08:42.931594 140072227526528 efficientnet_model.py:147] round_filter input=40 output=64\n",
            "I1013 19:08:43.270055 140072227526528 efficientnet_model.py:147] round_filter input=40 output=64\n",
            "I1013 19:08:43.270233 140072227526528 efficientnet_model.py:147] round_filter input=80 output=128\n",
            "I1013 19:08:43.740883 140072227526528 efficientnet_model.py:147] round_filter input=80 output=128\n",
            "I1013 19:08:43.741039 140072227526528 efficientnet_model.py:147] round_filter input=112 output=176\n",
            "I1013 19:08:44.394656 140072227526528 efficientnet_model.py:147] round_filter input=112 output=176\n",
            "I1013 19:08:44.394821 140072227526528 efficientnet_model.py:147] round_filter input=192 output=304\n",
            "I1013 19:08:44.978791 140072227526528 efficientnet_model.py:147] round_filter input=192 output=304\n",
            "I1013 19:08:44.978949 140072227526528 efficientnet_model.py:147] round_filter input=320 output=512\n",
            "I1013 19:08:45.176575 140072227526528 efficientnet_model.py:147] round_filter input=1280 output=2048\n",
            "I1013 19:08:45.207214 140072227526528 efficientnet_model.py:458] Building model efficientnet with params ModelConfig(width_coefficient=1.6, depth_coefficient=2.2, resolution=456, dropout_rate=0.4, blocks=(BlockConfig(input_filters=32, output_filters=16, kernel_size=3, num_repeat=1, expand_ratio=1, strides=(1, 1), se_ratio=0.25, id_skip=True, fused_conv=False, conv_type='depthwise'), BlockConfig(input_filters=16, output_filters=24, kernel_size=3, num_repeat=2, expand_ratio=6, strides=(2, 2), se_ratio=0.25, id_skip=True, fused_conv=False, conv_type='depthwise'), BlockConfig(input_filters=24, output_filters=40, kernel_size=5, num_repeat=2, expand_ratio=6, strides=(2, 2), se_ratio=0.25, id_skip=True, fused_conv=False, conv_type='depthwise'), BlockConfig(input_filters=40, output_filters=80, kernel_size=3, num_repeat=3, expand_ratio=6, strides=(2, 2), se_ratio=0.25, id_skip=True, fused_conv=False, conv_type='depthwise'), BlockConfig(input_filters=80, output_filters=112, kernel_size=5, num_repeat=3, expand_ratio=6, strides=(1, 1), se_ratio=0.25, id_skip=True, fused_conv=False, conv_type='depthwise'), BlockConfig(input_filters=112, output_filters=192, kernel_size=5, num_repeat=4, expand_ratio=6, strides=(2, 2), se_ratio=0.25, id_skip=True, fused_conv=False, conv_type='depthwise'), BlockConfig(input_filters=192, output_filters=320, kernel_size=3, num_repeat=1, expand_ratio=6, strides=(1, 1), se_ratio=0.25, id_skip=True, fused_conv=False, conv_type='depthwise')), stem_base_filters=32, top_base_filters=1280, activation='simple_swish', batch_norm='default', bn_momentum=0.99, bn_epsilon=0.001, weight_decay=5e-06, drop_connect_rate=0.2, depth_divisor=8, min_depth=None, use_se=True, input_channels=3, num_classes=1000, model_name='efficientnet', rescale_input=False, data_format='channels_last', dtype='float32')\n",
            "I1013 19:08:45.298574 140072227526528 ssd_efficientnet_bifpn_feature_extractor.py:143] EfficientDet EfficientNet backbone version: efficientnet-b6\n",
            "I1013 19:08:45.298708 140072227526528 ssd_efficientnet_bifpn_feature_extractor.py:144] EfficientDet BiFPN num filters: 384\n",
            "I1013 19:08:45.298760 140072227526528 ssd_efficientnet_bifpn_feature_extractor.py:146] EfficientDet BiFPN num iterations: 8\n",
            "I1013 19:08:45.300258 140072227526528 efficientnet_model.py:147] round_filter input=32 output=56\n",
            "I1013 19:08:45.313759 140072227526528 efficientnet_model.py:147] round_filter input=32 output=56\n",
            "I1013 19:08:45.313856 140072227526528 efficientnet_model.py:147] round_filter input=16 output=32\n",
            "I1013 19:08:45.466876 140072227526528 efficientnet_model.py:147] round_filter input=16 output=32\n",
            "I1013 19:08:45.466995 140072227526528 efficientnet_model.py:147] round_filter input=24 output=40\n",
            "I1013 19:08:45.858057 140072227526528 efficientnet_model.py:147] round_filter input=24 output=40\n",
            "I1013 19:08:45.858229 140072227526528 efficientnet_model.py:147] round_filter input=40 output=72\n",
            "I1013 19:08:46.257637 140072227526528 efficientnet_model.py:147] round_filter input=40 output=72\n",
            "I1013 19:08:46.257789 140072227526528 efficientnet_model.py:147] round_filter input=80 output=144\n",
            "I1013 19:08:46.781184 140072227526528 efficientnet_model.py:147] round_filter input=80 output=144\n",
            "I1013 19:08:46.781346 140072227526528 efficientnet_model.py:147] round_filter input=112 output=200\n",
            "I1013 19:08:47.315396 140072227526528 efficientnet_model.py:147] round_filter input=112 output=200\n",
            "I1013 19:08:47.315575 140072227526528 efficientnet_model.py:147] round_filter input=192 output=344\n",
            "I1013 19:08:48.226786 140072227526528 efficientnet_model.py:147] round_filter input=192 output=344\n",
            "I1013 19:08:48.226953 140072227526528 efficientnet_model.py:147] round_filter input=320 output=576\n",
            "I1013 19:08:48.424164 140072227526528 efficientnet_model.py:147] round_filter input=1280 output=2304\n",
            "I1013 19:08:48.448297 140072227526528 efficientnet_model.py:458] Building model efficientnet with params ModelConfig(width_coefficient=1.8, depth_coefficient=2.6, resolution=528, dropout_rate=0.5, blocks=(BlockConfig(input_filters=32, output_filters=16, kernel_size=3, num_repeat=1, expand_ratio=1, strides=(1, 1), se_ratio=0.25, id_skip=True, fused_conv=False, conv_type='depthwise'), BlockConfig(input_filters=16, output_filters=24, kernel_size=3, num_repeat=2, expand_ratio=6, strides=(2, 2), se_ratio=0.25, id_skip=True, fused_conv=False, conv_type='depthwise'), BlockConfig(input_filters=24, output_filters=40, kernel_size=5, num_repeat=2, expand_ratio=6, strides=(2, 2), se_ratio=0.25, id_skip=True, fused_conv=False, conv_type='depthwise'), BlockConfig(input_filters=40, output_filters=80, kernel_size=3, num_repeat=3, expand_ratio=6, strides=(2, 2), se_ratio=0.25, id_skip=True, fused_conv=False, conv_type='depthwise'), BlockConfig(input_filters=80, output_filters=112, kernel_size=5, num_repeat=3, expand_ratio=6, strides=(1, 1), se_ratio=0.25, id_skip=True, fused_conv=False, conv_type='depthwise'), BlockConfig(input_filters=112, output_filters=192, kernel_size=5, num_repeat=4, expand_ratio=6, strides=(2, 2), se_ratio=0.25, id_skip=True, fused_conv=False, conv_type='depthwise'), BlockConfig(input_filters=192, output_filters=320, kernel_size=3, num_repeat=1, expand_ratio=6, strides=(1, 1), se_ratio=0.25, id_skip=True, fused_conv=False, conv_type='depthwise')), stem_base_filters=32, top_base_filters=1280, activation='simple_swish', batch_norm='default', bn_momentum=0.99, bn_epsilon=0.001, weight_decay=5e-06, drop_connect_rate=0.2, depth_divisor=8, min_depth=None, use_se=True, input_channels=3, num_classes=1000, model_name='efficientnet', rescale_input=False, data_format='channels_last', dtype='float32')\n",
            "I1013 19:08:48.541958 140072227526528 ssd_efficientnet_bifpn_feature_extractor.py:143] EfficientDet EfficientNet backbone version: efficientnet-b7\n",
            "I1013 19:08:48.542085 140072227526528 ssd_efficientnet_bifpn_feature_extractor.py:144] EfficientDet BiFPN num filters: 384\n",
            "I1013 19:08:48.542138 140072227526528 ssd_efficientnet_bifpn_feature_extractor.py:146] EfficientDet BiFPN num iterations: 8\n",
            "I1013 19:08:48.543580 140072227526528 efficientnet_model.py:147] round_filter input=32 output=64\n",
            "I1013 19:08:48.556443 140072227526528 efficientnet_model.py:147] round_filter input=32 output=64\n",
            "I1013 19:08:48.556558 140072227526528 efficientnet_model.py:147] round_filter input=16 output=32\n",
            "I1013 19:08:48.767064 140072227526528 efficientnet_model.py:147] round_filter input=16 output=32\n",
            "I1013 19:08:48.767204 140072227526528 efficientnet_model.py:147] round_filter input=24 output=48\n",
            "I1013 19:08:49.231123 140072227526528 efficientnet_model.py:147] round_filter input=24 output=48\n",
            "I1013 19:08:49.231275 140072227526528 efficientnet_model.py:147] round_filter input=40 output=80\n",
            "I1013 19:08:49.695976 140072227526528 efficientnet_model.py:147] round_filter input=40 output=80\n",
            "I1013 19:08:49.696128 140072227526528 efficientnet_model.py:147] round_filter input=80 output=160\n",
            "I1013 19:08:50.338837 140072227526528 efficientnet_model.py:147] round_filter input=80 output=160\n",
            "I1013 19:08:50.338994 140072227526528 efficientnet_model.py:147] round_filter input=112 output=224\n",
            "I1013 19:08:50.978383 140072227526528 efficientnet_model.py:147] round_filter input=112 output=224\n",
            "I1013 19:08:50.978563 140072227526528 efficientnet_model.py:147] round_filter input=192 output=384\n",
            "I1013 19:08:51.819617 140072227526528 efficientnet_model.py:147] round_filter input=192 output=384\n",
            "I1013 19:08:51.819772 140072227526528 efficientnet_model.py:147] round_filter input=320 output=640\n",
            "I1013 19:08:52.296585 140072227526528 efficientnet_model.py:147] round_filter input=1280 output=2560\n",
            "I1013 19:08:52.320942 140072227526528 efficientnet_model.py:458] Building model efficientnet with params ModelConfig(width_coefficient=2.0, depth_coefficient=3.1, resolution=600, dropout_rate=0.5, blocks=(BlockConfig(input_filters=32, output_filters=16, kernel_size=3, num_repeat=1, expand_ratio=1, strides=(1, 1), se_ratio=0.25, id_skip=True, fused_conv=False, conv_type='depthwise'), BlockConfig(input_filters=16, output_filters=24, kernel_size=3, num_repeat=2, expand_ratio=6, strides=(2, 2), se_ratio=0.25, id_skip=True, fused_conv=False, conv_type='depthwise'), BlockConfig(input_filters=24, output_filters=40, kernel_size=5, num_repeat=2, expand_ratio=6, strides=(2, 2), se_ratio=0.25, id_skip=True, fused_conv=False, conv_type='depthwise'), BlockConfig(input_filters=40, output_filters=80, kernel_size=3, num_repeat=3, expand_ratio=6, strides=(2, 2), se_ratio=0.25, id_skip=True, fused_conv=False, conv_type='depthwise'), BlockConfig(input_filters=80, output_filters=112, kernel_size=5, num_repeat=3, expand_ratio=6, strides=(1, 1), se_ratio=0.25, id_skip=True, fused_conv=False, conv_type='depthwise'), BlockConfig(input_filters=112, output_filters=192, kernel_size=5, num_repeat=4, expand_ratio=6, strides=(2, 2), se_ratio=0.25, id_skip=True, fused_conv=False, conv_type='depthwise'), BlockConfig(input_filters=192, output_filters=320, kernel_size=3, num_repeat=1, expand_ratio=6, strides=(1, 1), se_ratio=0.25, id_skip=True, fused_conv=False, conv_type='depthwise')), stem_base_filters=32, top_base_filters=1280, activation='simple_swish', batch_norm='default', bn_momentum=0.99, bn_epsilon=0.001, weight_decay=5e-06, drop_connect_rate=0.2, depth_divisor=8, min_depth=None, use_se=True, input_channels=3, num_classes=1000, model_name='efficientnet', rescale_input=False, data_format='channels_last', dtype='float32')\n",
            "INFO:tensorflow:time(__main__.ModelBuilderTF2Test.test_create_ssd_models_from_config): 18.84s\n",
            "I1013 19:08:52.432271 140072227526528 test_util.py:2189] time(__main__.ModelBuilderTF2Test.test_create_ssd_models_from_config): 18.84s\n",
            "[       OK ] ModelBuilderTF2Test.test_create_ssd_models_from_config\n",
            "[ RUN      ] ModelBuilderTF2Test.test_invalid_faster_rcnn_batchnorm_update\n",
            "INFO:tensorflow:time(__main__.ModelBuilderTF2Test.test_invalid_faster_rcnn_batchnorm_update): 0.0s\n",
            "I1013 19:08:52.438532 140072227526528 test_util.py:2189] time(__main__.ModelBuilderTF2Test.test_invalid_faster_rcnn_batchnorm_update): 0.0s\n",
            "[       OK ] ModelBuilderTF2Test.test_invalid_faster_rcnn_batchnorm_update\n",
            "[ RUN      ] ModelBuilderTF2Test.test_invalid_first_stage_nms_iou_threshold\n",
            "INFO:tensorflow:time(__main__.ModelBuilderTF2Test.test_invalid_first_stage_nms_iou_threshold): 0.0s\n",
            "I1013 19:08:52.440021 140072227526528 test_util.py:2189] time(__main__.ModelBuilderTF2Test.test_invalid_first_stage_nms_iou_threshold): 0.0s\n",
            "[       OK ] ModelBuilderTF2Test.test_invalid_first_stage_nms_iou_threshold\n",
            "[ RUN      ] ModelBuilderTF2Test.test_invalid_model_config_proto\n",
            "INFO:tensorflow:time(__main__.ModelBuilderTF2Test.test_invalid_model_config_proto): 0.0s\n",
            "I1013 19:08:52.440459 140072227526528 test_util.py:2189] time(__main__.ModelBuilderTF2Test.test_invalid_model_config_proto): 0.0s\n",
            "[       OK ] ModelBuilderTF2Test.test_invalid_model_config_proto\n",
            "[ RUN      ] ModelBuilderTF2Test.test_invalid_second_stage_batch_size\n",
            "INFO:tensorflow:time(__main__.ModelBuilderTF2Test.test_invalid_second_stage_batch_size): 0.0s\n",
            "I1013 19:08:52.441837 140072227526528 test_util.py:2189] time(__main__.ModelBuilderTF2Test.test_invalid_second_stage_batch_size): 0.0s\n",
            "[       OK ] ModelBuilderTF2Test.test_invalid_second_stage_batch_size\n",
            "[ RUN      ] ModelBuilderTF2Test.test_session\n",
            "[  SKIPPED ] ModelBuilderTF2Test.test_session\n",
            "[ RUN      ] ModelBuilderTF2Test.test_unknown_faster_rcnn_feature_extractor\n",
            "INFO:tensorflow:time(__main__.ModelBuilderTF2Test.test_unknown_faster_rcnn_feature_extractor): 0.0s\n",
            "I1013 19:08:52.443037 140072227526528 test_util.py:2189] time(__main__.ModelBuilderTF2Test.test_unknown_faster_rcnn_feature_extractor): 0.0s\n",
            "[       OK ] ModelBuilderTF2Test.test_unknown_faster_rcnn_feature_extractor\n",
            "[ RUN      ] ModelBuilderTF2Test.test_unknown_meta_architecture\n",
            "INFO:tensorflow:time(__main__.ModelBuilderTF2Test.test_unknown_meta_architecture): 0.0s\n",
            "I1013 19:08:52.443401 140072227526528 test_util.py:2189] time(__main__.ModelBuilderTF2Test.test_unknown_meta_architecture): 0.0s\n",
            "[       OK ] ModelBuilderTF2Test.test_unknown_meta_architecture\n",
            "[ RUN      ] ModelBuilderTF2Test.test_unknown_ssd_feature_extractor\n",
            "INFO:tensorflow:time(__main__.ModelBuilderTF2Test.test_unknown_ssd_feature_extractor): 0.0s\n",
            "I1013 19:08:52.444294 140072227526528 test_util.py:2189] time(__main__.ModelBuilderTF2Test.test_unknown_ssd_feature_extractor): 0.0s\n",
            "[       OK ] ModelBuilderTF2Test.test_unknown_ssd_feature_extractor\n",
            "----------------------------------------------------------------------\n",
            "Ran 24 tests in 25.377s\n",
            "\n",
            "OK (skipped=1)\n"
          ]
        }
      ]
    },
    {
      "cell_type": "code",
      "metadata": {
        "id": "oHriACykxrin",
        "colab": {
          "base_uri": "https://localhost:8080/"
        },
        "outputId": "0b74da4e-02b5-49b1-e91b-dddc8d2480b1"
      },
      "source": [
        "cd .."
      ],
      "execution_count": null,
      "outputs": [
        {
          "output_type": "stream",
          "name": "stdout",
          "text": [
            "/content/models\n"
          ]
        }
      ]
    },
    {
      "cell_type": "code",
      "metadata": {
        "id": "w5MRuSrqxyIe",
        "colab": {
          "base_uri": "https://localhost:8080/"
        },
        "outputId": "e36009ec-5b40-4348-a027-8b6a7c0594a8"
      },
      "source": [
        "cd .."
      ],
      "execution_count": null,
      "outputs": [
        {
          "output_type": "stream",
          "name": "stdout",
          "text": [
            "/content\n"
          ]
        }
      ]
    },
    {
      "cell_type": "code",
      "metadata": {
        "id": "YrIkeGA3l0Em"
      },
      "source": [
        "mkdir training_demo"
      ],
      "execution_count": null,
      "outputs": []
    },
    {
      "cell_type": "code",
      "metadata": {
        "id": "b5FqcKMUxzp9",
        "colab": {
          "base_uri": "https://localhost:8080/"
        },
        "outputId": "6947e00f-2db8-4d85-9fbc-ef554f8a05f3"
      },
      "source": [
        "cd /content/training_demo/pre-trained-models"
      ],
      "execution_count": null,
      "outputs": [
        {
          "output_type": "stream",
          "name": "stdout",
          "text": [
            "/content/training_demo/pre-trained-models\n"
          ]
        }
      ]
    },
    {
      "cell_type": "code",
      "metadata": {
        "id": "506Y3cI4x1rS",
        "colab": {
          "base_uri": "https://localhost:8080/"
        },
        "outputId": "4e8b4295-1a2a-4683-f3a6-2bbd1b618503"
      },
      "source": [
        "!wget http://download.tensorflow.org/models/object_detection/tf2/20200711/ssd_mobilenet_v2_fpnlite_640x640_coco17_tpu-8.tar.gz"
      ],
      "execution_count": null,
      "outputs": [
        {
          "output_type": "stream",
          "name": "stdout",
          "text": [
            "--2021-10-13 19:10:42--  http://download.tensorflow.org/models/object_detection/tf2/20200711/ssd_mobilenet_v2_fpnlite_640x640_coco17_tpu-8.tar.gz\n",
            "Resolving download.tensorflow.org (download.tensorflow.org)... 74.125.142.128, 2607:f8b0:400e:c09::80\n",
            "Connecting to download.tensorflow.org (download.tensorflow.org)|74.125.142.128|:80... connected.\n",
            "HTTP request sent, awaiting response... 200 OK\n",
            "Length: 20518283 (20M) [application/x-tar]\n",
            "Saving to: ‘ssd_mobilenet_v2_fpnlite_640x640_coco17_tpu-8.tar.gz’\n",
            "\n",
            "ssd_mobilenet_v2_fp 100%[===================>]  19.57M   109MB/s    in 0.2s    \n",
            "\n",
            "2021-10-13 19:10:42 (109 MB/s) - ‘ssd_mobilenet_v2_fpnlite_640x640_coco17_tpu-8.tar.gz’ saved [20518283/20518283]\n",
            "\n"
          ]
        }
      ]
    },
    {
      "cell_type": "code",
      "metadata": {
        "id": "DyYFmx4Dx3Q2",
        "colab": {
          "base_uri": "https://localhost:8080/"
        },
        "outputId": "bf5ed252-87cc-4bbe-fef1-98cd2a6772e3"
      },
      "source": [
        "!tar -xvf ssd_mobilenet_v2_fpnlite_640x640_coco17_tpu-8.tar.gz"
      ],
      "execution_count": null,
      "outputs": [
        {
          "output_type": "stream",
          "name": "stdout",
          "text": [
            "ssd_mobilenet_v2_fpnlite_640x640_coco17_tpu-8/\n",
            "ssd_mobilenet_v2_fpnlite_640x640_coco17_tpu-8/checkpoint/\n",
            "ssd_mobilenet_v2_fpnlite_640x640_coco17_tpu-8/checkpoint/ckpt-0.data-00000-of-00001\n",
            "ssd_mobilenet_v2_fpnlite_640x640_coco17_tpu-8/checkpoint/checkpoint\n",
            "ssd_mobilenet_v2_fpnlite_640x640_coco17_tpu-8/checkpoint/ckpt-0.index\n",
            "ssd_mobilenet_v2_fpnlite_640x640_coco17_tpu-8/pipeline.config\n",
            "ssd_mobilenet_v2_fpnlite_640x640_coco17_tpu-8/saved_model/\n",
            "ssd_mobilenet_v2_fpnlite_640x640_coco17_tpu-8/saved_model/saved_model.pb\n",
            "ssd_mobilenet_v2_fpnlite_640x640_coco17_tpu-8/saved_model/variables/\n",
            "ssd_mobilenet_v2_fpnlite_640x640_coco17_tpu-8/saved_model/variables/variables.data-00000-of-00001\n",
            "ssd_mobilenet_v2_fpnlite_640x640_coco17_tpu-8/saved_model/variables/variables.index\n"
          ]
        }
      ]
    },
    {
      "cell_type": "code",
      "metadata": {
        "id": "UB21NrpUx42A",
        "colab": {
          "base_uri": "https://localhost:8080/",
          "height": 35
        },
        "outputId": "a3bb7e6c-4bde-4305-d471-9d746e9d83d6"
      },
      "source": [
        "pwd"
      ],
      "execution_count": null,
      "outputs": [
        {
          "output_type": "execute_result",
          "data": {
            "application/vnd.google.colaboratory.intrinsic+json": {
              "type": "string"
            },
            "text/plain": [
              "'/content/training_demo/pre-trained-models'"
            ]
          },
          "metadata": {},
          "execution_count": 27
        }
      ]
    },
    {
      "cell_type": "code",
      "metadata": {
        "id": "79TPyoGLx6Ph",
        "colab": {
          "base_uri": "https://localhost:8080/"
        },
        "outputId": "c29ce596-58a2-4198-bae3-154bf5bd20b0"
      },
      "source": [
        "cd /content/training_demo"
      ],
      "execution_count": null,
      "outputs": [
        {
          "output_type": "stream",
          "name": "stdout",
          "text": [
            "/content/training_demo\n"
          ]
        }
      ]
    },
    {
      "cell_type": "markdown",
      "metadata": {
        "id": "hH9nsaw3yDM-"
      },
      "source": [
        "## Train the Detector"
      ]
    },
    {
      "cell_type": "code",
      "metadata": {
        "id": "dINEarXRx8zn",
        "colab": {
          "base_uri": "https://localhost:8080/"
        },
        "collapsed": true,
        "outputId": "b4e7185a-c785-45d5-b7b6-ddc8911450c6"
      },
      "source": [
        "!python model_main_tf2.py --model_dir=/content/training_demo/models/ssd_mobilenet_v2_fpnlite_640x640_coco17_tpu-8 --pipeline_config_path=/content/training_demo/models/ssd_mobilenet_v2_fpnlite_640x640_coco17_tpu-8/pipeline.config"
      ],
      "execution_count": null,
      "outputs": [
        {
          "output_type": "stream",
          "name": "stdout",
          "text": [
            "2021-10-13 19:17:27.251961: I tensorflow/stream_executor/cuda/cuda_gpu_executor.cc:937] successful NUMA node read from SysFS had negative value (-1), but there must be at least one NUMA node, so returning NUMA node zero\n",
            "2021-10-13 19:17:27.260798: I tensorflow/stream_executor/cuda/cuda_gpu_executor.cc:937] successful NUMA node read from SysFS had negative value (-1), but there must be at least one NUMA node, so returning NUMA node zero\n",
            "2021-10-13 19:17:27.261413: I tensorflow/stream_executor/cuda/cuda_gpu_executor.cc:937] successful NUMA node read from SysFS had negative value (-1), but there must be at least one NUMA node, so returning NUMA node zero\n",
            "2021-10-13 19:17:27.262770: I tensorflow/stream_executor/cuda/cuda_gpu_executor.cc:937] successful NUMA node read from SysFS had negative value (-1), but there must be at least one NUMA node, so returning NUMA node zero\n",
            "2021-10-13 19:17:27.263367: I tensorflow/stream_executor/cuda/cuda_gpu_executor.cc:937] successful NUMA node read from SysFS had negative value (-1), but there must be at least one NUMA node, so returning NUMA node zero\n",
            "2021-10-13 19:17:27.263971: I tensorflow/stream_executor/cuda/cuda_gpu_executor.cc:937] successful NUMA node read from SysFS had negative value (-1), but there must be at least one NUMA node, so returning NUMA node zero\n",
            "2021-10-13 19:17:27.848402: I tensorflow/stream_executor/cuda/cuda_gpu_executor.cc:937] successful NUMA node read from SysFS had negative value (-1), but there must be at least one NUMA node, so returning NUMA node zero\n",
            "2021-10-13 19:17:27.849076: I tensorflow/stream_executor/cuda/cuda_gpu_executor.cc:937] successful NUMA node read from SysFS had negative value (-1), but there must be at least one NUMA node, so returning NUMA node zero\n",
            "2021-10-13 19:17:27.849657: I tensorflow/stream_executor/cuda/cuda_gpu_executor.cc:937] successful NUMA node read from SysFS had negative value (-1), but there must be at least one NUMA node, so returning NUMA node zero\n",
            "2021-10-13 19:17:27.850188: W tensorflow/core/common_runtime/gpu/gpu_bfc_allocator.cc:39] Overriding allow_growth setting because the TF_FORCE_GPU_ALLOW_GROWTH environment variable is set. Original config value was 0.\n",
            "2021-10-13 19:17:27.850237: I tensorflow/core/common_runtime/gpu/gpu_device.cc:1510] Created device /job:localhost/replica:0/task:0/device:GPU:0 with 15435 MB memory:  -> device: 0, name: Tesla P100-PCIE-16GB, pci bus id: 0000:00:04.0, compute capability: 6.0\n",
            "INFO:tensorflow:Using MirroredStrategy with devices ('/job:localhost/replica:0/task:0/device:GPU:0',)\n",
            "I1013 19:17:27.854832 139810608101248 mirrored_strategy.py:369] Using MirroredStrategy with devices ('/job:localhost/replica:0/task:0/device:GPU:0',)\n",
            "INFO:tensorflow:Maybe overwriting train_steps: None\n",
            "I1013 19:17:27.858530 139810608101248 config_util.py:552] Maybe overwriting train_steps: None\n",
            "INFO:tensorflow:Maybe overwriting use_bfloat16: False\n",
            "I1013 19:17:27.858683 139810608101248 config_util.py:552] Maybe overwriting use_bfloat16: False\n",
            "WARNING:tensorflow:From /usr/local/lib/python3.7/dist-packages/object_detection/model_lib_v2.py:558: StrategyBase.experimental_distribute_datasets_from_function (from tensorflow.python.distribute.distribute_lib) is deprecated and will be removed in a future version.\n",
            "Instructions for updating:\n",
            "rename to distribute_datasets_from_function\n",
            "W1013 19:17:27.970599 139810608101248 deprecation.py:345] From /usr/local/lib/python3.7/dist-packages/object_detection/model_lib_v2.py:558: StrategyBase.experimental_distribute_datasets_from_function (from tensorflow.python.distribute.distribute_lib) is deprecated and will be removed in a future version.\n",
            "Instructions for updating:\n",
            "rename to distribute_datasets_from_function\n",
            "INFO:tensorflow:Reading unweighted datasets: ['/content/training_demo/annotations/train.tfrecord']\n",
            "I1013 19:17:27.974306 139810608101248 dataset_builder.py:163] Reading unweighted datasets: ['/content/training_demo/annotations/train.tfrecord']\n",
            "INFO:tensorflow:Reading record datasets for input file: ['/content/training_demo/annotations/train.tfrecord']\n",
            "I1013 19:17:27.974485 139810608101248 dataset_builder.py:80] Reading record datasets for input file: ['/content/training_demo/annotations/train.tfrecord']\n",
            "INFO:tensorflow:Number of filenames to read: 1\n",
            "I1013 19:17:27.974568 139810608101248 dataset_builder.py:81] Number of filenames to read: 1\n",
            "WARNING:tensorflow:num_readers has been reduced to 1 to match input file shards.\n",
            "W1013 19:17:27.974631 139810608101248 dataset_builder.py:88] num_readers has been reduced to 1 to match input file shards.\n",
            "WARNING:tensorflow:From /usr/local/lib/python3.7/dist-packages/object_detection/builders/dataset_builder.py:105: parallel_interleave (from tensorflow.python.data.experimental.ops.interleave_ops) is deprecated and will be removed in a future version.\n",
            "Instructions for updating:\n",
            "Use `tf.data.Dataset.interleave(map_func, cycle_length, block_length, num_parallel_calls=tf.data.AUTOTUNE)` instead. If sloppy execution is desired, use `tf.data.Options.experimental_deterministic`.\n",
            "W1013 19:17:27.976605 139810608101248 deprecation.py:345] From /usr/local/lib/python3.7/dist-packages/object_detection/builders/dataset_builder.py:105: parallel_interleave (from tensorflow.python.data.experimental.ops.interleave_ops) is deprecated and will be removed in a future version.\n",
            "Instructions for updating:\n",
            "Use `tf.data.Dataset.interleave(map_func, cycle_length, block_length, num_parallel_calls=tf.data.AUTOTUNE)` instead. If sloppy execution is desired, use `tf.data.Options.experimental_deterministic`.\n",
            "WARNING:tensorflow:From /usr/local/lib/python3.7/dist-packages/object_detection/builders/dataset_builder.py:237: DatasetV1.map_with_legacy_function (from tensorflow.python.data.ops.dataset_ops) is deprecated and will be removed in a future version.\n",
            "Instructions for updating:\n",
            "Use `tf.data.Dataset.map()\n",
            "W1013 19:17:27.994400 139810608101248 deprecation.py:345] From /usr/local/lib/python3.7/dist-packages/object_detection/builders/dataset_builder.py:237: DatasetV1.map_with_legacy_function (from tensorflow.python.data.ops.dataset_ops) is deprecated and will be removed in a future version.\n",
            "Instructions for updating:\n",
            "Use `tf.data.Dataset.map()\n",
            "WARNING:tensorflow:From /usr/local/lib/python3.7/dist-packages/tensorflow/python/util/dispatch.py:206: sparse_to_dense (from tensorflow.python.ops.sparse_ops) is deprecated and will be removed in a future version.\n",
            "Instructions for updating:\n",
            "Create a `tf.sparse.SparseTensor` and use `tf.sparse.to_dense` instead.\n",
            "W1013 19:17:34.820803 139810608101248 deprecation.py:345] From /usr/local/lib/python3.7/dist-packages/tensorflow/python/util/dispatch.py:206: sparse_to_dense (from tensorflow.python.ops.sparse_ops) is deprecated and will be removed in a future version.\n",
            "Instructions for updating:\n",
            "Create a `tf.sparse.SparseTensor` and use `tf.sparse.to_dense` instead.\n",
            "WARNING:tensorflow:From /usr/local/lib/python3.7/dist-packages/tensorflow/python/util/dispatch.py:206: sample_distorted_bounding_box (from tensorflow.python.ops.image_ops_impl) is deprecated and will be removed in a future version.\n",
            "Instructions for updating:\n",
            "`seed2` arg is deprecated.Use sample_distorted_bounding_box_v2 instead.\n",
            "W1013 19:17:37.817489 139810608101248 deprecation.py:345] From /usr/local/lib/python3.7/dist-packages/tensorflow/python/util/dispatch.py:206: sample_distorted_bounding_box (from tensorflow.python.ops.image_ops_impl) is deprecated and will be removed in a future version.\n",
            "Instructions for updating:\n",
            "`seed2` arg is deprecated.Use sample_distorted_bounding_box_v2 instead.\n",
            "WARNING:tensorflow:From /usr/local/lib/python3.7/dist-packages/tensorflow/python/autograph/impl/api.py:464: to_float (from tensorflow.python.ops.math_ops) is deprecated and will be removed in a future version.\n",
            "Instructions for updating:\n",
            "Use `tf.cast` instead.\n",
            "W1013 19:17:39.357812 139810608101248 deprecation.py:345] From /usr/local/lib/python3.7/dist-packages/tensorflow/python/autograph/impl/api.py:464: to_float (from tensorflow.python.ops.math_ops) is deprecated and will be removed in a future version.\n",
            "Instructions for updating:\n",
            "Use `tf.cast` instead.\n",
            "2021-10-13 19:17:41.480403: I tensorflow/compiler/mlir/mlir_graph_optimization_pass.cc:185] None of the MLIR Optimization Passes are enabled (registered 2)\n",
            "/usr/local/lib/python3.7/dist-packages/keras/backend.py:401: UserWarning: `tf.keras.backend.set_learning_phase` is deprecated and will be removed after 2020-10-11. To update it, simply pass a True/False value to the `training` argument of the `__call__` method of your layer or model.\n",
            "  warnings.warn('`tf.keras.backend.set_learning_phase` is deprecated and '\n",
            "2021-10-13 19:18:01.082879: I tensorflow/stream_executor/cuda/cuda_dnn.cc:369] Loaded cuDNN version 8005\n",
            "INFO:tensorflow:Reduce to /job:localhost/replica:0/task:0/device:CPU:0 then broadcast to ('/job:localhost/replica:0/task:0/device:CPU:0',).\n",
            "I1013 19:18:16.345612 139810608101248 cross_device_ops.py:621] Reduce to /job:localhost/replica:0/task:0/device:CPU:0 then broadcast to ('/job:localhost/replica:0/task:0/device:CPU:0',).\n",
            "INFO:tensorflow:Reduce to /job:localhost/replica:0/task:0/device:CPU:0 then broadcast to ('/job:localhost/replica:0/task:0/device:CPU:0',).\n",
            "I1013 19:18:16.346636 139810608101248 cross_device_ops.py:621] Reduce to /job:localhost/replica:0/task:0/device:CPU:0 then broadcast to ('/job:localhost/replica:0/task:0/device:CPU:0',).\n",
            "INFO:tensorflow:Reduce to /job:localhost/replica:0/task:0/device:CPU:0 then broadcast to ('/job:localhost/replica:0/task:0/device:CPU:0',).\n",
            "I1013 19:18:16.348431 139810608101248 cross_device_ops.py:621] Reduce to /job:localhost/replica:0/task:0/device:CPU:0 then broadcast to ('/job:localhost/replica:0/task:0/device:CPU:0',).\n",
            "INFO:tensorflow:Reduce to /job:localhost/replica:0/task:0/device:CPU:0 then broadcast to ('/job:localhost/replica:0/task:0/device:CPU:0',).\n",
            "I1013 19:18:16.349225 139810608101248 cross_device_ops.py:621] Reduce to /job:localhost/replica:0/task:0/device:CPU:0 then broadcast to ('/job:localhost/replica:0/task:0/device:CPU:0',).\n",
            "INFO:tensorflow:Reduce to /job:localhost/replica:0/task:0/device:CPU:0 then broadcast to ('/job:localhost/replica:0/task:0/device:CPU:0',).\n",
            "I1013 19:18:16.350920 139810608101248 cross_device_ops.py:621] Reduce to /job:localhost/replica:0/task:0/device:CPU:0 then broadcast to ('/job:localhost/replica:0/task:0/device:CPU:0',).\n",
            "INFO:tensorflow:Reduce to /job:localhost/replica:0/task:0/device:CPU:0 then broadcast to ('/job:localhost/replica:0/task:0/device:CPU:0',).\n",
            "I1013 19:18:16.351714 139810608101248 cross_device_ops.py:621] Reduce to /job:localhost/replica:0/task:0/device:CPU:0 then broadcast to ('/job:localhost/replica:0/task:0/device:CPU:0',).\n",
            "INFO:tensorflow:Reduce to /job:localhost/replica:0/task:0/device:CPU:0 then broadcast to ('/job:localhost/replica:0/task:0/device:CPU:0',).\n",
            "I1013 19:18:16.353423 139810608101248 cross_device_ops.py:621] Reduce to /job:localhost/replica:0/task:0/device:CPU:0 then broadcast to ('/job:localhost/replica:0/task:0/device:CPU:0',).\n",
            "INFO:tensorflow:Reduce to /job:localhost/replica:0/task:0/device:CPU:0 then broadcast to ('/job:localhost/replica:0/task:0/device:CPU:0',).\n",
            "I1013 19:18:16.354215 139810608101248 cross_device_ops.py:621] Reduce to /job:localhost/replica:0/task:0/device:CPU:0 then broadcast to ('/job:localhost/replica:0/task:0/device:CPU:0',).\n",
            "INFO:tensorflow:Reduce to /job:localhost/replica:0/task:0/device:CPU:0 then broadcast to ('/job:localhost/replica:0/task:0/device:CPU:0',).\n",
            "I1013 19:18:16.355919 139810608101248 cross_device_ops.py:621] Reduce to /job:localhost/replica:0/task:0/device:CPU:0 then broadcast to ('/job:localhost/replica:0/task:0/device:CPU:0',).\n",
            "INFO:tensorflow:Reduce to /job:localhost/replica:0/task:0/device:CPU:0 then broadcast to ('/job:localhost/replica:0/task:0/device:CPU:0',).\n",
            "I1013 19:18:16.356719 139810608101248 cross_device_ops.py:621] Reduce to /job:localhost/replica:0/task:0/device:CPU:0 then broadcast to ('/job:localhost/replica:0/task:0/device:CPU:0',).\n",
            "WARNING:tensorflow:From /usr/local/lib/python3.7/dist-packages/tensorflow/python/util/deprecation.py:617: calling map_fn_v2 (from tensorflow.python.ops.map_fn) with dtype is deprecated and will be removed in a future version.\n",
            "Instructions for updating:\n",
            "Use fn_output_signature instead\n",
            "W1013 19:18:16.910899 139805668120320 deprecation.py:548] From /usr/local/lib/python3.7/dist-packages/tensorflow/python/util/deprecation.py:617: calling map_fn_v2 (from tensorflow.python.ops.map_fn) with dtype is deprecated and will be removed in a future version.\n",
            "Instructions for updating:\n",
            "Use fn_output_signature instead\n",
            "INFO:tensorflow:Step 100 per-step time 0.717s\n",
            "I1013 19:19:28.231611 139810608101248 model_lib_v2.py:700] Step 100 per-step time 0.717s\n",
            "INFO:tensorflow:{'Loss/classification_loss': 0.4710381,\n",
            " 'Loss/localization_loss': 0.45182136,\n",
            " 'Loss/regularization_loss': 0.15234353,\n",
            " 'Loss/total_loss': 1.075203,\n",
            " 'learning_rate': 0.0319994}\n",
            "I1013 19:19:28.231913 139810608101248 model_lib_v2.py:701] {'Loss/classification_loss': 0.4710381,\n",
            " 'Loss/localization_loss': 0.45182136,\n",
            " 'Loss/regularization_loss': 0.15234353,\n",
            " 'Loss/total_loss': 1.075203,\n",
            " 'learning_rate': 0.0319994}\n",
            "INFO:tensorflow:Step 200 per-step time 0.413s\n",
            "I1013 19:20:09.564736 139810608101248 model_lib_v2.py:700] Step 200 per-step time 0.413s\n",
            "INFO:tensorflow:{'Loss/classification_loss': 0.39290428,\n",
            " 'Loss/localization_loss': 0.34196833,\n",
            " 'Loss/regularization_loss': 0.15293455,\n",
            " 'Loss/total_loss': 0.88780713,\n",
            " 'learning_rate': 0.0373328}\n",
            "I1013 19:20:09.565066 139810608101248 model_lib_v2.py:701] {'Loss/classification_loss': 0.39290428,\n",
            " 'Loss/localization_loss': 0.34196833,\n",
            " 'Loss/regularization_loss': 0.15293455,\n",
            " 'Loss/total_loss': 0.88780713,\n",
            " 'learning_rate': 0.0373328}\n",
            "INFO:tensorflow:Step 300 per-step time 0.414s\n",
            "I1013 19:20:50.950059 139810608101248 model_lib_v2.py:700] Step 300 per-step time 0.414s\n",
            "INFO:tensorflow:{'Loss/classification_loss': 0.39126664,\n",
            " 'Loss/localization_loss': 0.40071478,\n",
            " 'Loss/regularization_loss': 0.15316835,\n",
            " 'Loss/total_loss': 0.9451498,\n",
            " 'learning_rate': 0.0426662}\n",
            "I1013 19:20:50.950360 139810608101248 model_lib_v2.py:701] {'Loss/classification_loss': 0.39126664,\n",
            " 'Loss/localization_loss': 0.40071478,\n",
            " 'Loss/regularization_loss': 0.15316835,\n",
            " 'Loss/total_loss': 0.9451498,\n",
            " 'learning_rate': 0.0426662}\n",
            "INFO:tensorflow:Step 400 per-step time 0.416s\n",
            "I1013 19:21:32.499433 139810608101248 model_lib_v2.py:700] Step 400 per-step time 0.416s\n",
            "INFO:tensorflow:{'Loss/classification_loss': 0.27744445,\n",
            " 'Loss/localization_loss': 0.31375104,\n",
            " 'Loss/regularization_loss': 0.15344776,\n",
            " 'Loss/total_loss': 0.7446432,\n",
            " 'learning_rate': 0.047999598}\n",
            "I1013 19:21:32.499737 139810608101248 model_lib_v2.py:701] {'Loss/classification_loss': 0.27744445,\n",
            " 'Loss/localization_loss': 0.31375104,\n",
            " 'Loss/regularization_loss': 0.15344776,\n",
            " 'Loss/total_loss': 0.7446432,\n",
            " 'learning_rate': 0.047999598}\n",
            "INFO:tensorflow:Step 500 per-step time 0.415s\n",
            "I1013 19:22:14.016845 139810608101248 model_lib_v2.py:700] Step 500 per-step time 0.415s\n",
            "INFO:tensorflow:{'Loss/classification_loss': 0.23765257,\n",
            " 'Loss/localization_loss': 0.24301955,\n",
            " 'Loss/regularization_loss': 0.15378219,\n",
            " 'Loss/total_loss': 0.6344543,\n",
            " 'learning_rate': 0.053333}\n",
            "I1013 19:22:14.017132 139810608101248 model_lib_v2.py:701] {'Loss/classification_loss': 0.23765257,\n",
            " 'Loss/localization_loss': 0.24301955,\n",
            " 'Loss/regularization_loss': 0.15378219,\n",
            " 'Loss/total_loss': 0.6344543,\n",
            " 'learning_rate': 0.053333}\n",
            "INFO:tensorflow:Step 600 per-step time 0.414s\n",
            "I1013 19:22:55.434854 139810608101248 model_lib_v2.py:700] Step 600 per-step time 0.414s\n",
            "INFO:tensorflow:{'Loss/classification_loss': 0.31065586,\n",
            " 'Loss/localization_loss': 0.22738147,\n",
            " 'Loss/regularization_loss': 0.15426204,\n",
            " 'Loss/total_loss': 0.69229937,\n",
            " 'learning_rate': 0.0586664}\n",
            "I1013 19:22:55.435128 139810608101248 model_lib_v2.py:701] {'Loss/classification_loss': 0.31065586,\n",
            " 'Loss/localization_loss': 0.22738147,\n",
            " 'Loss/regularization_loss': 0.15426204,\n",
            " 'Loss/total_loss': 0.69229937,\n",
            " 'learning_rate': 0.0586664}\n",
            "INFO:tensorflow:Step 700 per-step time 0.414s\n",
            "I1013 19:23:36.833810 139810608101248 model_lib_v2.py:700] Step 700 per-step time 0.414s\n",
            "INFO:tensorflow:{'Loss/classification_loss': 0.24285659,\n",
            " 'Loss/localization_loss': 0.29550475,\n",
            " 'Loss/regularization_loss': 0.15496843,\n",
            " 'Loss/total_loss': 0.69332975,\n",
            " 'learning_rate': 0.0639998}\n",
            "I1013 19:23:36.834120 139810608101248 model_lib_v2.py:701] {'Loss/classification_loss': 0.24285659,\n",
            " 'Loss/localization_loss': 0.29550475,\n",
            " 'Loss/regularization_loss': 0.15496843,\n",
            " 'Loss/total_loss': 0.69332975,\n",
            " 'learning_rate': 0.0639998}\n",
            "INFO:tensorflow:Step 800 per-step time 0.410s\n",
            "I1013 19:24:17.827533 139810608101248 model_lib_v2.py:700] Step 800 per-step time 0.410s\n",
            "INFO:tensorflow:{'Loss/classification_loss': 0.38984188,\n",
            " 'Loss/localization_loss': 0.30042565,\n",
            " 'Loss/regularization_loss': 0.15532567,\n",
            " 'Loss/total_loss': 0.8455932,\n",
            " 'learning_rate': 0.069333196}\n",
            "I1013 19:24:17.827816 139810608101248 model_lib_v2.py:701] {'Loss/classification_loss': 0.38984188,\n",
            " 'Loss/localization_loss': 0.30042565,\n",
            " 'Loss/regularization_loss': 0.15532567,\n",
            " 'Loss/total_loss': 0.8455932,\n",
            " 'learning_rate': 0.069333196}\n",
            "INFO:tensorflow:Step 900 per-step time 0.415s\n",
            "I1013 19:24:59.331314 139810608101248 model_lib_v2.py:700] Step 900 per-step time 0.415s\n",
            "INFO:tensorflow:{'Loss/classification_loss': 0.3019048,\n",
            " 'Loss/localization_loss': 0.22529946,\n",
            " 'Loss/regularization_loss': 0.15581538,\n",
            " 'Loss/total_loss': 0.68301964,\n",
            " 'learning_rate': 0.074666604}\n",
            "I1013 19:24:59.331645 139810608101248 model_lib_v2.py:701] {'Loss/classification_loss': 0.3019048,\n",
            " 'Loss/localization_loss': 0.22529946,\n",
            " 'Loss/regularization_loss': 0.15581538,\n",
            " 'Loss/total_loss': 0.68301964,\n",
            " 'learning_rate': 0.074666604}\n",
            "INFO:tensorflow:Step 1000 per-step time 0.413s\n",
            "I1013 19:25:40.652215 139810608101248 model_lib_v2.py:700] Step 1000 per-step time 0.413s\n",
            "INFO:tensorflow:{'Loss/classification_loss': 0.28942186,\n",
            " 'Loss/localization_loss': 0.19557042,\n",
            " 'Loss/regularization_loss': 0.15657847,\n",
            " 'Loss/total_loss': 0.64157075,\n",
            " 'learning_rate': 0.08}\n",
            "I1013 19:25:40.652503 139810608101248 model_lib_v2.py:701] {'Loss/classification_loss': 0.28942186,\n",
            " 'Loss/localization_loss': 0.19557042,\n",
            " 'Loss/regularization_loss': 0.15657847,\n",
            " 'Loss/total_loss': 0.64157075,\n",
            " 'learning_rate': 0.08}\n",
            "INFO:tensorflow:Step 1100 per-step time 0.418s\n",
            "I1013 19:26:22.477972 139810608101248 model_lib_v2.py:700] Step 1100 per-step time 0.418s\n",
            "INFO:tensorflow:{'Loss/classification_loss': 0.30935386,\n",
            " 'Loss/localization_loss': 0.1955919,\n",
            " 'Loss/regularization_loss': 0.15699267,\n",
            " 'Loss/total_loss': 0.6619384,\n",
            " 'learning_rate': 0.079945184}\n",
            "I1013 19:26:22.478266 139810608101248 model_lib_v2.py:701] {'Loss/classification_loss': 0.30935386,\n",
            " 'Loss/localization_loss': 0.1955919,\n",
            " 'Loss/regularization_loss': 0.15699267,\n",
            " 'Loss/total_loss': 0.6619384,\n",
            " 'learning_rate': 0.079945184}\n",
            "INFO:tensorflow:Step 1200 per-step time 0.416s\n",
            "I1013 19:27:04.045102 139810608101248 model_lib_v2.py:700] Step 1200 per-step time 0.416s\n",
            "INFO:tensorflow:{'Loss/classification_loss': 0.40937006,\n",
            " 'Loss/localization_loss': 0.1775104,\n",
            " 'Loss/regularization_loss': 0.15757452,\n",
            " 'Loss/total_loss': 0.744455,\n",
            " 'learning_rate': 0.07978087}\n",
            "I1013 19:27:04.045414 139810608101248 model_lib_v2.py:701] {'Loss/classification_loss': 0.40937006,\n",
            " 'Loss/localization_loss': 0.1775104,\n",
            " 'Loss/regularization_loss': 0.15757452,\n",
            " 'Loss/total_loss': 0.744455,\n",
            " 'learning_rate': 0.07978087}\n",
            "INFO:tensorflow:Step 1300 per-step time 0.413s\n",
            "I1013 19:27:45.368236 139810608101248 model_lib_v2.py:700] Step 1300 per-step time 0.413s\n",
            "INFO:tensorflow:{'Loss/classification_loss': 0.16961281,\n",
            " 'Loss/localization_loss': 0.14855245,\n",
            " 'Loss/regularization_loss': 0.15769282,\n",
            " 'Loss/total_loss': 0.47585806,\n",
            " 'learning_rate': 0.07950753}\n",
            "I1013 19:27:45.368500 139810608101248 model_lib_v2.py:701] {'Loss/classification_loss': 0.16961281,\n",
            " 'Loss/localization_loss': 0.14855245,\n",
            " 'Loss/regularization_loss': 0.15769282,\n",
            " 'Loss/total_loss': 0.47585806,\n",
            " 'learning_rate': 0.07950753}\n",
            "INFO:tensorflow:Step 1400 per-step time 0.414s\n",
            "I1013 19:28:26.798232 139810608101248 model_lib_v2.py:700] Step 1400 per-step time 0.414s\n",
            "INFO:tensorflow:{'Loss/classification_loss': 0.3851037,\n",
            " 'Loss/localization_loss': 0.2790965,\n",
            " 'Loss/regularization_loss': 0.15812401,\n",
            " 'Loss/total_loss': 0.8223242,\n",
            " 'learning_rate': 0.0791259}\n",
            "I1013 19:28:26.798508 139810608101248 model_lib_v2.py:701] {'Loss/classification_loss': 0.3851037,\n",
            " 'Loss/localization_loss': 0.2790965,\n",
            " 'Loss/regularization_loss': 0.15812401,\n",
            " 'Loss/total_loss': 0.8223242,\n",
            " 'learning_rate': 0.0791259}\n",
            "INFO:tensorflow:Step 1500 per-step time 0.415s\n",
            "I1013 19:29:08.257008 139810608101248 model_lib_v2.py:700] Step 1500 per-step time 0.415s\n",
            "INFO:tensorflow:{'Loss/classification_loss': 0.194658,\n",
            " 'Loss/localization_loss': 0.14947036,\n",
            " 'Loss/regularization_loss': 0.15824209,\n",
            " 'Loss/total_loss': 0.5023705,\n",
            " 'learning_rate': 0.07863703}\n",
            "I1013 19:29:08.257302 139810608101248 model_lib_v2.py:701] {'Loss/classification_loss': 0.194658,\n",
            " 'Loss/localization_loss': 0.14947036,\n",
            " 'Loss/regularization_loss': 0.15824209,\n",
            " 'Loss/total_loss': 0.5023705,\n",
            " 'learning_rate': 0.07863703}\n",
            "INFO:tensorflow:Step 1600 per-step time 0.413s\n",
            "I1013 19:29:49.540524 139810608101248 model_lib_v2.py:700] Step 1600 per-step time 0.413s\n",
            "INFO:tensorflow:{'Loss/classification_loss': 0.17931458,\n",
            " 'Loss/localization_loss': 0.13127768,\n",
            " 'Loss/regularization_loss': 0.15827082,\n",
            " 'Loss/total_loss': 0.46886307,\n",
            " 'learning_rate': 0.078042254}\n",
            "I1013 19:29:49.540826 139810608101248 model_lib_v2.py:701] {'Loss/classification_loss': 0.17931458,\n",
            " 'Loss/localization_loss': 0.13127768,\n",
            " 'Loss/regularization_loss': 0.15827082,\n",
            " 'Loss/total_loss': 0.46886307,\n",
            " 'learning_rate': 0.078042254}\n",
            "INFO:tensorflow:Step 1700 per-step time 0.415s\n",
            "I1013 19:30:31.065232 139810608101248 model_lib_v2.py:700] Step 1700 per-step time 0.415s\n",
            "INFO:tensorflow:{'Loss/classification_loss': 0.20015451,\n",
            " 'Loss/localization_loss': 0.14314505,\n",
            " 'Loss/regularization_loss': 0.1582184,\n",
            " 'Loss/total_loss': 0.50151795,\n",
            " 'learning_rate': 0.07734321}\n",
            "I1013 19:30:31.065493 139810608101248 model_lib_v2.py:701] {'Loss/classification_loss': 0.20015451,\n",
            " 'Loss/localization_loss': 0.14314505,\n",
            " 'Loss/regularization_loss': 0.1582184,\n",
            " 'Loss/total_loss': 0.50151795,\n",
            " 'learning_rate': 0.07734321}\n",
            "INFO:tensorflow:Step 1800 per-step time 0.415s\n",
            "I1013 19:31:12.610248 139810608101248 model_lib_v2.py:700] Step 1800 per-step time 0.415s\n",
            "INFO:tensorflow:{'Loss/classification_loss': 0.16646154,\n",
            " 'Loss/localization_loss': 0.12596607,\n",
            " 'Loss/regularization_loss': 0.15827604,\n",
            " 'Loss/total_loss': 0.45070362,\n",
            " 'learning_rate': 0.07654182}\n",
            "I1013 19:31:12.610526 139810608101248 model_lib_v2.py:701] {'Loss/classification_loss': 0.16646154,\n",
            " 'Loss/localization_loss': 0.12596607,\n",
            " 'Loss/regularization_loss': 0.15827604,\n",
            " 'Loss/total_loss': 0.45070362,\n",
            " 'learning_rate': 0.07654182}\n",
            "INFO:tensorflow:Step 1900 per-step time 0.416s\n",
            "I1013 19:31:54.212941 139810608101248 model_lib_v2.py:700] Step 1900 per-step time 0.416s\n",
            "INFO:tensorflow:{'Loss/classification_loss': 0.15266025,\n",
            " 'Loss/localization_loss': 0.08933563,\n",
            " 'Loss/regularization_loss': 0.15829751,\n",
            " 'Loss/total_loss': 0.40029338,\n",
            " 'learning_rate': 0.07564025}\n",
            "I1013 19:31:54.213235 139810608101248 model_lib_v2.py:701] {'Loss/classification_loss': 0.15266025,\n",
            " 'Loss/localization_loss': 0.08933563,\n",
            " 'Loss/regularization_loss': 0.15829751,\n",
            " 'Loss/total_loss': 0.40029338,\n",
            " 'learning_rate': 0.07564025}\n",
            "INFO:tensorflow:Step 2000 per-step time 0.415s\n",
            "I1013 19:32:35.662662 139810608101248 model_lib_v2.py:700] Step 2000 per-step time 0.415s\n",
            "INFO:tensorflow:{'Loss/classification_loss': 0.26777717,\n",
            " 'Loss/localization_loss': 0.25218624,\n",
            " 'Loss/regularization_loss': 0.1582818,\n",
            " 'Loss/total_loss': 0.6782452,\n",
            " 'learning_rate': 0.07464102}\n",
            "I1013 19:32:35.662930 139810608101248 model_lib_v2.py:701] {'Loss/classification_loss': 0.26777717,\n",
            " 'Loss/localization_loss': 0.25218624,\n",
            " 'Loss/regularization_loss': 0.1582818,\n",
            " 'Loss/total_loss': 0.6782452,\n",
            " 'learning_rate': 0.07464102}\n",
            "INFO:tensorflow:Step 2100 per-step time 0.418s\n",
            "I1013 19:33:17.489762 139810608101248 model_lib_v2.py:700] Step 2100 per-step time 0.418s\n",
            "INFO:tensorflow:{'Loss/classification_loss': 0.3394441,\n",
            " 'Loss/localization_loss': 0.18010359,\n",
            " 'Loss/regularization_loss': 0.15822616,\n",
            " 'Loss/total_loss': 0.67777383,\n",
            " 'learning_rate': 0.07354682}\n",
            "I1013 19:33:17.490045 139810608101248 model_lib_v2.py:701] {'Loss/classification_loss': 0.3394441,\n",
            " 'Loss/localization_loss': 0.18010359,\n",
            " 'Loss/regularization_loss': 0.15822616,\n",
            " 'Loss/total_loss': 0.67777383,\n",
            " 'learning_rate': 0.07354682}\n",
            "INFO:tensorflow:Step 2200 per-step time 0.415s\n",
            "I1013 19:33:59.000741 139810608101248 model_lib_v2.py:700] Step 2200 per-step time 0.415s\n",
            "INFO:tensorflow:{'Loss/classification_loss': 0.19234161,\n",
            " 'Loss/localization_loss': 0.17723034,\n",
            " 'Loss/regularization_loss': 0.15802674,\n",
            " 'Loss/total_loss': 0.5275987,\n",
            " 'learning_rate': 0.07236068}\n",
            "I1013 19:33:59.001036 139810608101248 model_lib_v2.py:701] {'Loss/classification_loss': 0.19234161,\n",
            " 'Loss/localization_loss': 0.17723034,\n",
            " 'Loss/regularization_loss': 0.15802674,\n",
            " 'Loss/total_loss': 0.5275987,\n",
            " 'learning_rate': 0.07236068}\n",
            "INFO:tensorflow:Step 2300 per-step time 0.414s\n",
            "I1013 19:34:40.351424 139810608101248 model_lib_v2.py:700] Step 2300 per-step time 0.414s\n",
            "INFO:tensorflow:{'Loss/classification_loss': 0.17786632,\n",
            " 'Loss/localization_loss': 0.11801523,\n",
            " 'Loss/regularization_loss': 0.15777919,\n",
            " 'Loss/total_loss': 0.45366076,\n",
            " 'learning_rate': 0.07108584}\n",
            "I1013 19:34:40.351750 139810608101248 model_lib_v2.py:701] {'Loss/classification_loss': 0.17786632,\n",
            " 'Loss/localization_loss': 0.11801523,\n",
            " 'Loss/regularization_loss': 0.15777919,\n",
            " 'Loss/total_loss': 0.45366076,\n",
            " 'learning_rate': 0.07108584}\n",
            "INFO:tensorflow:Step 2400 per-step time 0.414s\n",
            "I1013 19:35:21.768255 139810608101248 model_lib_v2.py:700] Step 2400 per-step time 0.414s\n",
            "INFO:tensorflow:{'Loss/classification_loss': 0.2750376,\n",
            " 'Loss/localization_loss': 0.24466242,\n",
            " 'Loss/regularization_loss': 0.15758678,\n",
            " 'Loss/total_loss': 0.67728674,\n",
            " 'learning_rate': 0.06972579}\n",
            "I1013 19:35:21.768585 139810608101248 model_lib_v2.py:701] {'Loss/classification_loss': 0.2750376,\n",
            " 'Loss/localization_loss': 0.24466242,\n",
            " 'Loss/regularization_loss': 0.15758678,\n",
            " 'Loss/total_loss': 0.67728674,\n",
            " 'learning_rate': 0.06972579}\n",
            "INFO:tensorflow:Step 2500 per-step time 0.415s\n",
            "I1013 19:36:03.296622 139810608101248 model_lib_v2.py:700] Step 2500 per-step time 0.415s\n",
            "INFO:tensorflow:{'Loss/classification_loss': 0.22023642,\n",
            " 'Loss/localization_loss': 0.11394203,\n",
            " 'Loss/regularization_loss': 0.15727828,\n",
            " 'Loss/total_loss': 0.49145675,\n",
            " 'learning_rate': 0.06828427}\n",
            "I1013 19:36:03.296887 139810608101248 model_lib_v2.py:701] {'Loss/classification_loss': 0.22023642,\n",
            " 'Loss/localization_loss': 0.11394203,\n",
            " 'Loss/regularization_loss': 0.15727828,\n",
            " 'Loss/total_loss': 0.49145675,\n",
            " 'learning_rate': 0.06828427}\n",
            "INFO:tensorflow:Step 2600 per-step time 0.416s\n",
            "I1013 19:36:44.855770 139810608101248 model_lib_v2.py:700] Step 2600 per-step time 0.416s\n",
            "INFO:tensorflow:{'Loss/classification_loss': 0.12479077,\n",
            " 'Loss/localization_loss': 0.10507335,\n",
            " 'Loss/regularization_loss': 0.1569696,\n",
            " 'Loss/total_loss': 0.38683373,\n",
            " 'learning_rate': 0.06676522}\n",
            "I1013 19:36:44.856080 139810608101248 model_lib_v2.py:701] {'Loss/classification_loss': 0.12479077,\n",
            " 'Loss/localization_loss': 0.10507335,\n",
            " 'Loss/regularization_loss': 0.1569696,\n",
            " 'Loss/total_loss': 0.38683373,\n",
            " 'learning_rate': 0.06676522}\n",
            "INFO:tensorflow:Step 2700 per-step time 0.416s\n",
            "I1013 19:37:26.438384 139810608101248 model_lib_v2.py:700] Step 2700 per-step time 0.416s\n",
            "INFO:tensorflow:{'Loss/classification_loss': 0.14664404,\n",
            " 'Loss/localization_loss': 0.07187378,\n",
            " 'Loss/regularization_loss': 0.15664184,\n",
            " 'Loss/total_loss': 0.37515965,\n",
            " 'learning_rate': 0.065172814}\n",
            "I1013 19:37:26.438713 139810608101248 model_lib_v2.py:701] {'Loss/classification_loss': 0.14664404,\n",
            " 'Loss/localization_loss': 0.07187378,\n",
            " 'Loss/regularization_loss': 0.15664184,\n",
            " 'Loss/total_loss': 0.37515965,\n",
            " 'learning_rate': 0.065172814}\n",
            "INFO:tensorflow:Step 2800 per-step time 0.415s\n",
            "I1013 19:38:07.980495 139810608101248 model_lib_v2.py:700] Step 2800 per-step time 0.415s\n",
            "INFO:tensorflow:{'Loss/classification_loss': 0.1291542,\n",
            " 'Loss/localization_loss': 0.09065162,\n",
            " 'Loss/regularization_loss': 0.15638104,\n",
            " 'Loss/total_loss': 0.37618685,\n",
            " 'learning_rate': 0.06351141}\n",
            "I1013 19:38:07.980775 139810608101248 model_lib_v2.py:701] {'Loss/classification_loss': 0.1291542,\n",
            " 'Loss/localization_loss': 0.09065162,\n",
            " 'Loss/regularization_loss': 0.15638104,\n",
            " 'Loss/total_loss': 0.37618685,\n",
            " 'learning_rate': 0.06351141}\n",
            "INFO:tensorflow:Step 2900 per-step time 0.415s\n",
            "I1013 19:38:49.441925 139810608101248 model_lib_v2.py:700] Step 2900 per-step time 0.415s\n",
            "INFO:tensorflow:{'Loss/classification_loss': 0.23795943,\n",
            " 'Loss/localization_loss': 0.15727846,\n",
            " 'Loss/regularization_loss': 0.15610346,\n",
            " 'Loss/total_loss': 0.55134135,\n",
            " 'learning_rate': 0.06178556}\n",
            "I1013 19:38:49.442193 139810608101248 model_lib_v2.py:701] {'Loss/classification_loss': 0.23795943,\n",
            " 'Loss/localization_loss': 0.15727846,\n",
            " 'Loss/regularization_loss': 0.15610346,\n",
            " 'Loss/total_loss': 0.55134135,\n",
            " 'learning_rate': 0.06178556}\n",
            "INFO:tensorflow:Step 3000 per-step time 0.415s\n",
            "I1013 19:39:30.935767 139810608101248 model_lib_v2.py:700] Step 3000 per-step time 0.415s\n",
            "INFO:tensorflow:{'Loss/classification_loss': 0.12367968,\n",
            " 'Loss/localization_loss': 0.10363029,\n",
            " 'Loss/regularization_loss': 0.15578942,\n",
            " 'Loss/total_loss': 0.38309938,\n",
            " 'learning_rate': 0.06}\n",
            "I1013 19:39:30.936058 139810608101248 model_lib_v2.py:701] {'Loss/classification_loss': 0.12367968,\n",
            " 'Loss/localization_loss': 0.10363029,\n",
            " 'Loss/regularization_loss': 0.15578942,\n",
            " 'Loss/total_loss': 0.38309938,\n",
            " 'learning_rate': 0.06}\n",
            "INFO:tensorflow:Step 3100 per-step time 0.418s\n",
            "I1013 19:40:12.752058 139810608101248 model_lib_v2.py:700] Step 3100 per-step time 0.418s\n",
            "INFO:tensorflow:{'Loss/classification_loss': 0.15429258,\n",
            " 'Loss/localization_loss': 0.10886359,\n",
            " 'Loss/regularization_loss': 0.15552206,\n",
            " 'Loss/total_loss': 0.41867822,\n",
            " 'learning_rate': 0.058159623}\n",
            "I1013 19:40:12.752382 139810608101248 model_lib_v2.py:701] {'Loss/classification_loss': 0.15429258,\n",
            " 'Loss/localization_loss': 0.10886359,\n",
            " 'Loss/regularization_loss': 0.15552206,\n",
            " 'Loss/total_loss': 0.41867822,\n",
            " 'learning_rate': 0.058159623}\n",
            "INFO:tensorflow:Step 3200 per-step time 0.415s\n",
            "I1013 19:40:54.210374 139810608101248 model_lib_v2.py:700] Step 3200 per-step time 0.415s\n",
            "INFO:tensorflow:{'Loss/classification_loss': 0.13468498,\n",
            " 'Loss/localization_loss': 0.09845712,\n",
            " 'Loss/regularization_loss': 0.15518567,\n",
            " 'Loss/total_loss': 0.38832778,\n",
            " 'learning_rate': 0.056269463}\n",
            "I1013 19:40:54.210649 139810608101248 model_lib_v2.py:701] {'Loss/classification_loss': 0.13468498,\n",
            " 'Loss/localization_loss': 0.09845712,\n",
            " 'Loss/regularization_loss': 0.15518567,\n",
            " 'Loss/total_loss': 0.38832778,\n",
            " 'learning_rate': 0.056269463}\n",
            "INFO:tensorflow:Step 3300 per-step time 0.415s\n",
            "I1013 19:41:35.732710 139810608101248 model_lib_v2.py:700] Step 3300 per-step time 0.415s\n",
            "INFO:tensorflow:{'Loss/classification_loss': 0.12468186,\n",
            " 'Loss/localization_loss': 0.048056476,\n",
            " 'Loss/regularization_loss': 0.15493788,\n",
            " 'Loss/total_loss': 0.32767624,\n",
            " 'learning_rate': 0.054334715}\n",
            "I1013 19:41:35.733021 139810608101248 model_lib_v2.py:701] {'Loss/classification_loss': 0.12468186,\n",
            " 'Loss/localization_loss': 0.048056476,\n",
            " 'Loss/regularization_loss': 0.15493788,\n",
            " 'Loss/total_loss': 0.32767624,\n",
            " 'learning_rate': 0.054334715}\n",
            "INFO:tensorflow:Step 3400 per-step time 0.416s\n",
            "I1013 19:42:17.298678 139810608101248 model_lib_v2.py:700] Step 3400 per-step time 0.416s\n",
            "INFO:tensorflow:{'Loss/classification_loss': 0.11493806,\n",
            " 'Loss/localization_loss': 0.066889815,\n",
            " 'Loss/regularization_loss': 0.1545624,\n",
            " 'Loss/total_loss': 0.33639026,\n",
            " 'learning_rate': 0.052360676}\n",
            "I1013 19:42:17.298968 139810608101248 model_lib_v2.py:701] {'Loss/classification_loss': 0.11493806,\n",
            " 'Loss/localization_loss': 0.066889815,\n",
            " 'Loss/regularization_loss': 0.1545624,\n",
            " 'Loss/total_loss': 0.33639026,\n",
            " 'learning_rate': 0.052360676}\n",
            "INFO:tensorflow:Step 3500 per-step time 0.413s\n",
            "I1013 19:42:58.624932 139810608101248 model_lib_v2.py:700] Step 3500 per-step time 0.413s\n",
            "INFO:tensorflow:{'Loss/classification_loss': 0.12311057,\n",
            " 'Loss/localization_loss': 0.053293467,\n",
            " 'Loss/regularization_loss': 0.15426786,\n",
            " 'Loss/total_loss': 0.3306719,\n",
            " 'learning_rate': 0.05035276}\n",
            "I1013 19:42:58.625239 139810608101248 model_lib_v2.py:701] {'Loss/classification_loss': 0.12311057,\n",
            " 'Loss/localization_loss': 0.053293467,\n",
            " 'Loss/regularization_loss': 0.15426786,\n",
            " 'Loss/total_loss': 0.3306719,\n",
            " 'learning_rate': 0.05035276}\n",
            "INFO:tensorflow:Step 3600 per-step time 0.415s\n",
            "I1013 19:43:40.099417 139810608101248 model_lib_v2.py:700] Step 3600 per-step time 0.415s\n",
            "INFO:tensorflow:{'Loss/classification_loss': 0.17492613,\n",
            " 'Loss/localization_loss': 0.121774055,\n",
            " 'Loss/regularization_loss': 0.15394977,\n",
            " 'Loss/total_loss': 0.45064995,\n",
            " 'learning_rate': 0.048316464}\n",
            "I1013 19:43:40.099700 139810608101248 model_lib_v2.py:701] {'Loss/classification_loss': 0.17492613,\n",
            " 'Loss/localization_loss': 0.121774055,\n",
            " 'Loss/regularization_loss': 0.15394977,\n",
            " 'Loss/total_loss': 0.45064995,\n",
            " 'learning_rate': 0.048316464}\n",
            "INFO:tensorflow:Step 3700 per-step time 0.414s\n",
            "I1013 19:44:21.518443 139810608101248 model_lib_v2.py:700] Step 3700 per-step time 0.414s\n",
            "INFO:tensorflow:{'Loss/classification_loss': 0.08670291,\n",
            " 'Loss/localization_loss': 0.052171383,\n",
            " 'Loss/regularization_loss': 0.15370816,\n",
            " 'Loss/total_loss': 0.29258245,\n",
            " 'learning_rate': 0.046257377}\n",
            "I1013 19:44:21.518751 139810608101248 model_lib_v2.py:701] {'Loss/classification_loss': 0.08670291,\n",
            " 'Loss/localization_loss': 0.052171383,\n",
            " 'Loss/regularization_loss': 0.15370816,\n",
            " 'Loss/total_loss': 0.29258245,\n",
            " 'learning_rate': 0.046257377}\n",
            "INFO:tensorflow:Step 3800 per-step time 0.416s\n",
            "I1013 19:45:03.108062 139810608101248 model_lib_v2.py:700] Step 3800 per-step time 0.416s\n",
            "INFO:tensorflow:{'Loss/classification_loss': 0.11621037,\n",
            " 'Loss/localization_loss': 0.052008457,\n",
            " 'Loss/regularization_loss': 0.15336154,\n",
            " 'Loss/total_loss': 0.32158035,\n",
            " 'learning_rate': 0.044181135}\n",
            "I1013 19:45:03.108361 139810608101248 model_lib_v2.py:701] {'Loss/classification_loss': 0.11621037,\n",
            " 'Loss/localization_loss': 0.052008457,\n",
            " 'Loss/regularization_loss': 0.15336154,\n",
            " 'Loss/total_loss': 0.32158035,\n",
            " 'learning_rate': 0.044181135}\n",
            "INFO:tensorflow:Step 3900 per-step time 0.414s\n",
            "I1013 19:45:44.524148 139810608101248 model_lib_v2.py:700] Step 3900 per-step time 0.414s\n",
            "INFO:tensorflow:{'Loss/classification_loss': 0.11181413,\n",
            " 'Loss/localization_loss': 0.0449645,\n",
            " 'Loss/regularization_loss': 0.1530131,\n",
            " 'Loss/total_loss': 0.30979174,\n",
            " 'learning_rate': 0.042093433}\n",
            "I1013 19:45:44.524426 139810608101248 model_lib_v2.py:701] {'Loss/classification_loss': 0.11181413,\n",
            " 'Loss/localization_loss': 0.0449645,\n",
            " 'Loss/regularization_loss': 0.1530131,\n",
            " 'Loss/total_loss': 0.30979174,\n",
            " 'learning_rate': 0.042093433}\n",
            "INFO:tensorflow:Step 4000 per-step time 0.414s\n",
            "I1013 19:46:25.950376 139810608101248 model_lib_v2.py:700] Step 4000 per-step time 0.414s\n",
            "INFO:tensorflow:{'Loss/classification_loss': 0.11697091,\n",
            " 'Loss/localization_loss': 0.07625295,\n",
            " 'Loss/regularization_loss': 0.15267749,\n",
            " 'Loss/total_loss': 0.34590137,\n",
            " 'learning_rate': 0.039999995}\n",
            "I1013 19:46:25.950671 139810608101248 model_lib_v2.py:701] {'Loss/classification_loss': 0.11697091,\n",
            " 'Loss/localization_loss': 0.07625295,\n",
            " 'Loss/regularization_loss': 0.15267749,\n",
            " 'Loss/total_loss': 0.34590137,\n",
            " 'learning_rate': 0.039999995}\n",
            "INFO:tensorflow:Step 4100 per-step time 0.418s\n",
            "I1013 19:47:07.719637 139810608101248 model_lib_v2.py:700] Step 4100 per-step time 0.418s\n",
            "INFO:tensorflow:{'Loss/classification_loss': 0.1343081,\n",
            " 'Loss/localization_loss': 0.05451847,\n",
            " 'Loss/regularization_loss': 0.15232398,\n",
            " 'Loss/total_loss': 0.34115052,\n",
            " 'learning_rate': 0.037906557}\n",
            "I1013 19:47:07.719913 139810608101248 model_lib_v2.py:701] {'Loss/classification_loss': 0.1343081,\n",
            " 'Loss/localization_loss': 0.05451847,\n",
            " 'Loss/regularization_loss': 0.15232398,\n",
            " 'Loss/total_loss': 0.34115052,\n",
            " 'learning_rate': 0.037906557}\n"
          ]
        }
      ]
    },
    {
      "cell_type": "markdown",
      "metadata": {
        "id": "ziwKfPuIyN_n"
      },
      "source": [
        "## Launching the Tensorboard"
      ]
    },
    {
      "cell_type": "code",
      "metadata": {
        "id": "rwhGdXMpyQgs"
      },
      "source": [
        "%load_ext tensorboard\n",
        "%tensorboard --logdir '/content/training_demo/models/ssd_mobilenet_v2_fpnlite_640x640_coco17_tpu-8/train/'"
      ],
      "execution_count": null,
      "outputs": []
    },
    {
      "cell_type": "markdown",
      "metadata": {
        "id": "nM0CdkrHyTM4"
      },
      "source": [
        "## Export the Model"
      ]
    },
    {
      "cell_type": "code",
      "metadata": {
        "id": "StP8XwsbyRI1"
      },
      "source": [
        "!python exporter_main_v2.py --input_type image_tensor --pipeline_config_path /content/training_demo/models/ssd_mobilenet_v2_fpnlite_640x640_coco17_tpu-8/pipeline.config --trained_checkpoint_dir /content/training_demo/models/ssd_mobilenet_v2_fpnlite_640x640_coco17_tpu-8 --output_directory /content/training_demo/exported_models/my_model"
      ],
      "execution_count": null,
      "outputs": []
    },
    {
      "cell_type": "code",
      "metadata": {
        "id": "SR6aW_I1BF6p"
      },
      "source": [
        "!cp -r \"/content/training_demo/exported_models/my_model/saved_model\" \"/content/\""
      ],
      "execution_count": null,
      "outputs": []
    },
    {
      "cell_type": "markdown",
      "metadata": {
        "id": "aBmYmnJ1yYwB"
      },
      "source": [
        "## Conver the `saved_model` into TensorFlowJS"
      ]
    },
    {
      "cell_type": "code",
      "metadata": {
        "id": "dKY8EMUbTjIa"
      },
      "source": [
        "mkdir exports"
      ],
      "execution_count": null,
      "outputs": []
    },
    {
      "cell_type": "code",
      "metadata": {
        "id": "nC5dGRuVnwLl"
      },
      "source": [
        "!pip install -q tensorflowjs"
      ],
      "execution_count": null,
      "outputs": []
    },
    {
      "cell_type": "code",
      "metadata": {
        "id": "HshPUpMHydxU"
      },
      "source": [
        "command = \"tensorflowjs_converter --input_format=tf_saved_model --output_node_names='detection_boxes,detection_classes,detection_features,detection_multiclass_scores,detection_scores,num_detections,raw_detection_boxes,raw_detection_scores' --output_format=tfjs_graph_model --signature_name=serving_default /content/saved_model /content/tfjsexport\""
      ],
      "execution_count": null,
      "outputs": []
    },
    {
      "cell_type": "code",
      "metadata": {
        "id": "Rz4rEO4hTvTg"
      },
      "source": [
        "!{command}"
      ],
      "execution_count": null,
      "outputs": []
    },
    {
      "cell_type": "code",
      "metadata": {
        "id": "DB6UuNqIRfTL"
      },
      "source": [
        "!tar -cvf \"/content/web_model.tar\" \"/content/tfjsexport\""
      ],
      "execution_count": null,
      "outputs": []
    },
    {
      "cell_type": "code",
      "metadata": {
        "id": "tj9oMfd8oXAC"
      },
      "source": [
        "!tar -cvf \"/content/saved_model.tar\" \"/content/saved_model\""
      ],
      "execution_count": null,
      "outputs": []
    }
  ]
}